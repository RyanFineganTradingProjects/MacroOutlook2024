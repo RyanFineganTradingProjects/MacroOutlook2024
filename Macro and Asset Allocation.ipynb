{
 "cells": [
  {
   "cell_type": "code",
   "execution_count": 130,
   "metadata": {},
   "outputs": [],
   "source": [
    "import pandas as pd\n",
    "import pandas_datareader.data as web\n",
    "import seaborn\n",
    "from statsmodels.tsa.stattools import coint, adfuller\n",
    "from statsmodels.tsa.stattools import adfuller, kpss, grangercausalitytests\n",
    "from statsmodels.tsa.vector_ar.var_model import VAR\n",
    "import numpy as np\n",
    "import datetime as dt\n",
    "import sqlite3\n",
    "import time\n",
    "import config \n",
    "import statsmodels.tsa.stattools as ts\n",
    "from statsmodels.tsa.vector_ar.vecm import coint_johansen\n",
    "from pandas.plotting import register_matplotlib_converters\n",
    "register_matplotlib_converters()\n",
    "import matplotlib.pyplot as plt\n",
    "%matplotlib inline\n",
    "# from copula import *\n",
    "import plotly.express as px\n",
    "# import ndtest                      \n",
    "import warnings\n",
    "warnings.filterwarnings(\"ignore\")\n",
    "\n",
    "class Macro: \n",
    "    def __init__(self, condition, start, end):\n",
    "        if condition == 1:\n",
    "            self.period1 = start\n",
    "            self.period2 = end\n",
    "        else:\n",
    "            self.period1 = int(time.mktime((dt.datetime.now() - dt.timedelta(365*35)).timetuple()))\n",
    "            self.period2 = int(time.mktime(dt.datetime.now().timetuple()))\n",
    "        \n",
    "        self.fred_start = str(dt.datetime.now() - dt.timedelta(365*35)).split()[0]\n",
    "        self.fred_end = dt.datetime.now()\n",
    "        self.interval = '1d'\n",
    "        self.symbols_list = 'SP500','BAMLC0A4CBBBEY','BAMLC0A1CAAAEY','USALOLITONOSTSAM','DRTSCILM','DRTSCIS','IPMAN','INDPRO','M1V','M2V','MABMM301USA189S', 'WM2NS','QUSR368BIS','UMCSENT','COMREPUSQ159N','W398RC1A027NBEA','FEDFUNDS','PCETRIM12M159SFRBDAL','DGS10','DGS2','EFFR','DGS30','AAA','DBAA','BAMLH0A3HYC','BAMLH0A0HYM2','QBPBSTAS', 'TREAST', 'TREAS1T5','TREAS5T10','TREAS15', 'TCU','ICSA','AWHMAN','NEWORDER','AMTMNO','PERMIT','WEI', 'WSHOTSL', 'WSHOMCB', 'WSHOFADSL', 'WLCFLL', 'WORAL',\"WALCL\", \"WCURCIR\", 'WDTGAL', 'WLRRAL','GCEC1','PCEC96','GDPC1','FRBATLWGTUMHWG83O','PCE','UNRATE','TDSP','PALLFNFINDEXQ','TEMPHELPS','JTSHIR','PSAVERT','FYFSGDA188S','CPILFESL'\n",
    "    \n",
    "    def macro(self):\n",
    "        symbols = []\n",
    "        for ticker in self.symbols_list: \n",
    "            try:\n",
    "                r = web.DataReader(ticker,'fred', self.fred_start, self.fred_end)\n",
    "                r['ticker'] = ticker\n",
    "                symbols.append(r)\n",
    "            except:\n",
    "                msg = 'Failed to read symbol: {0!r}, replacing with NaN.'\n",
    "        try:\n",
    "            connection = sqlite3.connect('tradable_universe')\n",
    "            for i in symbols:\n",
    "                i.columns = 'close','ticker'\n",
    "            final = pd.concat(symbols)\n",
    "            final_df = final.reset_index()\n",
    "            final_df.to_sql(\"macro_signals\",connection, if_exists='replace', index=False)\n",
    "            connection.commit()\n",
    "            connection.close()\n",
    "        except:\n",
    "            print(\"There was an error in uploading the macro table into the sql database\")\n",
    "        return symbols, final_df\n",
    "    \n",
    "    \n",
    "    def ticker_filter(self, ticker, final):\n",
    "        return final[final['ticker']==f\"{ticker}\"]\n",
    "    \n",
    "    def dataframe(self, tickers, final, start, end):\n",
    "        \n",
    "        \"\"\"\n",
    "        Inputs: The tickers you want to filter by and a raw unfiltered data query from trading database. \n",
    "        Outputs: A dataframe with the columns being the names of the selected tickers and the values being \n",
    "        the adjusted adjusted close prices. \n",
    "        \"\"\"\n",
    "        \n",
    "        new_df = []\n",
    "        for ticker in tickers:\n",
    "            new = final[final['ticker']==f\"{ticker}\"]\n",
    "            new_df.append(new)\n",
    "        main = pd.concat(new_df)\n",
    "        df = main.pivot_table(index = main.index, columns = \"ticker\", values = 'close')\n",
    "        return df[start:end]\n",
    "    \n",
    "class Trading:\n",
    "    \n",
    "    def __init__(self, condition, start, end):\n",
    "        if condition == 1:\n",
    "            self.period1 = start\n",
    "            self.period2 = end\n",
    "        else:\n",
    "            self.period1 = int(time.mktime((dt.datetime.now() - dt.timedelta(365*35)).timetuple()))\n",
    "            self.period2 = int(time.mktime(dt.datetime.now().timetuple()))\n",
    "        \n",
    "        self.fred_start = str(dt.datetime.now() - dt.timedelta(365*35)).split()[0]\n",
    "        self.fred_end = dt.datetime.now()\n",
    "        self.interval = '1d'\n",
    "        self.ticker_list = [\"SPY\",\"XLV\",\"VNQ\",\"XLP\",\"XLU\",\"MUB\",\"SPLV\",\"DEF\",\"XLRE\",\"IEF\",\n",
    "                            \"GDXJ\",\"MBB\", \"UUP\",\"IIGD\",\"PINK\",\"IWM\",\"XLP\",\"HG=F\",\"GC=F\",'XLY','^DJT','^SP500-55',\n",
    "                           '^SP500-30','^SP500-25','XLK','^RUT','TLT','GLD','QQQ','GDX','GDXJ','XOP','KRE',\n",
    "                           'XBI','XLF','XLE','XRT','XLI','XHB','XLP','JNK','DIA','XME','SRLN','XLC','XLB','BIL',\n",
    "                           'MDY','KBE','SJNK','CWB','SDY','FEZ','XAR','GNR','KIE','XES','XSW','XSD','GXC','SPEM',\n",
    "                           'SPDW','XTN','SPMB','SLYV','EFIV','EFAX','MDYV'] \n",
    "    \n",
    "    def yahoo_universe(self):\n",
    "        web3 = []\n",
    "        failed = []\n",
    "        for security in self.ticker_list:\n",
    "            try:                                                    \n",
    "                interval = '1d' \n",
    "                query_string = f'https://query1.finance.yahoo.com/v7/finance/download/{security}?period1={self.period1}&period2={self.period2}&interval={self.interval}&events=history&includeAdjustedClose=true'\n",
    "                df = pd.read_csv(query_string).set_index(\"Date\")\n",
    "                df['ticker'] = security\n",
    "                df.columns = ['Open', 'High', 'Low','Close','Adj Close','Volume','ticker']\n",
    "                web3.append(df)\n",
    "            except:\n",
    "                failed.append(security)                                                \n",
    "                pass\n",
    "            final = pd.concat(web3)\n",
    "            df_final = final.reset_index()\n",
    "        return df_final, web3, failed\n",
    "\n",
    "    \n",
    "    def trading_sql(self, data_file):\n",
    "        try:\n",
    "            conn = sqlite3.connect('tradable_universe') \n",
    "            data_file.to_sql(\"consensusinvestable\", conn, if_exists='replace', index = False)\n",
    "            conn.commit()\n",
    "            conn.close()\n",
    "            print(\"Updating the sql table was a success\")\n",
    "        except:\n",
    "            print(\"Was unsuccessful in uploading the dataframe into the datatable. \")\n",
    "    \n",
    "    \n",
    "    def to_trading_sql(self, data):\n",
    "        \n",
    "        \"\"\"\n",
    "        Inputs: dataframe you want to upload\n",
    "        Outputs: saves SQL table to the investable database \n",
    "        \"\"\"\n",
    "        \n",
    "        try:\n",
    "            connection = sqlite3.connect(config.db_file)\n",
    "            data.to_sql(\"consensusinvestable\", connection, if_exists='replace', index=False)\n",
    "            connection.commit()\n",
    "            connection.close()\n",
    "            print(\"Uploading dataframe to database worked successfully.\")\n",
    "        except:\n",
    "            print(\"Was unable to save the dataframe into the investable datatable.\")\n",
    "\n",
    "    \n",
    "    def load_sql(self):\n",
    "        try:\n",
    "            conn = sqlite3.connect('tradable_universe') \n",
    "            df = pd.read_sql_query(\"SELECT * from consensusinvestable\", conn)\n",
    "            conn.commit()\n",
    "            conn.close()\n",
    "        except:\n",
    "            print(\"Could not retrieve the datatable. \")\n",
    "        return df\n",
    "    \n",
    "    \n",
    "    def ticker_filter(self, ticker, final):\n",
    "        return final[final['ticker']==f\"{ticker}\"]\n",
    "    \n",
    "    \n",
    "    def dataframe(self, tickers, final, start, end):\n",
    "        \n",
    "        \"\"\"\n",
    "        Inputs: The tickers you want to filter by and a raw unfiltered data query from trading database. \n",
    "        Outputs: A dataframe with the columns being the names of the selected tickers and the values being \n",
    "        the adjusted adjusted close prices. \n",
    "        \"\"\"\n",
    "        \n",
    "        new_df = []\n",
    "        for ticker in tickers:\n",
    "            new = final[final['ticker']==f\"{ticker}\"]\n",
    "            new_df.append(new)\n",
    "        main = pd.concat(new_df)\n",
    "        df = main.pivot_table(index = main.index, columns = \"ticker\", values = 'Adj Close')\n",
    "        return df[start:end]\n"
   ]
  },
  {
   "cell_type": "code",
   "execution_count": 131,
   "metadata": {},
   "outputs": [],
   "source": [
    "i = Macro(0, '2010-01-01','2023-05-01')"
   ]
  },
  {
   "cell_type": "code",
   "execution_count": 132,
   "metadata": {},
   "outputs": [],
   "source": [
    "inst = i.macro()\n",
    "data = inst[1]"
   ]
  },
  {
   "cell_type": "code",
   "execution_count": 143,
   "metadata": {},
   "outputs": [
    {
     "data": {
      "text/html": [
       "<div>\n",
       "<style scoped>\n",
       "    .dataframe tbody tr th:only-of-type {\n",
       "        vertical-align: middle;\n",
       "    }\n",
       "\n",
       "    .dataframe tbody tr th {\n",
       "        vertical-align: top;\n",
       "    }\n",
       "\n",
       "    .dataframe thead th {\n",
       "        text-align: right;\n",
       "    }\n",
       "</style>\n",
       "<table border=\"1\" class=\"dataframe\">\n",
       "  <thead>\n",
       "    <tr style=\"text-align: right;\">\n",
       "      <th>ticker</th>\n",
       "      <th>BofA AAA US Corp Eff Yield</th>\n",
       "      <th>BofA BBB US Corp Eff Yield</th>\n",
       "      <th>BofA US HY OAS</th>\n",
       "      <th>BofA CCC US HY OAS</th>\n",
       "      <th>DBAA</th>\n",
       "      <th>DGS10</th>\n",
       "      <th>DGS2</th>\n",
       "      <th>DGS30</th>\n",
       "      <th>EFFR</th>\n",
       "      <th>SP500</th>\n",
       "      <th>WALCL</th>\n",
       "      <th>WCURCIR</th>\n",
       "      <th>TGA</th>\n",
       "      <th>WEI</th>\n",
       "      <th>Loans</th>\n",
       "      <th>RRP</th>\n",
       "      <th>Repos Fed</th>\n",
       "      <th>Fed Agencies</th>\n",
       "      <th>MBS Fed</th>\n",
       "      <th>SOMA</th>\n",
       "      <th>10s2s</th>\n",
       "      <th>Corporate Spread</th>\n",
       "      <th>2sFedFunds</th>\n",
       "    </tr>\n",
       "    <tr>\n",
       "      <th>DATE</th>\n",
       "      <th></th>\n",
       "      <th></th>\n",
       "      <th></th>\n",
       "      <th></th>\n",
       "      <th></th>\n",
       "      <th></th>\n",
       "      <th></th>\n",
       "      <th></th>\n",
       "      <th></th>\n",
       "      <th></th>\n",
       "      <th></th>\n",
       "      <th></th>\n",
       "      <th></th>\n",
       "      <th></th>\n",
       "      <th></th>\n",
       "      <th></th>\n",
       "      <th></th>\n",
       "      <th></th>\n",
       "      <th></th>\n",
       "      <th></th>\n",
       "      <th></th>\n",
       "      <th></th>\n",
       "      <th></th>\n",
       "    </tr>\n",
       "  </thead>\n",
       "  <tbody>\n",
       "    <tr>\n",
       "      <th>2014-01-16</th>\n",
       "      <td>2.81</td>\n",
       "      <td>3.79</td>\n",
       "      <td>3.88</td>\n",
       "      <td>7.23</td>\n",
       "      <td>5.18</td>\n",
       "      <td>2.86</td>\n",
       "      <td>0.41</td>\n",
       "      <td>3.77</td>\n",
       "      <td>0.07</td>\n",
       "      <td>1845.89</td>\n",
       "      <td>4071528.0</td>\n",
       "      <td>1229.185</td>\n",
       "      <td>87926.0</td>\n",
       "      <td>1.47</td>\n",
       "      <td>115.0</td>\n",
       "      <td>156266.0</td>\n",
       "      <td>0.0</td>\n",
       "      <td>54911.0</td>\n",
       "      <td>1525204.0</td>\n",
       "      <td>2220953.0</td>\n",
       "      <td>2.45</td>\n",
       "      <td>0.98</td>\n",
       "      <td>0.34</td>\n",
       "    </tr>\n",
       "    <tr>\n",
       "      <th>2014-01-23</th>\n",
       "      <td>2.76</td>\n",
       "      <td>3.75</td>\n",
       "      <td>3.92</td>\n",
       "      <td>7.29</td>\n",
       "      <td>5.11</td>\n",
       "      <td>2.79</td>\n",
       "      <td>0.39</td>\n",
       "      <td>3.68</td>\n",
       "      <td>0.07</td>\n",
       "      <td>1828.46</td>\n",
       "      <td>4097914.0</td>\n",
       "      <td>1226.257</td>\n",
       "      <td>96724.0</td>\n",
       "      <td>1.55</td>\n",
       "      <td>121.0</td>\n",
       "      <td>201954.0</td>\n",
       "      <td>0.0</td>\n",
       "      <td>54911.0</td>\n",
       "      <td>1539467.0</td>\n",
       "      <td>2231430.0</td>\n",
       "      <td>2.40</td>\n",
       "      <td>0.99</td>\n",
       "      <td>0.32</td>\n",
       "    </tr>\n",
       "    <tr>\n",
       "      <th>2014-01-30</th>\n",
       "      <td>2.71</td>\n",
       "      <td>3.74</td>\n",
       "      <td>4.12</td>\n",
       "      <td>7.59</td>\n",
       "      <td>5.08</td>\n",
       "      <td>2.72</td>\n",
       "      <td>0.36</td>\n",
       "      <td>3.65</td>\n",
       "      <td>0.07</td>\n",
       "      <td>1794.19</td>\n",
       "      <td>4102138.0</td>\n",
       "      <td>1224.839</td>\n",
       "      <td>95632.0</td>\n",
       "      <td>2.07</td>\n",
       "      <td>127.0</td>\n",
       "      <td>195428.0</td>\n",
       "      <td>0.0</td>\n",
       "      <td>54911.0</td>\n",
       "      <td>1532224.0</td>\n",
       "      <td>2243176.0</td>\n",
       "      <td>2.36</td>\n",
       "      <td>1.03</td>\n",
       "      <td>0.29</td>\n",
       "    </tr>\n",
       "    <tr>\n",
       "      <th>2014-02-06</th>\n",
       "      <td>2.73</td>\n",
       "      <td>3.77</td>\n",
       "      <td>4.21</td>\n",
       "      <td>7.78</td>\n",
       "      <td>5.13</td>\n",
       "      <td>2.73</td>\n",
       "      <td>0.33</td>\n",
       "      <td>3.67</td>\n",
       "      <td>0.07</td>\n",
       "      <td>1773.43</td>\n",
       "      <td>4109285.0</td>\n",
       "      <td>1228.635</td>\n",
       "      <td>77423.0</td>\n",
       "      <td>1.97</td>\n",
       "      <td>103.0</td>\n",
       "      <td>196114.0</td>\n",
       "      <td>0.0</td>\n",
       "      <td>51411.0</td>\n",
       "      <td>1532231.0</td>\n",
       "      <td>2252973.0</td>\n",
       "      <td>2.40</td>\n",
       "      <td>1.04</td>\n",
       "      <td>0.26</td>\n",
       "    </tr>\n",
       "    <tr>\n",
       "      <th>2014-02-13</th>\n",
       "      <td>2.72</td>\n",
       "      <td>3.72</td>\n",
       "      <td>4.07</td>\n",
       "      <td>7.59</td>\n",
       "      <td>5.12</td>\n",
       "      <td>2.73</td>\n",
       "      <td>0.32</td>\n",
       "      <td>3.70</td>\n",
       "      <td>0.06</td>\n",
       "      <td>1829.83</td>\n",
       "      <td>4119474.0</td>\n",
       "      <td>1231.756</td>\n",
       "      <td>32564.0</td>\n",
       "      <td>1.81</td>\n",
       "      <td>101.0</td>\n",
       "      <td>192072.0</td>\n",
       "      <td>0.0</td>\n",
       "      <td>51411.0</td>\n",
       "      <td>1532242.0</td>\n",
       "      <td>2261099.0</td>\n",
       "      <td>2.41</td>\n",
       "      <td>1.00</td>\n",
       "      <td>0.26</td>\n",
       "    </tr>\n",
       "    <tr>\n",
       "      <th>...</th>\n",
       "      <td>...</td>\n",
       "      <td>...</td>\n",
       "      <td>...</td>\n",
       "      <td>...</td>\n",
       "      <td>...</td>\n",
       "      <td>...</td>\n",
       "      <td>...</td>\n",
       "      <td>...</td>\n",
       "      <td>...</td>\n",
       "      <td>...</td>\n",
       "      <td>...</td>\n",
       "      <td>...</td>\n",
       "      <td>...</td>\n",
       "      <td>...</td>\n",
       "      <td>...</td>\n",
       "      <td>...</td>\n",
       "      <td>...</td>\n",
       "      <td>...</td>\n",
       "      <td>...</td>\n",
       "      <td>...</td>\n",
       "      <td>...</td>\n",
       "      <td>...</td>\n",
       "      <td>...</td>\n",
       "    </tr>\n",
       "    <tr>\n",
       "      <th>2023-12-14</th>\n",
       "      <td>4.49</td>\n",
       "      <td>5.41</td>\n",
       "      <td>3.47</td>\n",
       "      <td>9.03</td>\n",
       "      <td>5.49</td>\n",
       "      <td>3.92</td>\n",
       "      <td>4.37</td>\n",
       "      <td>4.03</td>\n",
       "      <td>5.33</td>\n",
       "      <td>4719.55</td>\n",
       "      <td>7739566.0</td>\n",
       "      <td>2330.909</td>\n",
       "      <td>630618.0</td>\n",
       "      <td>1.99</td>\n",
       "      <td>129574.0</td>\n",
       "      <td>1152232.0</td>\n",
       "      <td>7.0</td>\n",
       "      <td>2347.0</td>\n",
       "      <td>2446901.0</td>\n",
       "      <td>4809734.0</td>\n",
       "      <td>-0.45</td>\n",
       "      <td>0.92</td>\n",
       "      <td>-0.96</td>\n",
       "    </tr>\n",
       "    <tr>\n",
       "      <th>2023-12-21</th>\n",
       "      <td>4.53</td>\n",
       "      <td>5.41</td>\n",
       "      <td>3.41</td>\n",
       "      <td>8.73</td>\n",
       "      <td>5.53</td>\n",
       "      <td>3.89</td>\n",
       "      <td>4.33</td>\n",
       "      <td>4.03</td>\n",
       "      <td>5.33</td>\n",
       "      <td>4746.75</td>\n",
       "      <td>7724063.0</td>\n",
       "      <td>2331.997</td>\n",
       "      <td>732721.0</td>\n",
       "      <td>1.88</td>\n",
       "      <td>137262.0</td>\n",
       "      <td>1124202.0</td>\n",
       "      <td>0.0</td>\n",
       "      <td>2347.0</td>\n",
       "      <td>2443492.0</td>\n",
       "      <td>4792329.0</td>\n",
       "      <td>-0.44</td>\n",
       "      <td>0.88</td>\n",
       "      <td>-1.00</td>\n",
       "    </tr>\n",
       "    <tr>\n",
       "      <th>2023-12-28</th>\n",
       "      <td>4.49</td>\n",
       "      <td>5.34</td>\n",
       "      <td>3.32</td>\n",
       "      <td>8.57</td>\n",
       "      <td>5.46</td>\n",
       "      <td>3.84</td>\n",
       "      <td>4.26</td>\n",
       "      <td>3.98</td>\n",
       "      <td>5.33</td>\n",
       "      <td>4783.35</td>\n",
       "      <td>7712781.0</td>\n",
       "      <td>2340.523</td>\n",
       "      <td>713064.0</td>\n",
       "      <td>2.30</td>\n",
       "      <td>141785.0</td>\n",
       "      <td>1165574.0</td>\n",
       "      <td>0.0</td>\n",
       "      <td>2347.0</td>\n",
       "      <td>2431773.0</td>\n",
       "      <td>4790547.0</td>\n",
       "      <td>-0.42</td>\n",
       "      <td>0.85</td>\n",
       "      <td>-1.07</td>\n",
       "    </tr>\n",
       "    <tr>\n",
       "      <th>2024-01-04</th>\n",
       "      <td>4.66</td>\n",
       "      <td>5.51</td>\n",
       "      <td>3.69</td>\n",
       "      <td>9.54</td>\n",
       "      <td>5.64</td>\n",
       "      <td>3.99</td>\n",
       "      <td>4.38</td>\n",
       "      <td>4.13</td>\n",
       "      <td>5.33</td>\n",
       "      <td>4688.68</td>\n",
       "      <td>7681024.0</td>\n",
       "      <td>2347.775</td>\n",
       "      <td>743464.0</td>\n",
       "      <td>1.91</td>\n",
       "      <td>146820.0</td>\n",
       "      <td>1085975.0</td>\n",
       "      <td>0.0</td>\n",
       "      <td>2347.0</td>\n",
       "      <td>2431773.0</td>\n",
       "      <td>4753330.0</td>\n",
       "      <td>-0.39</td>\n",
       "      <td>0.85</td>\n",
       "      <td>-0.95</td>\n",
       "    </tr>\n",
       "    <tr>\n",
       "      <th>2024-01-11</th>\n",
       "      <td>4.56</td>\n",
       "      <td>5.40</td>\n",
       "      <td>3.55</td>\n",
       "      <td>9.40</td>\n",
       "      <td>5.61</td>\n",
       "      <td>3.98</td>\n",
       "      <td>4.26</td>\n",
       "      <td>4.18</td>\n",
       "      <td>5.33</td>\n",
       "      <td>4780.24</td>\n",
       "      <td>7686710.0</td>\n",
       "      <td>2343.923</td>\n",
       "      <td>727856.0</td>\n",
       "      <td>2.94</td>\n",
       "      <td>152694.0</td>\n",
       "      <td>1041144.0</td>\n",
       "      <td>0.0</td>\n",
       "      <td>2347.0</td>\n",
       "      <td>2431773.0</td>\n",
       "      <td>4751515.0</td>\n",
       "      <td>-0.28</td>\n",
       "      <td>0.84</td>\n",
       "      <td>-1.07</td>\n",
       "    </tr>\n",
       "  </tbody>\n",
       "</table>\n",
       "<p>520 rows × 23 columns</p>\n",
       "</div>"
      ],
      "text/plain": [
       "ticker      BofA AAA US Corp Eff Yield  BofA BBB US Corp Eff Yield  \\\n",
       "DATE                                                                 \n",
       "2014-01-16                        2.81                        3.79   \n",
       "2014-01-23                        2.76                        3.75   \n",
       "2014-01-30                        2.71                        3.74   \n",
       "2014-02-06                        2.73                        3.77   \n",
       "2014-02-13                        2.72                        3.72   \n",
       "...                                ...                         ...   \n",
       "2023-12-14                        4.49                        5.41   \n",
       "2023-12-21                        4.53                        5.41   \n",
       "2023-12-28                        4.49                        5.34   \n",
       "2024-01-04                        4.66                        5.51   \n",
       "2024-01-11                        4.56                        5.40   \n",
       "\n",
       "ticker      BofA US HY OAS  BofA CCC US HY OAS  DBAA  DGS10  DGS2  DGS30  \\\n",
       "DATE                                                                       \n",
       "2014-01-16            3.88                7.23  5.18   2.86  0.41   3.77   \n",
       "2014-01-23            3.92                7.29  5.11   2.79  0.39   3.68   \n",
       "2014-01-30            4.12                7.59  5.08   2.72  0.36   3.65   \n",
       "2014-02-06            4.21                7.78  5.13   2.73  0.33   3.67   \n",
       "2014-02-13            4.07                7.59  5.12   2.73  0.32   3.70   \n",
       "...                    ...                 ...   ...    ...   ...    ...   \n",
       "2023-12-14            3.47                9.03  5.49   3.92  4.37   4.03   \n",
       "2023-12-21            3.41                8.73  5.53   3.89  4.33   4.03   \n",
       "2023-12-28            3.32                8.57  5.46   3.84  4.26   3.98   \n",
       "2024-01-04            3.69                9.54  5.64   3.99  4.38   4.13   \n",
       "2024-01-11            3.55                9.40  5.61   3.98  4.26   4.18   \n",
       "\n",
       "ticker      EFFR    SP500      WALCL   WCURCIR       TGA   WEI     Loans  \\\n",
       "DATE                                                                       \n",
       "2014-01-16  0.07  1845.89  4071528.0  1229.185   87926.0  1.47     115.0   \n",
       "2014-01-23  0.07  1828.46  4097914.0  1226.257   96724.0  1.55     121.0   \n",
       "2014-01-30  0.07  1794.19  4102138.0  1224.839   95632.0  2.07     127.0   \n",
       "2014-02-06  0.07  1773.43  4109285.0  1228.635   77423.0  1.97     103.0   \n",
       "2014-02-13  0.06  1829.83  4119474.0  1231.756   32564.0  1.81     101.0   \n",
       "...          ...      ...        ...       ...       ...   ...       ...   \n",
       "2023-12-14  5.33  4719.55  7739566.0  2330.909  630618.0  1.99  129574.0   \n",
       "2023-12-21  5.33  4746.75  7724063.0  2331.997  732721.0  1.88  137262.0   \n",
       "2023-12-28  5.33  4783.35  7712781.0  2340.523  713064.0  2.30  141785.0   \n",
       "2024-01-04  5.33  4688.68  7681024.0  2347.775  743464.0  1.91  146820.0   \n",
       "2024-01-11  5.33  4780.24  7686710.0  2343.923  727856.0  2.94  152694.0   \n",
       "\n",
       "ticker            RRP  Repos Fed  Fed Agencies    MBS Fed       SOMA  10s2s  \\\n",
       "DATE                                                                          \n",
       "2014-01-16   156266.0        0.0       54911.0  1525204.0  2220953.0   2.45   \n",
       "2014-01-23   201954.0        0.0       54911.0  1539467.0  2231430.0   2.40   \n",
       "2014-01-30   195428.0        0.0       54911.0  1532224.0  2243176.0   2.36   \n",
       "2014-02-06   196114.0        0.0       51411.0  1532231.0  2252973.0   2.40   \n",
       "2014-02-13   192072.0        0.0       51411.0  1532242.0  2261099.0   2.41   \n",
       "...               ...        ...           ...        ...        ...    ...   \n",
       "2023-12-14  1152232.0        7.0        2347.0  2446901.0  4809734.0  -0.45   \n",
       "2023-12-21  1124202.0        0.0        2347.0  2443492.0  4792329.0  -0.44   \n",
       "2023-12-28  1165574.0        0.0        2347.0  2431773.0  4790547.0  -0.42   \n",
       "2024-01-04  1085975.0        0.0        2347.0  2431773.0  4753330.0  -0.39   \n",
       "2024-01-11  1041144.0        0.0        2347.0  2431773.0  4751515.0  -0.28   \n",
       "\n",
       "ticker      Corporate Spread  2sFedFunds  \n",
       "DATE                                      \n",
       "2014-01-16              0.98        0.34  \n",
       "2014-01-23              0.99        0.32  \n",
       "2014-01-30              1.03        0.29  \n",
       "2014-02-06              1.04        0.26  \n",
       "2014-02-13              1.00        0.26  \n",
       "...                      ...         ...  \n",
       "2023-12-14              0.92       -0.96  \n",
       "2023-12-21              0.88       -1.00  \n",
       "2023-12-28              0.85       -1.07  \n",
       "2024-01-04              0.85       -0.95  \n",
       "2024-01-11              0.84       -1.07  \n",
       "\n",
       "[520 rows x 23 columns]"
      ]
     },
     "execution_count": 143,
     "metadata": {},
     "output_type": "execute_result"
    }
   ],
   "source": [
    "tickers = ['T10Y2Y','BAMLC0A4CBBBEY','BAMLC0A1CAAAEY',\n",
    "        'DGS10','DGS2','EFFR','DGS30', \n",
    "        'DBAA','BAMLH0A3HYC','BAMLH0A0HYM2','WEI',\n",
    "          'WSHOTSL', 'WSHOMCB', 'WSHOFADSL', 'WLCFLL', 'WORAL',\"WALCL\", \"WCURCIR\", 'WDTGAL','WLRRAL','SP500']\n",
    "\n",
    "\n",
    "start = '1990-01-02'\n",
    "end = dt.datetime.now()\n",
    "fwd = i.dataframe(tickers, data.set_index(\"DATE\"), start, end)\n",
    "fwd['WEI'] = fwd['WEI'].shift(3)    # shift it 3 days because this actually comes out on Thursday, not Saturday\n",
    "\n",
    "### h.4.1 data comes out every Wednesday, but will shift to Thursday to match frequency of WEI\n",
    "\n",
    "fwd['WSHOTSL'] = fwd['WSHOTSL'].shift(1)     # total face value of U.S. Treasury securities held by the Federal Reserve\n",
    "fwd['WSHOMCB'] = fwd['WSHOMCB'].shift(1)     # The current face value of mortgage-backed obligations held by Fed\n",
    "fwd['WSHOFADSL'] = fwd['WSHOFADSL'].shift(1) # The current face value of federal agency obligations\n",
    "fwd['WALCL'] = fwd['WALCL'].shift(1)         # Total Assets (Less Eliminations from Consolidation):\n",
    "fwd['WCURCIR'] = fwd['WCURCIR'].shift(1)     # Currency in circulation includes paper currency and coin held both by the public and in the vaults of depository institutions. \n",
    "fwd['WLCFLL'] = fwd['WLCFLL'].shift(1)       # Loans is the sum of \"Primary credit,\" \"Secondary credit,\" \"Seasonal credit,\" \"Term Asset-Backed Securities Loan Facility,\" and \"Other credit extensions\".\n",
    "fwd['WORAL'] = fwd['WORAL'].shift(1)         # Repurchase agreements reflect some of the Federal Reserve's temporary open market operations.\n",
    "fwd['10s2s'] = fwd['DGS10'] - fwd['DGS2']\n",
    "fwd['Corporate Spread'] = fwd['BAMLC0A4CBBBEY']-fwd['BAMLC0A1CAAAEY']\n",
    "fwd['2sFedFunds'] = fwd['DGS2'] - fwd['EFFR']\n",
    "fwd1 = fwd.reset_index()\n",
    "\n",
    "### Weekly Resample - Thursday\n",
    "\n",
    "fwd2 = fwd.resample('W-Thu').last().reset_index()\n",
    "fwd_rates = fwd['2002':'2022'].dropna()\n",
    "\n",
    "fwd2 = fwd2.rename(columns={'BAMLH0A3HYC':'BofA CCC US HY OAS', 'BAMLH0A0HYM2':'BofA US HY OAS', 'BAMLC0A4CBBBEY':'BofA BBB US Corp Eff Yield', \n",
    "                     'BAMLC0A1CAAAEY':'BofA AAA US Corp Eff Yield', \n",
    "                     'WSHOTSL': 'SOMA', 'WSHOMCB': 'MBS Fed',\n",
    "                     'WSHOFADSL': 'Fed Agencies', 'WLCFLL': 'Loans','WORAL': 'Repos Fed',\n",
    "                     'WDTGAL': 'TGA','WLRRAL':'RRP'})\n",
    "\n",
    "\n",
    "fwd2 = fwd2.dropna().set_index(\"DATE\")\n",
    "pd.set_option('display.max_columns', None)\n",
    "fwd_pct = fwd2.pct_change()\n",
    "fwd2"
   ]
  },
  {
   "attachments": {},
   "cell_type": "markdown",
   "metadata": {},
   "source": [
    "Monetary Policy and SPX Levels"
   ]
  },
  {
   "cell_type": "code",
   "execution_count": 144,
   "metadata": {},
   "outputs": [
    {
     "data": {
      "text/plain": [
       "<Axes: xlabel='DATE'>"
      ]
     },
     "execution_count": 144,
     "metadata": {},
     "output_type": "execute_result"
    },
    {
     "data": {
      "image/png": "[encoded data removed]",
      "text/plain": [
       "<Figure size 640x480 with 1 Axes>"
      ]
     },
     "metadata": {},
     "output_type": "display_data"
    }
   ],
   "source": [
    "fwd2['Liquidity'] = fwd2['SOMA'] - fwd2['TGA'] - fwd2['RRP']\n",
    "fed = fwd2[['Liquidity','SOMA','RRP','TGA','SP500','WCURCIR']]['2019':]\n",
    "fed_pct = fed.pct_change().dropna()\n",
    "fed_norm = (1 + fed_pct).cumprod() - 1\n",
    "fed_norm[['Liquidity','SP500']]['2022':].plot()"
   ]
  },
  {
   "cell_type": "code",
   "execution_count": 145,
   "metadata": {},
   "outputs": [
    {
     "data": {
      "image/png": "[encoded data removed]",
      "text/plain": [
       "<Figure size 2000x1000 with 1 Axes>"
      ]
     },
     "metadata": {},
     "output_type": "display_data"
    }
   ],
   "source": [
    "ax = fed_norm[[\"SP500\",\"Liquidity\"]]['2022':].plot.area(figsize=(20,10), grid=True, title=\"Monetary Policy V SPX\",\n",
    "                          xlabel='Date', rot=45,\n",
    "                          ylabel=\"Normalized Levels\") \n",
    "_ = ax.set_xticklabels(list(map('{:%Y-%m}'.format, fed_norm['2022':].index)))\n"
   ]
  },
  {
   "cell_type": "code",
   "execution_count": 146,
   "metadata": {},
   "outputs": [
    {
     "data": {
      "application/vnd.plotly.v1+json": {
       "config": {
        "plotlyServerURL": "https://plot.ly"
       },
       "data": [
        {
         "hovertemplate": "variable=Last Week Liquidity<br>DATE=%{x|%B %d, %Y}<br>value=%{y}<extra></extra>",
         "legendgroup": "Last Week Liquidity",
         "line": {
          "color": "#636efa",
          "dash": "solid"
         },
         "marker": {
          "symbol": "circle"
         },
         "mode": "lines",
         "name": "Last Week Liquidity",
         "orientation": "v",
         "showlegend": true,
         "type": "scatter",
         "x": [
          "2022-01-06T00:00:00",
          "2022-01-13T00:00:00",
          "2022-01-20T00:00:00",
          "2022-01-27T00:00:00",
          "2022-02-03T00:00:00",
          "2022-02-10T00:00:00",
          "2022-02-17T00:00:00",
          "2022-02-24T00:00:00",
          "2022-03-03T00:00:00",
          "2022-03-10T00:00:00",
          "2022-03-17T00:00:00",
          "2022-03-24T00:00:00",
          "2022-03-31T00:00:00",
          "2022-04-07T00:00:00",
          "2022-04-14T00:00:00",
          "2022-04-21T00:00:00",
          "2022-04-28T00:00:00",
          "2022-05-05T00:00:00",
          "2022-05-12T00:00:00",
          "2022-05-19T00:00:00",
          "2022-05-26T00:00:00",
          "2022-06-02T00:00:00",
          "2022-06-09T00:00:00",
          "2022-06-16T00:00:00",
          "2022-06-23T00:00:00",
          "2022-06-30T00:00:00",
          "2022-07-07T00:00:00",
          "2022-07-14T00:00:00",
          "2022-07-21T00:00:00",
          "2022-07-28T00:00:00",
          "2022-08-04T00:00:00",
          "2022-08-11T00:00:00",
          "2022-08-18T00:00:00",
          "2022-08-25T00:00:00",
          "2022-09-01T00:00:00",
          "2022-09-08T00:00:00",
          "2022-09-15T00:00:00",
          "2022-09-22T00:00:00",
          "2022-09-29T00:00:00",
          "2022-10-06T00:00:00",
          "2022-10-13T00:00:00",
          "2022-10-20T00:00:00",
          "2022-10-27T00:00:00",
          "2022-11-03T00:00:00",
          "2022-11-10T00:00:00",
          "2022-11-17T00:00:00",
          "2022-11-24T00:00:00",
          "2022-12-01T00:00:00",
          "2022-12-08T00:00:00",
          "2022-12-15T00:00:00",
          "2022-12-22T00:00:00",
          "2022-12-29T00:00:00",
          "2023-01-05T00:00:00",
          "2023-01-12T00:00:00",
          "2023-01-19T00:00:00",
          "2023-01-26T00:00:00",
          "2023-02-02T00:00:00",
          "2023-02-09T00:00:00",
          "2023-02-16T00:00:00",
          "2023-02-23T00:00:00",
          "2023-03-02T00:00:00",
          "2023-03-09T00:00:00",
          "2023-03-16T00:00:00",
          "2023-03-23T00:00:00",
          "2023-03-30T00:00:00",
          "2023-04-06T00:00:00",
          "2023-04-13T00:00:00",
          "2023-04-20T00:00:00",
          "2023-04-27T00:00:00",
          "2023-05-04T00:00:00",
          "2023-05-11T00:00:00",
          "2023-05-18T00:00:00",
          "2023-05-25T00:00:00",
          "2023-06-01T00:00:00",
          "2023-06-08T00:00:00",
          "2023-06-15T00:00:00",
          "2023-06-22T00:00:00",
          "2023-06-29T00:00:00",
          "2023-07-06T00:00:00",
          "2023-07-13T00:00:00",
          "2023-07-20T00:00:00",
          "2023-07-27T00:00:00",
          "2023-08-03T00:00:00",
          "2023-08-10T00:00:00",
          "2023-08-17T00:00:00",
          "2023-08-24T00:00:00",
          "2023-08-31T00:00:00",
          "2023-09-07T00:00:00",
          "2023-09-14T00:00:00",
          "2023-09-21T00:00:00",
          "2023-09-28T00:00:00",
          "2023-10-05T00:00:00",
          "2023-10-12T00:00:00",
          "2023-10-19T00:00:00",
          "2023-10-26T00:00:00",
          "2023-11-02T00:00:00",
          "2023-11-09T00:00:00",
          "2023-11-16T00:00:00",
          "2023-11-23T00:00:00",
          "2023-11-30T00:00:00",
          "2023-12-07T00:00:00",
          "2023-12-14T00:00:00",
          "2023-12-21T00:00:00",
          "2023-12-28T00:00:00",
          "2024-01-04T00:00:00",
          "2024-01-11T00:00:00"
         ],
         "xaxis": "x",
         "y": [
          1.204971260122278,
          1.1943630568970924,
          1.131754446894067,
          1.0142992644100741,
          1.037347450315222,
          0.9899309692889138,
          1.0114742051042955,
          1.0005641164382393,
          0.9660097460388744,
          1.1029410165736402,
          1.147588722020434,
          1.0927971540901336,
          1.0007105820440856,
          1.0226682707528663,
          1.0721557370705739,
          1.0135413528689043,
          0.7212791500134004,
          0.7365007000288466,
          0.7283350826059634,
          0.7093182185944815,
          0.7010943986819387,
          0.7329516273352161,
          0.7650474222373178,
          0.716133666174825,
          0.6445011119233888,
          0.6003420515546152,
          0.6091012064544654,
          0.6730024233981695,
          0.7166203924894496,
          0.6515461715233777,
          0.6849377713051503,
          0.7298943976585981,
          0.7356705150664509,
          0.7218016932447386,
          0.7115829989888127,
          0.5969240943596681,
          0.6935907546304567,
          0.6260528414647337,
          0.5172717487033966,
          0.5168713667415634,
          0.57783111940017,
          0.5772113588234664,
          0.5348066877858568,
          0.5881265641919107,
          0.5620499300610753,
          0.5770968726075429,
          0.6544697273501183,
          0.6708367791125984,
          0.590454663778289,
          0.6527549924624585,
          0.6758543453914827,
          0.6013653920321436,
          0.5758631077443215,
          0.609361518688436,
          0.6387480196762791,
          0.6347608293407065,
          0.5655548711966112,
          0.5875790770364315,
          0.5876187314799357,
          0.6388797747627608,
          0.5616348375798765,
          0.5890693166068333,
          0.5758592702175303,
          0.6809377892136077,
          0.5856251363121496,
          0.6207174000500157,
          0.6246783672858514,
          0.6102473477892965,
          0.4925625532856581,
          0.49069623608976465,
          0.5308047869309185,
          0.5670924402640984,
          0.6166547383542254,
          0.621023762605476,
          0.5990001963534541,
          0.6477355074201778,
          0.6554598092621267,
          0.5883120446534615,
          0.5763587882881238,
          0.5786792128209208,
          0.5600102845717987,
          0.5905972918573434,
          0.5760140504647562,
          0.6083650408984416,
          0.6115412339055721,
          0.6147001580421447,
          0.5848659455953824,
          0.6039672351962604,
          0.6674316136736194,
          0.6689922079018511,
          0.5953308811537137,
          0.6187244444700277,
          0.6753593044354771,
          0.7177761276412575,
          0.6779112597513153,
          0.7021785000003196,
          0.7416474630430179,
          0.7688427362333523,
          0.8577914905401767,
          0.8408935809049785,
          0.8135179439554796,
          0.8935725903369798,
          0.9359580737406357,
          0.8774498611135095,
          0.8624214666131973,
          0.8700850076142927
         ],
         "yaxis": "y"
        },
        {
         "hovertemplate": "variable=SP500<br>DATE=%{x|%B %d, %Y}<br>value=%{y}<extra></extra>",
         "legendgroup": "SP500",
         "line": {
          "color": "#EF553B",
          "dash": "solid"
         },
         "marker": {
          "symbol": "circle"
         },
         "mode": "lines",
         "name": "SP500",
         "orientation": "v",
         "showlegend": true,
         "type": "scatter",
         "x": [
          "2022-01-06T00:00:00",
          "2022-01-13T00:00:00",
          "2022-01-20T00:00:00",
          "2022-01-27T00:00:00",
          "2022-02-03T00:00:00",
          "2022-02-10T00:00:00",
          "2022-02-17T00:00:00",
          "2022-02-24T00:00:00",
          "2022-03-03T00:00:00",
          "2022-03-10T00:00:00",
          "2022-03-17T00:00:00",
          "2022-03-24T00:00:00",
          "2022-03-31T00:00:00",
          "2022-04-07T00:00:00",
          "2022-04-14T00:00:00",
          "2022-04-21T00:00:00",
          "2022-04-28T00:00:00",
          "2022-05-05T00:00:00",
          "2022-05-12T00:00:00",
          "2022-05-19T00:00:00",
          "2022-05-26T00:00:00",
          "2022-06-02T00:00:00",
          "2022-06-09T00:00:00",
          "2022-06-16T00:00:00",
          "2022-06-23T00:00:00",
          "2022-06-30T00:00:00",
          "2022-07-07T00:00:00",
          "2022-07-14T00:00:00",
          "2022-07-21T00:00:00",
          "2022-07-28T00:00:00",
          "2022-08-04T00:00:00",
          "2022-08-11T00:00:00",
          "2022-08-18T00:00:00",
          "2022-08-25T00:00:00",
          "2022-09-01T00:00:00",
          "2022-09-08T00:00:00",
          "2022-09-15T00:00:00",
          "2022-09-22T00:00:00",
          "2022-09-29T00:00:00",
          "2022-10-06T00:00:00",
          "2022-10-13T00:00:00",
          "2022-10-20T00:00:00",
          "2022-10-27T00:00:00",
          "2022-11-03T00:00:00",
          "2022-11-10T00:00:00",
          "2022-11-17T00:00:00",
          "2022-11-24T00:00:00",
          "2022-12-01T00:00:00",
          "2022-12-08T00:00:00",
          "2022-12-15T00:00:00",
          "2022-12-22T00:00:00",
          "2022-12-29T00:00:00",
          "2023-01-05T00:00:00",
          "2023-01-12T00:00:00",
          "2023-01-19T00:00:00",
          "2023-01-26T00:00:00",
          "2023-02-02T00:00:00",
          "2023-02-09T00:00:00",
          "2023-02-16T00:00:00",
          "2023-02-23T00:00:00",
          "2023-03-02T00:00:00",
          "2023-03-09T00:00:00",
          "2023-03-16T00:00:00",
          "2023-03-23T00:00:00",
          "2023-03-30T00:00:00",
          "2023-04-06T00:00:00",
          "2023-04-13T00:00:00",
          "2023-04-20T00:00:00",
          "2023-04-27T00:00:00",
          "2023-05-04T00:00:00",
          "2023-05-11T00:00:00",
          "2023-05-18T00:00:00",
          "2023-05-25T00:00:00",
          "2023-06-01T00:00:00",
          "2023-06-08T00:00:00",
          "2023-06-15T00:00:00",
          "2023-06-22T00:00:00",
          "2023-06-29T00:00:00",
          "2023-07-06T00:00:00",
          "2023-07-13T00:00:00",
          "2023-07-20T00:00:00",
          "2023-07-27T00:00:00",
          "2023-08-03T00:00:00",
          "2023-08-10T00:00:00",
          "2023-08-17T00:00:00",
          "2023-08-24T00:00:00",
          "2023-08-31T00:00:00",
          "2023-09-07T00:00:00",
          "2023-09-14T00:00:00",
          "2023-09-21T00:00:00",
          "2023-09-28T00:00:00",
          "2023-10-05T00:00:00",
          "2023-10-12T00:00:00",
          "2023-10-19T00:00:00",
          "2023-10-26T00:00:00",
          "2023-11-02T00:00:00",
          "2023-11-09T00:00:00",
          "2023-11-16T00:00:00",
          "2023-11-23T00:00:00",
          "2023-11-30T00:00:00",
          "2023-12-07T00:00:00",
          "2023-12-14T00:00:00",
          "2023-12-21T00:00:00",
          "2023-12-28T00:00:00",
          "2024-01-04T00:00:00",
          "2024-01-11T00:00:00"
         ],
         "xaxis": "x",
         "y": [
          0.9184072813729349,
          0.9032840527964874,
          0.8312628426930924,
          0.7674446155668739,
          0.829101797874902,
          0.8399846398326698,
          0.7894023015740064,
          0.7519986600705073,
          0.7825515035397808,
          0.7400781897879376,
          0.8022337605039418,
          0.8465535624558269,
          0.8507408421130009,
          0.8384036864401563,
          0.7944392926152706,
          0.7948764037599705,
          0.7515084419643017,
          0.6940589650678726,
          0.6054969790309186,
          0.5935315720886132,
          0.6576888667382912,
          0.7062939919685916,
          0.6413400928963295,
          0.4979308710767216,
          0.5506129768902996,
          0.546384845724275,
          0.594279154700577,
          0.548427421166799,
          0.6336314131762437,
          0.663649101879576,
          0.6961301365665922,
          0.7187332764135625,
          0.7499724252315239,
          0.7154038784422483,
          0.62051807883524,
          0.6365849772661336,
          0.5937603405381762,
          0.5351956174501289,
          0.4871869242490454,
          0.5296929192079691,
          0.49921360845462637,
          0.4975264411391018,
          0.5553394964643001,
          0.5196311925780961,
          0.6162368407077097,
          0.6122293076894778,
          0.6451964753318147,
          0.6653403543459859,
          0.6191536384396341,
          0.5914726560425494,
          0.5615039891498377,
          0.5724889598797316,
          0.5556663085351041,
          0.6271850450796383,
          0.5927390528169141,
          0.6587469208175185,
          0.7074950263287956,
          0.6673543337323145,
          0.6709942031708922,
          0.6390932599095529,
          0.6264415476185594,
          0.6006928415901025,
          0.6178341347037639,
          0.6131117002806483,
          0.6548251759678727,
          0.6769626086139477,
          0.6937934302603452,
          0.6870815273562114,
          0.6893528712482984,
          0.6590696477374378,
          0.6874205948796703,
          0.7149667672975486,
          0.6958605166081793,
          0.7243503588805038,
          0.7541351939833882,
          0.8080224193080556,
          0.7900681811682699,
          0.7960120757060143,
          0.8022010792968624,
          0.8424193897601591,
          0.8525628194077333,
          0.8536004477325356,
          0.8390899917888457,
          0.8255844829628771,
          0.7853580021978102,
          0.7877886669744141,
          0.8414471238495187,
          0.8183578510472278,
          0.8404013252229463,
          0.7688703332257569,
          0.7564923260440617,
          0.7395348647202276,
          0.776881314111336,
          0.7476275486235078,
          0.6901208796146876,
          0.7638782788442282,
          0.7759580700113151,
          0.841684062600851,
          0.861448022582713,
          0.8660152212721965,
          0.8732827046966971,
          0.9280073859527993,
          0.9391189963601296,
          0.9540706485994053,
          0.9153965251706564,
          0.952800166674155
         ],
         "yaxis": "y"
        }
       ],
       "layout": {
        "autosize": false,
        "height": 800,
        "legend": {
         "title": {
          "text": "variable"
         },
         "tracegroupgap": 0
        },
        "template": {
         "data": {
          "bar": [
           {
            "error_x": {
             "color": "#2a3f5f"
            },
            "error_y": {
             "color": "#2a3f5f"
            },
            "marker": {
             "line": {
              "color": "#E5ECF6",
              "width": 0.5
             },
             "pattern": {
              "fillmode": "overlay",
              "size": 10,
              "solidity": 0.2
             }
            },
            "type": "bar"
           }
          ],
          "barpolar": [
           {
            "marker": {
             "line": {
              "color": "#E5ECF6",
              "width": 0.5
             },
             "pattern": {
              "fillmode": "overlay",
              "size": 10,
              "solidity": 0.2
             }
            },
            "type": "barpolar"
           }
          ],
          "carpet": [
           {
            "aaxis": {
             "endlinecolor": "#2a3f5f",
             "gridcolor": "white",
             "linecolor": "white",
             "minorgridcolor": "white",
             "startlinecolor": "#2a3f5f"
            },
            "baxis": {
             "endlinecolor": "#2a3f5f",
             "gridcolor": "white",
             "linecolor": "white",
             "minorgridcolor": "white",
             "startlinecolor": "#2a3f5f"
            },
            "type": "carpet"
           }
          ],
          "choropleth": [
           {
            "colorbar": {
             "outlinewidth": 0,
             "ticks": ""
            },
            "type": "choropleth"
           }
          ],
          "contour": [
           {
            "colorbar": {
             "outlinewidth": 0,
             "ticks": ""
            },
            "colorscale": [
             [
              0,
              "#0d0887"
             ],
             [
              0.1111111111111111,
              "#46039f"
             ],
             [
              0.2222222222222222,
              "#7201a8"
             ],
             [
              0.3333333333333333,
              "#9c179e"
             ],
             [
              0.4444444444444444,
              "#bd3786"
             ],
             [
              0.5555555555555556,
              "#d8576b"
             ],
             [
              0.6666666666666666,
              "#ed7953"
             ],
             [
              0.7777777777777778,
              "#fb9f3a"
             ],
             [
              0.8888888888888888,
              "#fdca26"
             ],
             [
              1,
              "#f0f921"
             ]
            ],
            "type": "contour"
           }
          ],
          "contourcarpet": [
           {
            "colorbar": {
             "outlinewidth": 0,
             "ticks": ""
            },
            "type": "contourcarpet"
           }
          ],
          "heatmap": [
           {
            "colorbar": {
             "outlinewidth": 0,
             "ticks": ""
            },
            "colorscale": [
             [
              0,
              "#0d0887"
             ],
             [
              0.1111111111111111,
              "#46039f"
             ],
             [
              0.2222222222222222,
              "#7201a8"
             ],
             [
              0.3333333333333333,
              "#9c179e"
             ],
             [
              0.4444444444444444,
              "#bd3786"
             ],
             [
              0.5555555555555556,
              "#d8576b"
             ],
             [
              0.6666666666666666,
              "#ed7953"
             ],
             [
              0.7777777777777778,
              "#fb9f3a"
             ],
             [
              0.8888888888888888,
              "#fdca26"
             ],
             [
              1,
              "#f0f921"
             ]
            ],
            "type": "heatmap"
           }
          ],
          "heatmapgl": [
           {
            "colorbar": {
             "outlinewidth": 0,
             "ticks": ""
            },
            "colorscale": [
             [
              0,
              "#0d0887"
             ],
             [
              0.1111111111111111,
              "#46039f"
             ],
             [
              0.2222222222222222,
              "#7201a8"
             ],
             [
              0.3333333333333333,
              "#9c179e"
             ],
             [
              0.4444444444444444,
              "#bd3786"
             ],
             [
              0.5555555555555556,
              "#d8576b"
             ],
             [
              0.6666666666666666,
              "#ed7953"
             ],
             [
              0.7777777777777778,
              "#fb9f3a"
             ],
             [
              0.8888888888888888,
              "#fdca26"
             ],
             [
              1,
              "#f0f921"
             ]
            ],
            "type": "heatmapgl"
           }
          ],
          "histogram": [
           {
            "marker": {
             "pattern": {
              "fillmode": "overlay",
              "size": 10,
              "solidity": 0.2
             }
            },
            "type": "histogram"
           }
          ],
          "histogram2d": [
           {
            "colorbar": {
             "outlinewidth": 0,
             "ticks": ""
            },
            "colorscale": [
             [
              0,
              "#0d0887"
             ],
             [
              0.1111111111111111,
              "#46039f"
             ],
             [
              0.2222222222222222,
              "#7201a8"
             ],
             [
              0.3333333333333333,
              "#9c179e"
             ],
             [
              0.4444444444444444,
              "#bd3786"
             ],
             [
              0.5555555555555556,
              "#d8576b"
             ],
             [
              0.6666666666666666,
              "#ed7953"
             ],
             [
              0.7777777777777778,
              "#fb9f3a"
             ],
             [
              0.8888888888888888,
              "#fdca26"
             ],
             [
              1,
              "#f0f921"
             ]
            ],
            "type": "histogram2d"
           }
          ],
          "histogram2dcontour": [
           {
            "colorbar": {
             "outlinewidth": 0,
             "ticks": ""
            },
            "colorscale": [
             [
              0,
              "#0d0887"
             ],
             [
              0.1111111111111111,
              "#46039f"
             ],
             [
              0.2222222222222222,
              "#7201a8"
             ],
             [
              0.3333333333333333,
              "#9c179e"
             ],
             [
              0.4444444444444444,
              "#bd3786"
             ],
             [
              0.5555555555555556,
              "#d8576b"
             ],
             [
              0.6666666666666666,
              "#ed7953"
             ],
             [
              0.7777777777777778,
              "#fb9f3a"
             ],
             [
              0.8888888888888888,
              "#fdca26"
             ],
             [
              1,
              "#f0f921"
             ]
            ],
            "type": "histogram2dcontour"
           }
          ],
          "mesh3d": [
           {
            "colorbar": {
             "outlinewidth": 0,
             "ticks": ""
            },
            "type": "mesh3d"
           }
          ],
          "parcoords": [
           {
            "line": {
             "colorbar": {
              "outlinewidth": 0,
              "ticks": ""
             }
            },
            "type": "parcoords"
           }
          ],
          "pie": [
           {
            "automargin": true,
            "type": "pie"
           }
          ],
          "scatter": [
           {
            "fillpattern": {
             "fillmode": "overlay",
             "size": 10,
             "solidity": 0.2
            },
            "type": "scatter"
           }
          ],
          "scatter3d": [
           {
            "line": {
             "colorbar": {
              "outlinewidth": 0,
              "ticks": ""
             }
            },
            "marker": {
             "colorbar": {
              "outlinewidth": 0,
              "ticks": ""
             }
            },
            "type": "scatter3d"
           }
          ],
          "scattercarpet": [
           {
            "marker": {
             "colorbar": {
              "outlinewidth": 0,
              "ticks": ""
             }
            },
            "type": "scattercarpet"
           }
          ],
          "scattergeo": [
           {
            "marker": {
             "colorbar": {
              "outlinewidth": 0,
              "ticks": ""
             }
            },
            "type": "scattergeo"
           }
          ],
          "scattergl": [
           {
            "marker": {
             "colorbar": {
              "outlinewidth": 0,
              "ticks": ""
             }
            },
            "type": "scattergl"
           }
          ],
          "scattermapbox": [
           {
            "marker": {
             "colorbar": {
              "outlinewidth": 0,
              "ticks": ""
             }
            },
            "type": "scattermapbox"
           }
          ],
          "scatterpolar": [
           {
            "marker": {
             "colorbar": {
              "outlinewidth": 0,
              "ticks": ""
             }
            },
            "type": "scatterpolar"
           }
          ],
          "scatterpolargl": [
           {
            "marker": {
             "colorbar": {
              "outlinewidth": 0,
              "ticks": ""
             }
            },
            "type": "scatterpolargl"
           }
          ],
          "scatterternary": [
           {
            "marker": {
             "colorbar": {
              "outlinewidth": 0,
              "ticks": ""
             }
            },
            "type": "scatterternary"
           }
          ],
          "surface": [
           {
            "colorbar": {
             "outlinewidth": 0,
             "ticks": ""
            },
            "colorscale": [
             [
              0,
              "#0d0887"
             ],
             [
              0.1111111111111111,
              "#46039f"
             ],
             [
              0.2222222222222222,
              "#7201a8"
             ],
             [
              0.3333333333333333,
              "#9c179e"
             ],
             [
              0.4444444444444444,
              "#bd3786"
             ],
             [
              0.5555555555555556,
              "#d8576b"
             ],
             [
              0.6666666666666666,
              "#ed7953"
             ],
             [
              0.7777777777777778,
              "#fb9f3a"
             ],
             [
              0.8888888888888888,
              "#fdca26"
             ],
             [
              1,
              "#f0f921"
             ]
            ],
            "type": "surface"
           }
          ],
          "table": [
           {
            "cells": {
             "fill": {
              "color": "#EBF0F8"
             },
             "line": {
              "color": "white"
             }
            },
            "header": {
             "fill": {
              "color": "#C8D4E3"
             },
             "line": {
              "color": "white"
             }
            },
            "type": "table"
           }
          ]
         },
         "layout": {
          "annotationdefaults": {
           "arrowcolor": "#2a3f5f",
           "arrowhead": 0,
           "arrowwidth": 1
          },
          "autotypenumbers": "strict",
          "coloraxis": {
           "colorbar": {
            "outlinewidth": 0,
            "ticks": ""
           }
          },
          "colorscale": {
           "diverging": [
            [
             0,
             "#8e0152"
            ],
            [
             0.1,
             "#c51b7d"
            ],
            [
             0.2,
             "#de77ae"
            ],
            [
             0.3,
             "#f1b6da"
            ],
            [
             0.4,
             "#fde0ef"
            ],
            [
             0.5,
             "#f7f7f7"
            ],
            [
             0.6,
             "#e6f5d0"
            ],
            [
             0.7,
             "#b8e186"
            ],
            [
             0.8,
             "#7fbc41"
            ],
            [
             0.9,
             "#4d9221"
            ],
            [
             1,
             "#276419"
            ]
           ],
           "sequential": [
            [
             0,
             "#0d0887"
            ],
            [
             0.1111111111111111,
             "#46039f"
            ],
            [
             0.2222222222222222,
             "#7201a8"
            ],
            [
             0.3333333333333333,
             "#9c179e"
            ],
            [
             0.4444444444444444,
             "#bd3786"
            ],
            [
             0.5555555555555556,
             "#d8576b"
            ],
            [
             0.6666666666666666,
             "#ed7953"
            ],
            [
             0.7777777777777778,
             "#fb9f3a"
            ],
            [
             0.8888888888888888,
             "#fdca26"
            ],
            [
             1,
             "#f0f921"
            ]
           ],
           "sequentialminus": [
            [
             0,
             "#0d0887"
            ],
            [
             0.1111111111111111,
             "#46039f"
            ],
            [
             0.2222222222222222,
             "#7201a8"
            ],
            [
             0.3333333333333333,
             "#9c179e"
            ],
            [
             0.4444444444444444,
             "#bd3786"
            ],
            [
             0.5555555555555556,
             "#d8576b"
            ],
            [
             0.6666666666666666,
             "#ed7953"
            ],
            [
             0.7777777777777778,
             "#fb9f3a"
            ],
            [
             0.8888888888888888,
             "#fdca26"
            ],
            [
             1,
             "#f0f921"
            ]
           ]
          },
          "colorway": [
           "#636efa",
           "#EF553B",
           "#00cc96",
           "#ab63fa",
           "#FFA15A",
           "#19d3f3",
           "#FF6692",
           "#B6E880",
           "#FF97FF",
           "#FECB52"
          ],
          "font": {
           "color": "#2a3f5f"
          },
          "geo": {
           "bgcolor": "white",
           "lakecolor": "white",
           "landcolor": "#E5ECF6",
           "showlakes": true,
           "showland": true,
           "subunitcolor": "white"
          },
          "hoverlabel": {
           "align": "left"
          },
          "hovermode": "closest",
          "mapbox": {
           "style": "light"
          },
          "paper_bgcolor": "white",
          "plot_bgcolor": "#E5ECF6",
          "polar": {
           "angularaxis": {
            "gridcolor": "white",
            "linecolor": "white",
            "ticks": ""
           },
           "bgcolor": "#E5ECF6",
           "radialaxis": {
            "gridcolor": "white",
            "linecolor": "white",
            "ticks": ""
           }
          },
          "scene": {
           "xaxis": {
            "backgroundcolor": "#E5ECF6",
            "gridcolor": "white",
            "gridwidth": 2,
            "linecolor": "white",
            "showbackground": true,
            "ticks": "",
            "zerolinecolor": "white"
           },
           "yaxis": {
            "backgroundcolor": "#E5ECF6",
            "gridcolor": "white",
            "gridwidth": 2,
            "linecolor": "white",
            "showbackground": true,
            "ticks": "",
            "zerolinecolor": "white"
           },
           "zaxis": {
            "backgroundcolor": "#E5ECF6",
            "gridcolor": "white",
            "gridwidth": 2,
            "linecolor": "white",
            "showbackground": true,
            "ticks": "",
            "zerolinecolor": "white"
           }
          },
          "shapedefaults": {
           "line": {
            "color": "#2a3f5f"
           }
          },
          "ternary": {
           "aaxis": {
            "gridcolor": "white",
            "linecolor": "white",
            "ticks": ""
           },
           "baxis": {
            "gridcolor": "white",
            "linecolor": "white",
            "ticks": ""
           },
           "bgcolor": "#E5ECF6",
           "caxis": {
            "gridcolor": "white",
            "linecolor": "white",
            "ticks": ""
           }
          },
          "title": {
           "x": 0.05
          },
          "xaxis": {
           "automargin": true,
           "gridcolor": "white",
           "linecolor": "white",
           "ticks": "",
           "title": {
            "standoff": 15
           },
           "zerolinecolor": "white",
           "zerolinewidth": 2
          },
          "yaxis": {
           "automargin": true,
           "gridcolor": "white",
           "linecolor": "white",
           "ticks": "",
           "title": {
            "standoff": 15
           },
           "zerolinecolor": "white",
           "zerolinewidth": 2
          }
         }
        },
        "title": {
         "text": "Monetary Policy v. SPX"
        },
        "width": 800,
        "xaxis": {
         "anchor": "y",
         "domain": [
          0,
          1
         ],
         "dtick": "M1",
         "tickformat": "%b\n%Y",
         "tickmode": "auto",
         "title": {
          "text": "Date"
         }
        },
        "yaxis": {
         "anchor": "x",
         "domain": [
          0,
          1
         ],
         "title": {
          "text": "Normalized Levels"
         }
        }
       }
      }
     },
     "metadata": {},
     "output_type": "display_data"
    }
   ],
   "source": [
    "fed_norm['Last Week Liquidity'] = fed_norm.Liquidity.shift(1)\n",
    "\n",
    "fig = px.line(fed_norm['2022':].dropna().reset_index(), x=\"DATE\", y=[\"Last Week Liquidity\",\"SP500\"],\n",
    "              hover_data={\"DATE\": \"|%B %d, %Y\"},\n",
    "              title='Monetary Policy v. SPX')\n",
    "fig.update_xaxes(\n",
    "    dtick=\"M1\",\n",
    "    tickmode= 'auto',\n",
    "    tickformat= '%b\\n%Y')\n",
    "\n",
    "fig.update_layout(\n",
    "    autosize=False,\n",
    "    width=800,\n",
    "    height=800,\n",
    "    xaxis_title=\"Date\", \n",
    "    yaxis_title=\"Normalized Levels\"\n",
    ")\n"
   ]
  },
  {
   "cell_type": "code",
   "execution_count": 147,
   "metadata": {},
   "outputs": [
    {
     "data": {
      "application/vnd.plotly.v1+json": {
       "config": {
        "plotlyServerURL": "https://plot.ly"
       },
       "data": [
        {
         "hovertemplate": "variable=Liquidity<br>DATE=%{x|%B %d, %Y}<br>value=%{y}<extra></extra>",
         "legendgroup": "Liquidity",
         "line": {
          "color": "#636efa",
          "dash": "solid"
         },
         "marker": {
          "symbol": "circle"
         },
         "mode": "lines",
         "name": "Liquidity",
         "orientation": "v",
         "showlegend": true,
         "type": "scatter",
         "x": [
          "2019-01-17T00:00:00",
          "2019-01-24T00:00:00",
          "2019-01-31T00:00:00",
          "2019-02-07T00:00:00",
          "2019-02-14T00:00:00",
          "2019-02-21T00:00:00",
          "2019-02-28T00:00:00",
          "2019-03-07T00:00:00",
          "2019-03-14T00:00:00",
          "2019-03-21T00:00:00",
          "2019-03-28T00:00:00",
          "2019-04-04T00:00:00",
          "2019-04-11T00:00:00",
          "2019-04-18T00:00:00",
          "2019-04-25T00:00:00",
          "2019-05-02T00:00:00",
          "2019-05-09T00:00:00",
          "2019-05-16T00:00:00",
          "2019-05-23T00:00:00",
          "2019-05-30T00:00:00",
          "2019-06-06T00:00:00",
          "2019-06-13T00:00:00",
          "2019-06-20T00:00:00",
          "2019-06-27T00:00:00",
          "2019-07-04T00:00:00",
          "2019-07-11T00:00:00",
          "2019-07-18T00:00:00",
          "2019-07-25T00:00:00",
          "2019-08-01T00:00:00",
          "2019-08-08T00:00:00",
          "2019-08-15T00:00:00",
          "2019-08-22T00:00:00",
          "2019-08-29T00:00:00",
          "2019-09-05T00:00:00",
          "2019-09-12T00:00:00",
          "2019-09-19T00:00:00",
          "2019-09-26T00:00:00",
          "2019-10-03T00:00:00",
          "2019-10-10T00:00:00",
          "2019-10-17T00:00:00",
          "2019-10-24T00:00:00",
          "2019-10-31T00:00:00",
          "2019-11-07T00:00:00",
          "2019-11-14T00:00:00",
          "2019-11-21T00:00:00",
          "2019-12-05T00:00:00",
          "2019-12-12T00:00:00",
          "2019-12-19T00:00:00",
          "2019-12-26T00:00:00",
          "2020-01-02T00:00:00",
          "2020-01-09T00:00:00",
          "2020-01-16T00:00:00",
          "2020-01-23T00:00:00",
          "2020-01-30T00:00:00",
          "2020-02-06T00:00:00",
          "2020-02-13T00:00:00",
          "2020-02-20T00:00:00",
          "2020-02-27T00:00:00",
          "2020-03-05T00:00:00",
          "2020-03-12T00:00:00",
          "2020-03-19T00:00:00",
          "2020-03-26T00:00:00",
          "2020-04-02T00:00:00",
          "2020-04-09T00:00:00",
          "2020-04-16T00:00:00",
          "2020-04-23T00:00:00",
          "2020-04-30T00:00:00",
          "2020-05-07T00:00:00",
          "2020-05-14T00:00:00",
          "2020-05-21T00:00:00",
          "2020-05-28T00:00:00",
          "2020-06-04T00:00:00",
          "2020-06-11T00:00:00",
          "2020-06-18T00:00:00",
          "2020-06-25T00:00:00",
          "2020-07-02T00:00:00",
          "2020-07-09T00:00:00",
          "2020-07-16T00:00:00",
          "2020-07-23T00:00:00",
          "2020-07-30T00:00:00",
          "2020-08-06T00:00:00",
          "2020-08-13T00:00:00",
          "2020-08-20T00:00:00",
          "2020-08-27T00:00:00",
          "2020-09-03T00:00:00",
          "2020-09-10T00:00:00",
          "2020-09-17T00:00:00",
          "2020-09-24T00:00:00",
          "2020-10-01T00:00:00",
          "2020-10-08T00:00:00",
          "2020-10-15T00:00:00",
          "2020-10-22T00:00:00",
          "2020-10-29T00:00:00",
          "2020-11-05T00:00:00",
          "2020-11-12T00:00:00",
          "2020-11-19T00:00:00",
          "2020-11-26T00:00:00",
          "2020-12-03T00:00:00",
          "2020-12-10T00:00:00",
          "2020-12-17T00:00:00",
          "2020-12-24T00:00:00",
          "2020-12-31T00:00:00",
          "2021-01-07T00:00:00",
          "2021-01-14T00:00:00",
          "2021-01-21T00:00:00",
          "2021-01-28T00:00:00",
          "2021-02-04T00:00:00",
          "2021-02-11T00:00:00",
          "2021-02-18T00:00:00",
          "2021-02-25T00:00:00",
          "2021-03-04T00:00:00",
          "2021-03-11T00:00:00",
          "2021-03-18T00:00:00",
          "2021-03-25T00:00:00",
          "2021-04-01T00:00:00",
          "2021-04-08T00:00:00",
          "2021-04-15T00:00:00",
          "2021-04-22T00:00:00",
          "2021-04-29T00:00:00",
          "2021-05-06T00:00:00",
          "2021-05-13T00:00:00",
          "2021-05-20T00:00:00",
          "2021-05-27T00:00:00",
          "2021-06-03T00:00:00",
          "2021-06-10T00:00:00",
          "2021-06-17T00:00:00",
          "2021-06-24T00:00:00",
          "2021-07-01T00:00:00",
          "2021-07-08T00:00:00",
          "2021-07-15T00:00:00",
          "2021-07-22T00:00:00",
          "2021-07-29T00:00:00",
          "2021-08-05T00:00:00",
          "2021-08-12T00:00:00",
          "2021-08-19T00:00:00",
          "2021-08-26T00:00:00",
          "2021-09-02T00:00:00",
          "2021-09-09T00:00:00",
          "2021-09-16T00:00:00",
          "2021-09-23T00:00:00",
          "2021-09-30T00:00:00",
          "2021-10-07T00:00:00",
          "2021-10-14T00:00:00",
          "2021-10-21T00:00:00",
          "2021-10-28T00:00:00",
          "2021-11-04T00:00:00",
          "2021-11-11T00:00:00",
          "2021-11-18T00:00:00",
          "2021-11-25T00:00:00",
          "2021-12-02T00:00:00",
          "2021-12-09T00:00:00",
          "2021-12-16T00:00:00",
          "2021-12-23T00:00:00",
          "2021-12-30T00:00:00",
          "2022-01-06T00:00:00",
          "2022-01-13T00:00:00",
          "2022-01-20T00:00:00",
          "2022-01-27T00:00:00",
          "2022-02-03T00:00:00",
          "2022-02-10T00:00:00",
          "2022-02-17T00:00:00",
          "2022-02-24T00:00:00",
          "2022-03-03T00:00:00",
          "2022-03-10T00:00:00",
          "2022-03-17T00:00:00",
          "2022-03-24T00:00:00",
          "2022-03-31T00:00:00",
          "2022-04-07T00:00:00",
          "2022-04-14T00:00:00",
          "2022-04-21T00:00:00",
          "2022-04-28T00:00:00",
          "2022-05-05T00:00:00",
          "2022-05-12T00:00:00",
          "2022-05-19T00:00:00",
          "2022-05-26T00:00:00",
          "2022-06-02T00:00:00",
          "2022-06-09T00:00:00",
          "2022-06-16T00:00:00",
          "2022-06-23T00:00:00",
          "2022-06-30T00:00:00",
          "2022-07-07T00:00:00",
          "2022-07-14T00:00:00",
          "2022-07-21T00:00:00",
          "2022-07-28T00:00:00",
          "2022-08-04T00:00:00",
          "2022-08-11T00:00:00",
          "2022-08-18T00:00:00",
          "2022-08-25T00:00:00",
          "2022-09-01T00:00:00",
          "2022-09-08T00:00:00",
          "2022-09-15T00:00:00",
          "2022-09-22T00:00:00",
          "2022-09-29T00:00:00",
          "2022-10-06T00:00:00",
          "2022-10-13T00:00:00",
          "2022-10-20T00:00:00",
          "2022-10-27T00:00:00",
          "2022-11-03T00:00:00",
          "2022-11-10T00:00:00",
          "2022-11-17T00:00:00",
          "2022-11-24T00:00:00",
          "2022-12-01T00:00:00",
          "2022-12-08T00:00:00",
          "2022-12-15T00:00:00",
          "2022-12-22T00:00:00",
          "2022-12-29T00:00:00",
          "2023-01-05T00:00:00",
          "2023-01-12T00:00:00",
          "2023-01-19T00:00:00",
          "2023-01-26T00:00:00",
          "2023-02-02T00:00:00",
          "2023-02-09T00:00:00",
          "2023-02-16T00:00:00",
          "2023-02-23T00:00:00",
          "2023-03-02T00:00:00",
          "2023-03-09T00:00:00",
          "2023-03-16T00:00:00",
          "2023-03-23T00:00:00",
          "2023-03-30T00:00:00",
          "2023-04-06T00:00:00",
          "2023-04-13T00:00:00",
          "2023-04-20T00:00:00",
          "2023-04-27T00:00:00",
          "2023-05-04T00:00:00",
          "2023-05-11T00:00:00",
          "2023-05-18T00:00:00",
          "2023-05-25T00:00:00",
          "2023-06-01T00:00:00",
          "2023-06-08T00:00:00",
          "2023-06-15T00:00:00",
          "2023-06-22T00:00:00",
          "2023-06-29T00:00:00",
          "2023-07-06T00:00:00",
          "2023-07-13T00:00:00",
          "2023-07-20T00:00:00",
          "2023-07-27T00:00:00",
          "2023-08-03T00:00:00",
          "2023-08-10T00:00:00",
          "2023-08-17T00:00:00",
          "2023-08-24T00:00:00",
          "2023-08-31T00:00:00",
          "2023-09-07T00:00:00",
          "2023-09-14T00:00:00",
          "2023-09-21T00:00:00",
          "2023-09-28T00:00:00",
          "2023-10-05T00:00:00",
          "2023-10-12T00:00:00",
          "2023-10-19T00:00:00",
          "2023-10-26T00:00:00",
          "2023-11-02T00:00:00",
          "2023-11-09T00:00:00",
          "2023-11-16T00:00:00",
          "2023-11-23T00:00:00",
          "2023-11-30T00:00:00",
          "2023-12-07T00:00:00",
          "2023-12-14T00:00:00",
          "2023-12-21T00:00:00",
          "2023-12-28T00:00:00",
          "2024-01-04T00:00:00",
          "2024-01-11T00:00:00"
         ],
         "xaxis": "x",
         "y": [
          0.0027777298086928415,
          0.0004886450780201557,
          -0.0026319037906449294,
          0.025634678962102475,
          0.013247782069411906,
          0.020794278503390107,
          0.06473459984509189,
          0.10308236547709737,
          0.08577384047529057,
          0.036078508123084774,
          0.047902567753134395,
          0.04474939990674809,
          0.056218488308654724,
          -0.022478313176723996,
          -0.050705881073765724,
          -0.049974832220130994,
          -0.02865928966099962,
          -0.0050892001123120645,
          0.011028412408770505,
          0.023542587273353677,
          0.04280441341164409,
          0.06975216612397617,
          0.0020729040547944333,
          0.02152276900583061,
          0.009032898477588702,
          0.030840923641531015,
          0.026656740264034084,
          0.044720618455817096,
          0.020352323334656752,
          0.06394982561638618,
          0.056079697756389324,
          0.05932048913116428,
          0.06060542101826161,
          0.03469891724181551,
          0.03826717756939968,
          -0.05491245002420886,
          -0.033370493384424105,
          -0.044886271695618096,
          -0.019520219608867073,
          -0.06697507590308249,
          -0.06110365991325961,
          -0.050075247504488885,
          -0.02294137474280633,
          -0.009104532311016711,
          -0.001030375943312567,
          0.05149896994384995,
          0.09715082823421883,
          0.06051587872647768,
          0.1022899161948101,
          0.01594108628870794,
          0.10133884913850655,
          0.10067943411829883,
          0.08982882711749873,
          0.10339576349834001,
          0.13343400445280973,
          0.16050072049565456,
          0.1536072432038995,
          0.19377591529810823,
          0.20537995672548903,
          0.22635779692703584,
          0.28267478175665284,
          0.42907451005975616,
          0.4962977460286391,
          0.5815215409972578,
          0.6969025402508588,
          0.7077384367322945,
          0.679609365356215,
          0.670422326219198,
          0.6871980745848911,
          0.6817225634423123,
          0.6236825290836558,
          0.5713648867577821,
          0.5382252845686011,
          0.5213056289482552,
          0.528914804986482,
          0.48975156491144545,
          0.5235563384110204,
          0.4637254582166881,
          0.4544437600854998,
          0.4608671403453901,
          0.5264184938091097,
          0.577609822021903,
          0.5975681592727118,
          0.6232962180533888,
          0.6131363658749207,
          0.6751591134545607,
          0.6090199788040602,
          0.6408234820822676,
          0.5724681757101184,
          0.6590082423679589,
          0.6892876079224464,
          0.6775402988282115,
          0.7091410527743085,
          0.7438246199089615,
          0.7819888238428103,
          0.8210740342064351,
          0.8705640588753367,
          0.8366620680303964,
          0.8777786092419166,
          0.8267318278715741,
          0.8554755431219696,
          0.8328277391786549,
          0.8456521141254891,
          0.8763491305123683,
          0.8539021571377687,
          0.8817645204018922,
          0.8761745230433897,
          0.9252398614141164,
          0.9529461652554168,
          1.0463963384877721,
          1.074632221026194,
          1.1649944643676053,
          1.313143465299485,
          1.3376614239654838,
          1.2181857836261698,
          1.3869365471341042,
          1.4112210562536665,
          1.3626840174044639,
          1.3662087857617529,
          1.3702995893206755,
          1.4056879822092267,
          1.3593319377527582,
          1.326700168275551,
          1.324281247221792,
          1.3891162623512412,
          1.3312316478276092,
          1.1577370616185294,
          0.9638741623798306,
          1.1921839812677537,
          1.2091752707215266,
          1.2320430928675097,
          1.2428047971643243,
          1.2739949357438127,
          1.3317772162196917,
          1.318249294694556,
          1.3556415161556687,
          1.361639570529586,
          1.4058101434787318,
          1.3482645104882813,
          1.2875900139877858,
          1.2737115983490965,
          1.3125147504936026,
          1.3893989601581578,
          1.2996603149202408,
          1.2739584792393006,
          1.2956046886902337,
          1.2821829387396417,
          1.2898912508866296,
          1.3530710127936758,
          1.368837491613406,
          1.3612289551629777,
          1.3358488321446607,
          1.2189807912596504,
          1.204971260122278,
          1.1943630568970924,
          1.131754446894067,
          1.0142992644100741,
          1.037347450315222,
          0.9899309692889138,
          1.0114742051042955,
          1.0005641164382393,
          0.9660097460388744,
          1.1029410165736402,
          1.147588722020434,
          1.0927971540901336,
          1.0007105820440856,
          1.0226682707528663,
          1.0721557370705739,
          1.0135413528689043,
          0.7212791500134004,
          0.7365007000288466,
          0.7283350826059634,
          0.7093182185944815,
          0.7010943986819387,
          0.7329516273352161,
          0.7650474222373178,
          0.716133666174825,
          0.6445011119233888,
          0.6003420515546152,
          0.6091012064544654,
          0.6730024233981695,
          0.7166203924894496,
          0.6515461715233777,
          0.6849377713051503,
          0.7298943976585981,
          0.7356705150664509,
          0.7218016932447386,
          0.7115829989888127,
          0.5969240943596681,
          0.6935907546304567,
          0.6260528414647337,
          0.5172717487033966,
          0.5168713667415634,
          0.57783111940017,
          0.5772113588234664,
          0.5348066877858568,
          0.5881265641919107,
          0.5620499300610753,
          0.5770968726075429,
          0.6544697273501183,
          0.6708367791125984,
          0.590454663778289,
          0.6527549924624585,
          0.6758543453914827,
          0.6013653920321436,
          0.5758631077443215,
          0.609361518688436,
          0.6387480196762791,
          0.6347608293407065,
          0.5655548711966112,
          0.5875790770364315,
          0.5876187314799357,
          0.6388797747627608,
          0.5616348375798765,
          0.5890693166068333,
          0.5758592702175303,
          0.6809377892136077,
          0.5856251363121496,
          0.6207174000500157,
          0.6246783672858514,
          0.6102473477892965,
          0.4925625532856581,
          0.49069623608976465,
          0.5308047869309185,
          0.5670924402640984,
          0.6166547383542254,
          0.621023762605476,
          0.5990001963534541,
          0.6477355074201778,
          0.6554598092621267,
          0.5883120446534615,
          0.5763587882881238,
          0.5786792128209208,
          0.5600102845717987,
          0.5905972918573434,
          0.5760140504647562,
          0.6083650408984416,
          0.6115412339055721,
          0.6147001580421447,
          0.5848659455953824,
          0.6039672351962604,
          0.6674316136736194,
          0.6689922079018511,
          0.5953308811537137,
          0.6187244444700277,
          0.6753593044354771,
          0.7177761276412575,
          0.6779112597513153,
          0.7021785000003196,
          0.7416474630430179,
          0.7688427362333523,
          0.8577914905401767,
          0.8408935809049785,
          0.8135179439554796,
          0.8935725903369798,
          0.9359580737406357,
          0.8774498611135095,
          0.8624214666131973,
          0.8700850076142927,
          0.9075802027109567
         ],
         "yaxis": "y"
        },
        {
         "hovertemplate": "variable=SP500<br>DATE=%{x|%B %d, %Y}<br>value=%{y}<extra></extra>",
         "legendgroup": "SP500",
         "line": {
          "color": "#EF553B",
          "dash": "solid"
         },
         "marker": {
          "symbol": "circle"
         },
         "mode": "lines",
         "name": "SP500",
         "orientation": "v",
         "showlegend": true,
         "type": "scatter",
         "x": [
          "2019-01-17T00:00:00",
          "2019-01-24T00:00:00",
          "2019-01-31T00:00:00",
          "2019-02-07T00:00:00",
          "2019-02-14T00:00:00",
          "2019-02-21T00:00:00",
          "2019-02-28T00:00:00",
          "2019-03-07T00:00:00",
          "2019-03-14T00:00:00",
          "2019-03-21T00:00:00",
          "2019-03-28T00:00:00",
          "2019-04-04T00:00:00",
          "2019-04-11T00:00:00",
          "2019-04-18T00:00:00",
          "2019-04-25T00:00:00",
          "2019-05-02T00:00:00",
          "2019-05-09T00:00:00",
          "2019-05-16T00:00:00",
          "2019-05-23T00:00:00",
          "2019-05-30T00:00:00",
          "2019-06-06T00:00:00",
          "2019-06-13T00:00:00",
          "2019-06-20T00:00:00",
          "2019-06-27T00:00:00",
          "2019-07-04T00:00:00",
          "2019-07-11T00:00:00",
          "2019-07-18T00:00:00",
          "2019-07-25T00:00:00",
          "2019-08-01T00:00:00",
          "2019-08-08T00:00:00",
          "2019-08-15T00:00:00",
          "2019-08-22T00:00:00",
          "2019-08-29T00:00:00",
          "2019-09-05T00:00:00",
          "2019-09-12T00:00:00",
          "2019-09-19T00:00:00",
          "2019-09-26T00:00:00",
          "2019-10-03T00:00:00",
          "2019-10-10T00:00:00",
          "2019-10-17T00:00:00",
          "2019-10-24T00:00:00",
          "2019-10-31T00:00:00",
          "2019-11-07T00:00:00",
          "2019-11-14T00:00:00",
          "2019-11-21T00:00:00",
          "2019-12-05T00:00:00",
          "2019-12-12T00:00:00",
          "2019-12-19T00:00:00",
          "2019-12-26T00:00:00",
          "2020-01-02T00:00:00",
          "2020-01-09T00:00:00",
          "2020-01-16T00:00:00",
          "2020-01-23T00:00:00",
          "2020-01-30T00:00:00",
          "2020-02-06T00:00:00",
          "2020-02-13T00:00:00",
          "2020-02-20T00:00:00",
          "2020-02-27T00:00:00",
          "2020-03-05T00:00:00",
          "2020-03-12T00:00:00",
          "2020-03-19T00:00:00",
          "2020-03-26T00:00:00",
          "2020-04-02T00:00:00",
          "2020-04-09T00:00:00",
          "2020-04-16T00:00:00",
          "2020-04-23T00:00:00",
          "2020-04-30T00:00:00",
          "2020-05-07T00:00:00",
          "2020-05-14T00:00:00",
          "2020-05-21T00:00:00",
          "2020-05-28T00:00:00",
          "2020-06-04T00:00:00",
          "2020-06-11T00:00:00",
          "2020-06-18T00:00:00",
          "2020-06-25T00:00:00",
          "2020-07-02T00:00:00",
          "2020-07-09T00:00:00",
          "2020-07-16T00:00:00",
          "2020-07-23T00:00:00",
          "2020-07-30T00:00:00",
          "2020-08-06T00:00:00",
          "2020-08-13T00:00:00",
          "2020-08-20T00:00:00",
          "2020-08-27T00:00:00",
          "2020-09-03T00:00:00",
          "2020-09-10T00:00:00",
          "2020-09-17T00:00:00",
          "2020-09-24T00:00:00",
          "2020-10-01T00:00:00",
          "2020-10-08T00:00:00",
          "2020-10-15T00:00:00",
          "2020-10-22T00:00:00",
          "2020-10-29T00:00:00",
          "2020-11-05T00:00:00",
          "2020-11-12T00:00:00",
          "2020-11-19T00:00:00",
          "2020-11-26T00:00:00",
          "2020-12-03T00:00:00",
          "2020-12-10T00:00:00",
          "2020-12-17T00:00:00",
          "2020-12-24T00:00:00",
          "2020-12-31T00:00:00",
          "2021-01-07T00:00:00",
          "2021-01-14T00:00:00",
          "2021-01-21T00:00:00",
          "2021-01-28T00:00:00",
          "2021-02-04T00:00:00",
          "2021-02-11T00:00:00",
          "2021-02-18T00:00:00",
          "2021-02-25T00:00:00",
          "2021-03-04T00:00:00",
          "2021-03-11T00:00:00",
          "2021-03-18T00:00:00",
          "2021-03-25T00:00:00",
          "2021-04-01T00:00:00",
          "2021-04-08T00:00:00",
          "2021-04-15T00:00:00",
          "2021-04-22T00:00:00",
          "2021-04-29T00:00:00",
          "2021-05-06T00:00:00",
          "2021-05-13T00:00:00",
          "2021-05-20T00:00:00",
          "2021-05-27T00:00:00",
          "2021-06-03T00:00:00",
          "2021-06-10T00:00:00",
          "2021-06-17T00:00:00",
          "2021-06-24T00:00:00",
          "2021-07-01T00:00:00",
          "2021-07-08T00:00:00",
          "2021-07-15T00:00:00",
          "2021-07-22T00:00:00",
          "2021-07-29T00:00:00",
          "2021-08-05T00:00:00",
          "2021-08-12T00:00:00",
          "2021-08-19T00:00:00",
          "2021-08-26T00:00:00",
          "2021-09-02T00:00:00",
          "2021-09-09T00:00:00",
          "2021-09-16T00:00:00",
          "2021-09-23T00:00:00",
          "2021-09-30T00:00:00",
          "2021-10-07T00:00:00",
          "2021-10-14T00:00:00",
          "2021-10-21T00:00:00",
          "2021-10-28T00:00:00",
          "2021-11-04T00:00:00",
          "2021-11-11T00:00:00",
          "2021-11-18T00:00:00",
          "2021-11-25T00:00:00",
          "2021-12-02T00:00:00",
          "2021-12-09T00:00:00",
          "2021-12-16T00:00:00",
          "2021-12-23T00:00:00",
          "2021-12-30T00:00:00",
          "2022-01-06T00:00:00",
          "2022-01-13T00:00:00",
          "2022-01-20T00:00:00",
          "2022-01-27T00:00:00",
          "2022-02-03T00:00:00",
          "2022-02-10T00:00:00",
          "2022-02-17T00:00:00",
          "2022-02-24T00:00:00",
          "2022-03-03T00:00:00",
          "2022-03-10T00:00:00",
          "2022-03-17T00:00:00",
          "2022-03-24T00:00:00",
          "2022-03-31T00:00:00",
          "2022-04-07T00:00:00",
          "2022-04-14T00:00:00",
          "2022-04-21T00:00:00",
          "2022-04-28T00:00:00",
          "2022-05-05T00:00:00",
          "2022-05-12T00:00:00",
          "2022-05-19T00:00:00",
          "2022-05-26T00:00:00",
          "2022-06-02T00:00:00",
          "2022-06-09T00:00:00",
          "2022-06-16T00:00:00",
          "2022-06-23T00:00:00",
          "2022-06-30T00:00:00",
          "2022-07-07T00:00:00",
          "2022-07-14T00:00:00",
          "2022-07-21T00:00:00",
          "2022-07-28T00:00:00",
          "2022-08-04T00:00:00",
          "2022-08-11T00:00:00",
          "2022-08-18T00:00:00",
          "2022-08-25T00:00:00",
          "2022-09-01T00:00:00",
          "2022-09-08T00:00:00",
          "2022-09-15T00:00:00",
          "2022-09-22T00:00:00",
          "2022-09-29T00:00:00",
          "2022-10-06T00:00:00",
          "2022-10-13T00:00:00",
          "2022-10-20T00:00:00",
          "2022-10-27T00:00:00",
          "2022-11-03T00:00:00",
          "2022-11-10T00:00:00",
          "2022-11-17T00:00:00",
          "2022-11-24T00:00:00",
          "2022-12-01T00:00:00",
          "2022-12-08T00:00:00",
          "2022-12-15T00:00:00",
          "2022-12-22T00:00:00",
          "2022-12-29T00:00:00",
          "2023-01-05T00:00:00",
          "2023-01-12T00:00:00",
          "2023-01-19T00:00:00",
          "2023-01-26T00:00:00",
          "2023-02-02T00:00:00",
          "2023-02-09T00:00:00",
          "2023-02-16T00:00:00",
          "2023-02-23T00:00:00",
          "2023-03-02T00:00:00",
          "2023-03-09T00:00:00",
          "2023-03-16T00:00:00",
          "2023-03-23T00:00:00",
          "2023-03-30T00:00:00",
          "2023-04-06T00:00:00",
          "2023-04-13T00:00:00",
          "2023-04-20T00:00:00",
          "2023-04-27T00:00:00",
          "2023-05-04T00:00:00",
          "2023-05-11T00:00:00",
          "2023-05-18T00:00:00",
          "2023-05-25T00:00:00",
          "2023-06-01T00:00:00",
          "2023-06-08T00:00:00",
          "2023-06-15T00:00:00",
          "2023-06-22T00:00:00",
          "2023-06-29T00:00:00",
          "2023-07-06T00:00:00",
          "2023-07-13T00:00:00",
          "2023-07-20T00:00:00",
          "2023-07-27T00:00:00",
          "2023-08-03T00:00:00",
          "2023-08-10T00:00:00",
          "2023-08-17T00:00:00",
          "2023-08-24T00:00:00",
          "2023-08-31T00:00:00",
          "2023-09-07T00:00:00",
          "2023-09-14T00:00:00",
          "2023-09-21T00:00:00",
          "2023-09-28T00:00:00",
          "2023-10-05T00:00:00",
          "2023-10-12T00:00:00",
          "2023-10-19T00:00:00",
          "2023-10-26T00:00:00",
          "2023-11-02T00:00:00",
          "2023-11-09T00:00:00",
          "2023-11-16T00:00:00",
          "2023-11-23T00:00:00",
          "2023-11-30T00:00:00",
          "2023-12-07T00:00:00",
          "2023-12-14T00:00:00",
          "2023-12-21T00:00:00",
          "2023-12-28T00:00:00",
          "2024-01-04T00:00:00",
          "2024-01-11T00:00:00"
         ],
         "xaxis": "x",
         "y": [
          0.07682943269509668,
          0.07943167380887228,
          0.10466565082581325,
          0.1054622552483977,
          0.12167213396026777,
          0.13358034879018255,
          0.13750617879071347,
          0.12297938224348304,
          0.1473064557639434,
          0.1662615558705658,
          0.1501497207799367,
          0.17627426068981822,
          0.179922300430166,
          0.18674858755908108,
          0.19538459653007245,
          0.19185094101450595,
          0.17273243487248147,
          0.17502011936810846,
          0.15292762338176913,
          0.13929138972747923,
          0.16160856901249576,
          0.18127857052400165,
          0.20682710415909145,
          0.1948739526694414,
          0.2238376724444313,
          0.2255084991564158,
          0.22354762673159279,
          0.22704451588919383,
          0.2065738248042186,
          0.20025409638504943,
          0.1632875660262505,
          0.1940691779450867,
          0.1947350575393496,
          0.2157409033902662,
          0.22945475491137213,
          0.22831908296532877,
          0.21640269783364396,
          0.18903627205470785,
          0.20027043698858948,
          0.224707809582946,
          0.22974888577509534,
          0.24088909223862087,
          0.26034258075321914,
          0.26502007851659926,
          0.26784291777816716,
          0.2735171923574986,
          0.2944086539836339,
          0.30944200924061027,
          0.32355212039756576,
          0.33088088108534164,
          0.3377643603266476,
          0.35496693070358454,
          0.3585332674262316,
          0.34142465551965095,
          0.36680161281756885,
          0.3783053977098638,
          0.3780153519970253,
          0.21686840503453952,
          0.235325116733186,
          0.01337886914853148,
          -0.015727830907435014,
          0.07442327882380306,
          0.032276777142763446,
          0.13968356421244388,
          0.14365841602359541,
          0.1429435146187119,
          0.18977159921401632,
          0.17700958784912668,
          0.1652892899599241,
          0.20451082360726924,
          0.23769041909562838,
          0.27144193570789454,
          0.22640314720024102,
          0.27266339582252397,
          0.25976248932754253,
          0.2786563121708894,
          0.2876599847215351,
          0.31360886314335956,
          0.32181593127142083,
          0.3261298506060315,
          0.368182393816715,
          0.37809705501472646,
          0.38303191728386454,
          0.4234912516493794,
          0.4114441416893728,
          0.3641094983843225,
          0.371389237261478,
          0.3262810011887787,
          0.381107811217007,
          0.40808206251097845,
          0.4229969483922884,
          0.41080277300042023,
          0.3522298796106029,
          0.43407179244165306,
          0.4449219531923405,
          0.46324794006266545,
          0.4827667909914246,
          0.4979104453222971,
          0.49847419614443367,
          0.5206892466573245,
          0.5127558836385613,
          0.5344112684802007,
          0.5539056085036493,
          0.5505353590234847,
          0.5740372320651654,
          0.5472018759012856,
          0.5816642087675499,
          0.5999003223184041,
          0.5989158009551074,
          0.5643431690149467,
          0.5394768555776597,
          0.6092798287504739,
          0.5995244884369795,
          0.5970979088112611,
          0.642177548827765,
          0.6737557651691857,
          0.7036794954021617,
          0.6892017206655514,
          0.7204490397852834,
          0.716425166163511,
          0.680018301475964,
          0.6990632749020573,
          0.7161228649980178,
          0.7128424888373244,
          0.7317689928877513,
          0.7246935115548481,
          0.7429255399548169,
          0.7647606714353983,
          0.7651201647132826,
          0.7811380413335554,
          0.7841814787429158,
          0.8052894533659583,
          0.8093541784965814,
          0.8223163622548382,
          0.7998357769344195,
          0.8260624456164272,
          0.853412530791823,
          0.8355726768768186,
          0.8275943771983201,
          0.8174754584560562,
          0.7596950843379382,
          0.7973683457998502,
          0.8130961767072846,
          0.858653779377339,
          0.8777069231052028,
          0.9118751251077439,
          0.8992969455326814,
          0.921875574474341,
          0.9206173480017461,
          0.8698144115952902,
          0.9067237498416978,
          0.9072221382496737,
          0.9305565201050674,
          0.952183308890511,
          0.9184072813729349,
          0.9032840527964874,
          0.8312628426930924,
          0.7674446155668739,
          0.829101797874902,
          0.8399846398326698,
          0.7894023015740064,
          0.7519986600705073,
          0.7825515035397808,
          0.7400781897879376,
          0.8022337605039418,
          0.8465535624558269,
          0.8507408421130009,
          0.8384036864401563,
          0.7944392926152706,
          0.7948764037599705,
          0.7515084419643017,
          0.6940589650678726,
          0.6054969790309186,
          0.5935315720886132,
          0.6576888667382912,
          0.7062939919685916,
          0.6413400928963295,
          0.4979308710767216,
          0.5506129768902996,
          0.546384845724275,
          0.594279154700577,
          0.548427421166799,
          0.6336314131762437,
          0.663649101879576,
          0.6961301365665922,
          0.7187332764135625,
          0.7499724252315239,
          0.7154038784422483,
          0.62051807883524,
          0.6365849772661336,
          0.5937603405381762,
          0.5351956174501289,
          0.4871869242490454,
          0.5296929192079691,
          0.49921360845462637,
          0.4975264411391018,
          0.5553394964643001,
          0.5196311925780961,
          0.6162368407077097,
          0.6122293076894778,
          0.6451964753318147,
          0.6653403543459859,
          0.6191536384396341,
          0.5914726560425494,
          0.5615039891498377,
          0.5724889598797316,
          0.5556663085351041,
          0.6271850450796383,
          0.5927390528169141,
          0.6587469208175185,
          0.7074950263287956,
          0.6673543337323145,
          0.6709942031708922,
          0.6390932599095529,
          0.6264415476185594,
          0.6006928415901025,
          0.6178341347037639,
          0.6131117002806483,
          0.6548251759678727,
          0.6769626086139477,
          0.6937934302603452,
          0.6870815273562114,
          0.6893528712482984,
          0.6590696477374378,
          0.6874205948796703,
          0.7149667672975486,
          0.6958605166081793,
          0.7243503588805038,
          0.7541351939833882,
          0.8080224193080556,
          0.7900681811682699,
          0.7960120757060143,
          0.8022010792968624,
          0.8424193897601591,
          0.8525628194077333,
          0.8536004477325356,
          0.8390899917888457,
          0.8255844829628771,
          0.7853580021978102,
          0.7877886669744141,
          0.8414471238495187,
          0.8183578510472278,
          0.8404013252229463,
          0.7688703332257569,
          0.7564923260440617,
          0.7395348647202276,
          0.776881314111336,
          0.7476275486235078,
          0.6901208796146876,
          0.7638782788442282,
          0.7759580700113151,
          0.841684062600851,
          0.861448022582713,
          0.8660152212721965,
          0.8732827046966971,
          0.9280073859527993,
          0.9391189963601296,
          0.9540706485994053,
          0.9153965251706564,
          0.952800166674155
         ],
         "yaxis": "y"
        }
       ],
       "layout": {
        "autosize": false,
        "height": 800,
        "legend": {
         "title": {
          "text": "variable"
         },
         "tracegroupgap": 0
        },
        "template": {
         "data": {
          "bar": [
           {
            "error_x": {
             "color": "#2a3f5f"
            },
            "error_y": {
             "color": "#2a3f5f"
            },
            "marker": {
             "line": {
              "color": "#E5ECF6",
              "width": 0.5
             },
             "pattern": {
              "fillmode": "overlay",
              "size": 10,
              "solidity": 0.2
             }
            },
            "type": "bar"
           }
          ],
          "barpolar": [
           {
            "marker": {
             "line": {
              "color": "#E5ECF6",
              "width": 0.5
             },
             "pattern": {
              "fillmode": "overlay",
              "size": 10,
              "solidity": 0.2
             }
            },
            "type": "barpolar"
           }
          ],
          "carpet": [
           {
            "aaxis": {
             "endlinecolor": "#2a3f5f",
             "gridcolor": "white",
             "linecolor": "white",
             "minorgridcolor": "white",
             "startlinecolor": "#2a3f5f"
            },
            "baxis": {
             "endlinecolor": "#2a3f5f",
             "gridcolor": "white",
             "linecolor": "white",
             "minorgridcolor": "white",
             "startlinecolor": "#2a3f5f"
            },
            "type": "carpet"
           }
          ],
          "choropleth": [
           {
            "colorbar": {
             "outlinewidth": 0,
             "ticks": ""
            },
            "type": "choropleth"
           }
          ],
          "contour": [
           {
            "colorbar": {
             "outlinewidth": 0,
             "ticks": ""
            },
            "colorscale": [
             [
              0,
              "#0d0887"
             ],
             [
              0.1111111111111111,
              "#46039f"
             ],
             [
              0.2222222222222222,
              "#7201a8"
             ],
             [
              0.3333333333333333,
              "#9c179e"
             ],
             [
              0.4444444444444444,
              "#bd3786"
             ],
             [
              0.5555555555555556,
              "#d8576b"
             ],
             [
              0.6666666666666666,
              "#ed7953"
             ],
             [
              0.7777777777777778,
              "#fb9f3a"
             ],
             [
              0.8888888888888888,
              "#fdca26"
             ],
             [
              1,
              "#f0f921"
             ]
            ],
            "type": "contour"
           }
          ],
          "contourcarpet": [
           {
            "colorbar": {
             "outlinewidth": 0,
             "ticks": ""
            },
            "type": "contourcarpet"
           }
          ],
          "heatmap": [
           {
            "colorbar": {
             "outlinewidth": 0,
             "ticks": ""
            },
            "colorscale": [
             [
              0,
              "#0d0887"
             ],
             [
              0.1111111111111111,
              "#46039f"
             ],
             [
              0.2222222222222222,
              "#7201a8"
             ],
             [
              0.3333333333333333,
              "#9c179e"
             ],
             [
              0.4444444444444444,
              "#bd3786"
             ],
             [
              0.5555555555555556,
              "#d8576b"
             ],
             [
              0.6666666666666666,
              "#ed7953"
             ],
             [
              0.7777777777777778,
              "#fb9f3a"
             ],
             [
              0.8888888888888888,
              "#fdca26"
             ],
             [
              1,
              "#f0f921"
             ]
            ],
            "type": "heatmap"
           }
          ],
          "heatmapgl": [
           {
            "colorbar": {
             "outlinewidth": 0,
             "ticks": ""
            },
            "colorscale": [
             [
              0,
              "#0d0887"
             ],
             [
              0.1111111111111111,
              "#46039f"
             ],
             [
              0.2222222222222222,
              "#7201a8"
             ],
             [
              0.3333333333333333,
              "#9c179e"
             ],
             [
              0.4444444444444444,
              "#bd3786"
             ],
             [
              0.5555555555555556,
              "#d8576b"
             ],
             [
              0.6666666666666666,
              "#ed7953"
             ],
             [
              0.7777777777777778,
              "#fb9f3a"
             ],
             [
              0.8888888888888888,
              "#fdca26"
             ],
             [
              1,
              "#f0f921"
             ]
            ],
            "type": "heatmapgl"
           }
          ],
          "histogram": [
           {
            "marker": {
             "pattern": {
              "fillmode": "overlay",
              "size": 10,
              "solidity": 0.2
             }
            },
            "type": "histogram"
           }
          ],
          "histogram2d": [
           {
            "colorbar": {
             "outlinewidth": 0,
             "ticks": ""
            },
            "colorscale": [
             [
              0,
              "#0d0887"
             ],
             [
              0.1111111111111111,
              "#46039f"
             ],
             [
              0.2222222222222222,
              "#7201a8"
             ],
             [
              0.3333333333333333,
              "#9c179e"
             ],
             [
              0.4444444444444444,
              "#bd3786"
             ],
             [
              0.5555555555555556,
              "#d8576b"
             ],
             [
              0.6666666666666666,
              "#ed7953"
             ],
             [
              0.7777777777777778,
              "#fb9f3a"
             ],
             [
              0.8888888888888888,
              "#fdca26"
             ],
             [
              1,
              "#f0f921"
             ]
            ],
            "type": "histogram2d"
           }
          ],
          "histogram2dcontour": [
           {
            "colorbar": {
             "outlinewidth": 0,
             "ticks": ""
            },
            "colorscale": [
             [
              0,
              "#0d0887"
             ],
             [
              0.1111111111111111,
              "#46039f"
             ],
             [
              0.2222222222222222,
              "#7201a8"
             ],
             [
              0.3333333333333333,
              "#9c179e"
             ],
             [
              0.4444444444444444,
              "#bd3786"
             ],
             [
              0.5555555555555556,
              "#d8576b"
             ],
             [
              0.6666666666666666,
              "#ed7953"
             ],
             [
              0.7777777777777778,
              "#fb9f3a"
             ],
             [
              0.8888888888888888,
              "#fdca26"
             ],
             [
              1,
              "#f0f921"
             ]
            ],
            "type": "histogram2dcontour"
           }
          ],
          "mesh3d": [
           {
            "colorbar": {
             "outlinewidth": 0,
             "ticks": ""
            },
            "type": "mesh3d"
           }
          ],
          "parcoords": [
           {
            "line": {
             "colorbar": {
              "outlinewidth": 0,
              "ticks": ""
             }
            },
            "type": "parcoords"
           }
          ],
          "pie": [
           {
            "automargin": true,
            "type": "pie"
           }
          ],
          "scatter": [
           {
            "fillpattern": {
             "fillmode": "overlay",
             "size": 10,
             "solidity": 0.2
            },
            "type": "scatter"
           }
          ],
          "scatter3d": [
           {
            "line": {
             "colorbar": {
              "outlinewidth": 0,
              "ticks": ""
             }
            },
            "marker": {
             "colorbar": {
              "outlinewidth": 0,
              "ticks": ""
             }
            },
            "type": "scatter3d"
           }
          ],
          "scattercarpet": [
           {
            "marker": {
             "colorbar": {
              "outlinewidth": 0,
              "ticks": ""
             }
            },
            "type": "scattercarpet"
           }
          ],
          "scattergeo": [
           {
            "marker": {
             "colorbar": {
              "outlinewidth": 0,
              "ticks": ""
             }
            },
            "type": "scattergeo"
           }
          ],
          "scattergl": [
           {
            "marker": {
             "colorbar": {
              "outlinewidth": 0,
              "ticks": ""
             }
            },
            "type": "scattergl"
           }
          ],
          "scattermapbox": [
           {
            "marker": {
             "colorbar": {
              "outlinewidth": 0,
              "ticks": ""
             }
            },
            "type": "scattermapbox"
           }
          ],
          "scatterpolar": [
           {
            "marker": {
             "colorbar": {
              "outlinewidth": 0,
              "ticks": ""
             }
            },
            "type": "scatterpolar"
           }
          ],
          "scatterpolargl": [
           {
            "marker": {
             "colorbar": {
              "outlinewidth": 0,
              "ticks": ""
             }
            },
            "type": "scatterpolargl"
           }
          ],
          "scatterternary": [
           {
            "marker": {
             "colorbar": {
              "outlinewidth": 0,
              "ticks": ""
             }
            },
            "type": "scatterternary"
           }
          ],
          "surface": [
           {
            "colorbar": {
             "outlinewidth": 0,
             "ticks": ""
            },
            "colorscale": [
             [
              0,
              "#0d0887"
             ],
             [
              0.1111111111111111,
              "#46039f"
             ],
             [
              0.2222222222222222,
              "#7201a8"
             ],
             [
              0.3333333333333333,
              "#9c179e"
             ],
             [
              0.4444444444444444,
              "#bd3786"
             ],
             [
              0.5555555555555556,
              "#d8576b"
             ],
             [
              0.6666666666666666,
              "#ed7953"
             ],
             [
              0.7777777777777778,
              "#fb9f3a"
             ],
             [
              0.8888888888888888,
              "#fdca26"
             ],
             [
              1,
              "#f0f921"
             ]
            ],
            "type": "surface"
           }
          ],
          "table": [
           {
            "cells": {
             "fill": {
              "color": "#EBF0F8"
             },
             "line": {
              "color": "white"
             }
            },
            "header": {
             "fill": {
              "color": "#C8D4E3"
             },
             "line": {
              "color": "white"
             }
            },
            "type": "table"
           }
          ]
         },
         "layout": {
          "annotationdefaults": {
           "arrowcolor": "#2a3f5f",
           "arrowhead": 0,
           "arrowwidth": 1
          },
          "autotypenumbers": "strict",
          "coloraxis": {
           "colorbar": {
            "outlinewidth": 0,
            "ticks": ""
           }
          },
          "colorscale": {
           "diverging": [
            [
             0,
             "#8e0152"
            ],
            [
             0.1,
             "#c51b7d"
            ],
            [
             0.2,
             "#de77ae"
            ],
            [
             0.3,
             "#f1b6da"
            ],
            [
             0.4,
             "#fde0ef"
            ],
            [
             0.5,
             "#f7f7f7"
            ],
            [
             0.6,
             "#e6f5d0"
            ],
            [
             0.7,
             "#b8e186"
            ],
            [
             0.8,
             "#7fbc41"
            ],
            [
             0.9,
             "#4d9221"
            ],
            [
             1,
             "#276419"
            ]
           ],
           "sequential": [
            [
             0,
             "#0d0887"
            ],
            [
             0.1111111111111111,
             "#46039f"
            ],
            [
             0.2222222222222222,
             "#7201a8"
            ],
            [
             0.3333333333333333,
             "#9c179e"
            ],
            [
             0.4444444444444444,
             "#bd3786"
            ],
            [
             0.5555555555555556,
             "#d8576b"
            ],
            [
             0.6666666666666666,
             "#ed7953"
            ],
            [
             0.7777777777777778,
             "#fb9f3a"
            ],
            [
             0.8888888888888888,
             "#fdca26"
            ],
            [
             1,
             "#f0f921"
            ]
           ],
           "sequentialminus": [
            [
             0,
             "#0d0887"
            ],
            [
             0.1111111111111111,
             "#46039f"
            ],
            [
             0.2222222222222222,
             "#7201a8"
            ],
            [
             0.3333333333333333,
             "#9c179e"
            ],
            [
             0.4444444444444444,
             "#bd3786"
            ],
            [
             0.5555555555555556,
             "#d8576b"
            ],
            [
             0.6666666666666666,
             "#ed7953"
            ],
            [
             0.7777777777777778,
             "#fb9f3a"
            ],
            [
             0.8888888888888888,
             "#fdca26"
            ],
            [
             1,
             "#f0f921"
            ]
           ]
          },
          "colorway": [
           "#636efa",
           "#EF553B",
           "#00cc96",
           "#ab63fa",
           "#FFA15A",
           "#19d3f3",
           "#FF6692",
           "#B6E880",
           "#FF97FF",
           "#FECB52"
          ],
          "font": {
           "color": "#2a3f5f"
          },
          "geo": {
           "bgcolor": "white",
           "lakecolor": "white",
           "landcolor": "#E5ECF6",
           "showlakes": true,
           "showland": true,
           "subunitcolor": "white"
          },
          "hoverlabel": {
           "align": "left"
          },
          "hovermode": "closest",
          "mapbox": {
           "style": "light"
          },
          "paper_bgcolor": "white",
          "plot_bgcolor": "#E5ECF6",
          "polar": {
           "angularaxis": {
            "gridcolor": "white",
            "linecolor": "white",
            "ticks": ""
           },
           "bgcolor": "#E5ECF6",
           "radialaxis": {
            "gridcolor": "white",
            "linecolor": "white",
            "ticks": ""
           }
          },
          "scene": {
           "xaxis": {
            "backgroundcolor": "#E5ECF6",
            "gridcolor": "white",
            "gridwidth": 2,
            "linecolor": "white",
            "showbackground": true,
            "ticks": "",
            "zerolinecolor": "white"
           },
           "yaxis": {
            "backgroundcolor": "#E5ECF6",
            "gridcolor": "white",
            "gridwidth": 2,
            "linecolor": "white",
            "showbackground": true,
            "ticks": "",
            "zerolinecolor": "white"
           },
           "zaxis": {
            "backgroundcolor": "#E5ECF6",
            "gridcolor": "white",
            "gridwidth": 2,
            "linecolor": "white",
            "showbackground": true,
            "ticks": "",
            "zerolinecolor": "white"
           }
          },
          "shapedefaults": {
           "line": {
            "color": "#2a3f5f"
           }
          },
          "ternary": {
           "aaxis": {
            "gridcolor": "white",
            "linecolor": "white",
            "ticks": ""
           },
           "baxis": {
            "gridcolor": "white",
            "linecolor": "white",
            "ticks": ""
           },
           "bgcolor": "#E5ECF6",
           "caxis": {
            "gridcolor": "white",
            "linecolor": "white",
            "ticks": ""
           }
          },
          "title": {
           "x": 0.05
          },
          "xaxis": {
           "automargin": true,
           "gridcolor": "white",
           "linecolor": "white",
           "ticks": "",
           "title": {
            "standoff": 15
           },
           "zerolinecolor": "white",
           "zerolinewidth": 2
          },
          "yaxis": {
           "automargin": true,
           "gridcolor": "white",
           "linecolor": "white",
           "ticks": "",
           "title": {
            "standoff": 15
           },
           "zerolinecolor": "white",
           "zerolinewidth": 2
          }
         }
        },
        "title": {
         "text": "Monetary Policy v. SPX"
        },
        "width": 800,
        "xaxis": {
         "anchor": "y",
         "domain": [
          0,
          1
         ],
         "dtick": "M1",
         "tickformat": "%b\n%Y",
         "tickmode": "auto",
         "title": {
          "text": "Date"
         }
        },
        "yaxis": {
         "anchor": "x",
         "domain": [
          0,
          1
         ],
         "title": {
          "text": "Normalized Levels"
         }
        }
       }
      }
     },
     "metadata": {},
     "output_type": "display_data"
    }
   ],
   "source": [
    "fig = px.line(fed_norm['2012':].dropna().reset_index(), x=\"DATE\", y=[\"Liquidity\",\"SP500\"],\n",
    "              hover_data={\"DATE\": \"|%B %d, %Y\"},\n",
    "              title='Monetary Policy v. SPX')\n",
    "fig.update_xaxes(\n",
    "    dtick=\"M1\",\n",
    "    tickmode= 'auto',\n",
    "    tickformat= '%b\\n%Y')\n",
    "\n",
    "fig.update_layout(\n",
    "    autosize=False,\n",
    "    width=800,\n",
    "    height=800,\n",
    "    xaxis_title=\"Date\", \n",
    "    yaxis_title=\"Normalized Levels\"\n",
    ")"
   ]
  },
  {
   "cell_type": "code",
   "execution_count": 148,
   "metadata": {},
   "outputs": [
    {
     "data": {
      "application/vnd.plotly.v1+json": {
       "config": {
        "plotlyServerURL": "https://plot.ly"
       },
       "data": [
        {
         "hovertemplate": "variable=TGA<br>DATE=%{x|%B %d, %Y}<br>value=%{y}<extra></extra>",
         "legendgroup": "TGA",
         "line": {
          "color": "#636efa",
          "dash": "solid"
         },
         "marker": {
          "symbol": "circle"
         },
         "mode": "lines",
         "name": "TGA",
         "orientation": "v",
         "showlegend": true,
         "type": "scatter",
         "x": [
          "2019-01-03T00:00:00",
          "2019-01-10T00:00:00",
          "2019-01-17T00:00:00",
          "2019-01-24T00:00:00",
          "2019-01-31T00:00:00",
          "2019-02-07T00:00:00",
          "2019-02-14T00:00:00",
          "2019-02-21T00:00:00",
          "2019-02-28T00:00:00",
          "2019-03-07T00:00:00",
          "2019-03-14T00:00:00",
          "2019-03-21T00:00:00",
          "2019-03-28T00:00:00",
          "2019-04-04T00:00:00",
          "2019-04-11T00:00:00",
          "2019-04-18T00:00:00",
          "2019-04-25T00:00:00",
          "2019-05-02T00:00:00",
          "2019-05-09T00:00:00",
          "2019-05-16T00:00:00",
          "2019-05-23T00:00:00",
          "2019-05-30T00:00:00",
          "2019-06-06T00:00:00",
          "2019-06-13T00:00:00",
          "2019-06-20T00:00:00",
          "2019-06-27T00:00:00",
          "2019-07-04T00:00:00",
          "2019-07-11T00:00:00",
          "2019-07-18T00:00:00",
          "2019-07-25T00:00:00",
          "2019-08-01T00:00:00",
          "2019-08-08T00:00:00",
          "2019-08-15T00:00:00",
          "2019-08-22T00:00:00",
          "2019-08-29T00:00:00",
          "2019-09-05T00:00:00",
          "2019-09-12T00:00:00",
          "2019-09-19T00:00:00",
          "2019-09-26T00:00:00",
          "2019-10-03T00:00:00",
          "2019-10-10T00:00:00",
          "2019-10-17T00:00:00",
          "2019-10-24T00:00:00",
          "2019-10-31T00:00:00",
          "2019-11-07T00:00:00",
          "2019-11-14T00:00:00",
          "2019-11-21T00:00:00",
          "2019-12-05T00:00:00",
          "2019-12-12T00:00:00",
          "2019-12-19T00:00:00",
          "2019-12-26T00:00:00",
          "2020-01-02T00:00:00",
          "2020-01-09T00:00:00",
          "2020-01-16T00:00:00",
          "2020-01-23T00:00:00",
          "2020-01-30T00:00:00",
          "2020-02-06T00:00:00",
          "2020-02-13T00:00:00",
          "2020-02-20T00:00:00",
          "2020-02-27T00:00:00",
          "2020-03-05T00:00:00",
          "2020-03-12T00:00:00",
          "2020-03-19T00:00:00",
          "2020-03-26T00:00:00",
          "2020-04-02T00:00:00",
          "2020-04-09T00:00:00",
          "2020-04-16T00:00:00",
          "2020-04-23T00:00:00",
          "2020-04-30T00:00:00",
          "2020-05-07T00:00:00",
          "2020-05-14T00:00:00",
          "2020-05-21T00:00:00",
          "2020-05-28T00:00:00",
          "2020-06-04T00:00:00",
          "2020-06-11T00:00:00",
          "2020-06-18T00:00:00",
          "2020-06-25T00:00:00",
          "2020-07-02T00:00:00",
          "2020-07-09T00:00:00",
          "2020-07-16T00:00:00",
          "2020-07-23T00:00:00",
          "2020-07-30T00:00:00",
          "2020-08-06T00:00:00",
          "2020-08-13T00:00:00",
          "2020-08-20T00:00:00",
          "2020-08-27T00:00:00",
          "2020-09-03T00:00:00",
          "2020-09-10T00:00:00",
          "2020-09-17T00:00:00",
          "2020-09-24T00:00:00",
          "2020-10-01T00:00:00",
          "2020-10-08T00:00:00",
          "2020-10-15T00:00:00",
          "2020-10-22T00:00:00",
          "2020-10-29T00:00:00",
          "2020-11-05T00:00:00",
          "2020-11-12T00:00:00",
          "2020-11-19T00:00:00",
          "2020-11-26T00:00:00",
          "2020-12-03T00:00:00",
          "2020-12-10T00:00:00",
          "2020-12-17T00:00:00",
          "2020-12-24T00:00:00",
          "2020-12-31T00:00:00",
          "2021-01-07T00:00:00",
          "2021-01-14T00:00:00",
          "2021-01-21T00:00:00",
          "2021-01-28T00:00:00",
          "2021-02-04T00:00:00",
          "2021-02-11T00:00:00",
          "2021-02-18T00:00:00",
          "2021-02-25T00:00:00",
          "2021-03-04T00:00:00",
          "2021-03-11T00:00:00",
          "2021-03-18T00:00:00",
          "2021-03-25T00:00:00",
          "2021-04-01T00:00:00",
          "2021-04-08T00:00:00",
          "2021-04-15T00:00:00",
          "2021-04-22T00:00:00",
          "2021-04-29T00:00:00",
          "2021-05-06T00:00:00",
          "2021-05-13T00:00:00",
          "2021-05-20T00:00:00",
          "2021-05-27T00:00:00",
          "2021-06-03T00:00:00",
          "2021-06-10T00:00:00",
          "2021-06-17T00:00:00",
          "2021-06-24T00:00:00",
          "2021-07-01T00:00:00",
          "2021-07-08T00:00:00",
          "2021-07-15T00:00:00",
          "2021-07-22T00:00:00",
          "2021-07-29T00:00:00",
          "2021-08-05T00:00:00",
          "2021-08-12T00:00:00",
          "2021-08-19T00:00:00",
          "2021-08-26T00:00:00",
          "2021-09-02T00:00:00",
          "2021-09-09T00:00:00",
          "2021-09-16T00:00:00",
          "2021-09-23T00:00:00",
          "2021-09-30T00:00:00",
          "2021-10-07T00:00:00",
          "2021-10-14T00:00:00",
          "2021-10-21T00:00:00",
          "2021-10-28T00:00:00",
          "2021-11-04T00:00:00",
          "2021-11-11T00:00:00",
          "2021-11-18T00:00:00",
          "2021-11-25T00:00:00",
          "2021-12-02T00:00:00",
          "2021-12-09T00:00:00",
          "2021-12-16T00:00:00",
          "2021-12-23T00:00:00",
          "2021-12-30T00:00:00",
          "2022-01-06T00:00:00",
          "2022-01-13T00:00:00",
          "2022-01-20T00:00:00",
          "2022-01-27T00:00:00",
          "2022-02-03T00:00:00",
          "2022-02-10T00:00:00",
          "2022-02-17T00:00:00",
          "2022-02-24T00:00:00",
          "2022-03-03T00:00:00",
          "2022-03-10T00:00:00",
          "2022-03-17T00:00:00",
          "2022-03-24T00:00:00",
          "2022-03-31T00:00:00",
          "2022-04-07T00:00:00",
          "2022-04-14T00:00:00",
          "2022-04-21T00:00:00",
          "2022-04-28T00:00:00",
          "2022-05-05T00:00:00",
          "2022-05-12T00:00:00",
          "2022-05-19T00:00:00",
          "2022-05-26T00:00:00",
          "2022-06-02T00:00:00",
          "2022-06-09T00:00:00",
          "2022-06-16T00:00:00",
          "2022-06-23T00:00:00",
          "2022-06-30T00:00:00",
          "2022-07-07T00:00:00",
          "2022-07-14T00:00:00",
          "2022-07-21T00:00:00",
          "2022-07-28T00:00:00",
          "2022-08-04T00:00:00",
          "2022-08-11T00:00:00",
          "2022-08-18T00:00:00",
          "2022-08-25T00:00:00",
          "2022-09-01T00:00:00",
          "2022-09-08T00:00:00",
          "2022-09-15T00:00:00",
          "2022-09-22T00:00:00",
          "2022-09-29T00:00:00",
          "2022-10-06T00:00:00",
          "2022-10-13T00:00:00",
          "2022-10-20T00:00:00",
          "2022-10-27T00:00:00",
          "2022-11-03T00:00:00",
          "2022-11-10T00:00:00",
          "2022-11-17T00:00:00",
          "2022-11-24T00:00:00",
          "2022-12-01T00:00:00",
          "2022-12-08T00:00:00",
          "2022-12-15T00:00:00",
          "2022-12-22T00:00:00",
          "2022-12-29T00:00:00",
          "2023-01-05T00:00:00",
          "2023-01-12T00:00:00",
          "2023-01-19T00:00:00",
          "2023-01-26T00:00:00",
          "2023-02-02T00:00:00",
          "2023-02-09T00:00:00",
          "2023-02-16T00:00:00",
          "2023-02-23T00:00:00",
          "2023-03-02T00:00:00",
          "2023-03-09T00:00:00",
          "2023-03-16T00:00:00",
          "2023-03-23T00:00:00",
          "2023-03-30T00:00:00",
          "2023-04-06T00:00:00",
          "2023-04-13T00:00:00",
          "2023-04-20T00:00:00",
          "2023-04-27T00:00:00",
          "2023-05-04T00:00:00",
          "2023-05-11T00:00:00",
          "2023-05-18T00:00:00",
          "2023-05-25T00:00:00",
          "2023-06-01T00:00:00",
          "2023-06-08T00:00:00",
          "2023-06-15T00:00:00",
          "2023-06-22T00:00:00",
          "2023-06-29T00:00:00",
          "2023-07-06T00:00:00",
          "2023-07-13T00:00:00",
          "2023-07-20T00:00:00",
          "2023-07-27T00:00:00",
          "2023-08-03T00:00:00",
          "2023-08-10T00:00:00",
          "2023-08-17T00:00:00",
          "2023-08-24T00:00:00",
          "2023-08-31T00:00:00",
          "2023-09-07T00:00:00",
          "2023-09-14T00:00:00",
          "2023-09-21T00:00:00",
          "2023-09-28T00:00:00",
          "2023-10-05T00:00:00",
          "2023-10-12T00:00:00",
          "2023-10-19T00:00:00",
          "2023-10-26T00:00:00",
          "2023-11-02T00:00:00",
          "2023-11-09T00:00:00",
          "2023-11-16T00:00:00",
          "2023-11-23T00:00:00",
          "2023-11-30T00:00:00",
          "2023-12-07T00:00:00",
          "2023-12-14T00:00:00",
          "2023-12-21T00:00:00",
          "2023-12-28T00:00:00",
          "2024-01-04T00:00:00",
          "2024-01-11T00:00:00"
         ],
         "xaxis": "x",
         "y": [
          382616,
          349443,
          396414,
          402227,
          411384,
          353896,
          375119,
          331003,
          266024,
          213611,
          238381,
          314749,
          295593,
          270470,
          245664,
          369365,
          398916,
          368764,
          344461,
          294969,
          264581,
          249011,
          207647,
          173062,
          258641,
          240909,
          220911,
          195226,
          206203,
          178227,
          176662,
          133077,
          130981,
          131447,
          150146,
          174779,
          183581,
          303057,
          305810,
          335185,
          297389,
          361497,
          375170,
          400616,
          378184,
          370185,
          357551,
          338453,
          304160,
          378573,
          351934,
          403853,
          350840,
          380802,
          411708,
          450537,
          416585,
          404341,
          421051,
          387615,
          381302,
          372337,
          401354,
          384890,
          506933,
          827178,
          856155,
          949999,
          1076232,
          1143268,
          1138172,
          1193297,
          1326897,
          1431462,
          1504569,
          1565306,
          1586573,
          1656747,
          1624404,
          1740455,
          1777180,
          1792434,
          1706637,
          1635143,
          1636393,
          1607449,
          1651823,
          1570533,
          1692809,
          1661732,
          1781679,
          1687434,
          1647937,
          1699497,
          1653039,
          1618568,
          1570768,
          1546924,
          1484036,
          1557239,
          1502361,
          1615873,
          1583308,
          1613514,
          1607396,
          1575875,
          1638331,
          1613377,
          1629729,
          1576744,
          1568893,
          1439646,
          1420238,
          1310273,
          1089501,
          1031908,
          1121951,
          954968,
          921685,
          1003443,
          932287,
          946134,
          864253,
          860833,
          778912,
          812087,
          673555,
          765114,
          733877,
          851929,
          724898,
          657542,
          616294,
          536966,
          505871,
          389747,
          313651,
          258200,
          296934,
          200702,
          344668,
          272679,
          173745,
          95854,
          72460,
          117364,
          236495,
          286959,
          231421,
          178972,
          141042,
          159148,
          125144,
          58294,
          197516,
          283995,
          434757,
          489679,
          580171,
          639620,
          710267,
          679019,
          709261,
          674797,
          685491,
          609369,
          621527,
          576442,
          556791,
          545584,
          543536,
          907526,
          957419,
          964412,
          919331,
          866726,
          801714,
          780575,
          683892,
          769937,
          745052,
          759845,
          687943,
          618740,
          616348,
          615515,
          566577,
          561140,
          539278,
          530196,
          669911,
          582921,
          617997,
          690286,
          661920,
          622131,
          583513,
          640613,
          636327,
          552089,
          517340,
          472185,
          492754,
          532791,
          410853,
          342104,
          434922,
          409809,
          379620,
          346426,
          377500,
          572622,
          500852,
          495838,
          439703,
          451307,
          351015,
          311731,
          277643,
          199856,
          162758,
          140688,
          86554,
          265095,
          296209,
          188309,
          154808,
          68332,
          49473,
          48512,
          77500,
          134857,
          292106,
          408561,
          446864,
          517418,
          537441,
          549897,
          460926,
          432262,
          384814,
          416031,
          500702,
          481552,
          537364,
          661717,
          672142,
          678959,
          713000,
          841103,
          847717,
          753008,
          763459,
          669976,
          693007,
          753570,
          667678,
          630618,
          732721,
          713064,
          743464,
          727856
         ],
         "yaxis": "y"
        },
        {
         "hovertemplate": "variable=RRP<br>DATE=%{x|%B %d, %Y}<br>value=%{y}<extra></extra>",
         "legendgroup": "RRP",
         "line": {
          "color": "#EF553B",
          "dash": "solid"
         },
         "marker": {
          "symbol": "circle"
         },
         "mode": "lines",
         "name": "RRP",
         "orientation": "v",
         "showlegend": true,
         "type": "scatter",
         "x": [
          "2019-01-03T00:00:00",
          "2019-01-10T00:00:00",
          "2019-01-17T00:00:00",
          "2019-01-24T00:00:00",
          "2019-01-31T00:00:00",
          "2019-02-07T00:00:00",
          "2019-02-14T00:00:00",
          "2019-02-21T00:00:00",
          "2019-02-28T00:00:00",
          "2019-03-07T00:00:00",
          "2019-03-14T00:00:00",
          "2019-03-21T00:00:00",
          "2019-03-28T00:00:00",
          "2019-04-04T00:00:00",
          "2019-04-11T00:00:00",
          "2019-04-18T00:00:00",
          "2019-04-25T00:00:00",
          "2019-05-02T00:00:00",
          "2019-05-09T00:00:00",
          "2019-05-16T00:00:00",
          "2019-05-23T00:00:00",
          "2019-05-30T00:00:00",
          "2019-06-06T00:00:00",
          "2019-06-13T00:00:00",
          "2019-06-20T00:00:00",
          "2019-06-27T00:00:00",
          "2019-07-04T00:00:00",
          "2019-07-11T00:00:00",
          "2019-07-18T00:00:00",
          "2019-07-25T00:00:00",
          "2019-08-01T00:00:00",
          "2019-08-08T00:00:00",
          "2019-08-15T00:00:00",
          "2019-08-22T00:00:00",
          "2019-08-29T00:00:00",
          "2019-09-05T00:00:00",
          "2019-09-12T00:00:00",
          "2019-09-19T00:00:00",
          "2019-09-26T00:00:00",
          "2019-10-03T00:00:00",
          "2019-10-10T00:00:00",
          "2019-10-17T00:00:00",
          "2019-10-24T00:00:00",
          "2019-10-31T00:00:00",
          "2019-11-07T00:00:00",
          "2019-11-14T00:00:00",
          "2019-11-21T00:00:00",
          "2019-12-05T00:00:00",
          "2019-12-12T00:00:00",
          "2019-12-19T00:00:00",
          "2019-12-26T00:00:00",
          "2020-01-02T00:00:00",
          "2020-01-09T00:00:00",
          "2020-01-16T00:00:00",
          "2020-01-23T00:00:00",
          "2020-01-30T00:00:00",
          "2020-02-06T00:00:00",
          "2020-02-13T00:00:00",
          "2020-02-20T00:00:00",
          "2020-02-27T00:00:00",
          "2020-03-05T00:00:00",
          "2020-03-12T00:00:00",
          "2020-03-19T00:00:00",
          "2020-03-26T00:00:00",
          "2020-04-02T00:00:00",
          "2020-04-09T00:00:00",
          "2020-04-16T00:00:00",
          "2020-04-23T00:00:00",
          "2020-04-30T00:00:00",
          "2020-05-07T00:00:00",
          "2020-05-14T00:00:00",
          "2020-05-21T00:00:00",
          "2020-05-28T00:00:00",
          "2020-06-04T00:00:00",
          "2020-06-11T00:00:00",
          "2020-06-18T00:00:00",
          "2020-06-25T00:00:00",
          "2020-07-02T00:00:00",
          "2020-07-09T00:00:00",
          "2020-07-16T00:00:00",
          "2020-07-23T00:00:00",
          "2020-07-30T00:00:00",
          "2020-08-06T00:00:00",
          "2020-08-13T00:00:00",
          "2020-08-20T00:00:00",
          "2020-08-27T00:00:00",
          "2020-09-03T00:00:00",
          "2020-09-10T00:00:00",
          "2020-09-17T00:00:00",
          "2020-09-24T00:00:00",
          "2020-10-01T00:00:00",
          "2020-10-08T00:00:00",
          "2020-10-15T00:00:00",
          "2020-10-22T00:00:00",
          "2020-10-29T00:00:00",
          "2020-11-05T00:00:00",
          "2020-11-12T00:00:00",
          "2020-11-19T00:00:00",
          "2020-11-26T00:00:00",
          "2020-12-03T00:00:00",
          "2020-12-10T00:00:00",
          "2020-12-17T00:00:00",
          "2020-12-24T00:00:00",
          "2020-12-31T00:00:00",
          "2021-01-07T00:00:00",
          "2021-01-14T00:00:00",
          "2021-01-21T00:00:00",
          "2021-01-28T00:00:00",
          "2021-02-04T00:00:00",
          "2021-02-11T00:00:00",
          "2021-02-18T00:00:00",
          "2021-02-25T00:00:00",
          "2021-03-04T00:00:00",
          "2021-03-11T00:00:00",
          "2021-03-18T00:00:00",
          "2021-03-25T00:00:00",
          "2021-04-01T00:00:00",
          "2021-04-08T00:00:00",
          "2021-04-15T00:00:00",
          "2021-04-22T00:00:00",
          "2021-04-29T00:00:00",
          "2021-05-06T00:00:00",
          "2021-05-13T00:00:00",
          "2021-05-20T00:00:00",
          "2021-05-27T00:00:00",
          "2021-06-03T00:00:00",
          "2021-06-10T00:00:00",
          "2021-06-17T00:00:00",
          "2021-06-24T00:00:00",
          "2021-07-01T00:00:00",
          "2021-07-08T00:00:00",
          "2021-07-15T00:00:00",
          "2021-07-22T00:00:00",
          "2021-07-29T00:00:00",
          "2021-08-05T00:00:00",
          "2021-08-12T00:00:00",
          "2021-08-19T00:00:00",
          "2021-08-26T00:00:00",
          "2021-09-02T00:00:00",
          "2021-09-09T00:00:00",
          "2021-09-16T00:00:00",
          "2021-09-23T00:00:00",
          "2021-09-30T00:00:00",
          "2021-10-07T00:00:00",
          "2021-10-14T00:00:00",
          "2021-10-21T00:00:00",
          "2021-10-28T00:00:00",
          "2021-11-04T00:00:00",
          "2021-11-11T00:00:00",
          "2021-11-18T00:00:00",
          "2021-11-25T00:00:00",
          "2021-12-02T00:00:00",
          "2021-12-09T00:00:00",
          "2021-12-16T00:00:00",
          "2021-12-23T00:00:00",
          "2021-12-30T00:00:00",
          "2022-01-06T00:00:00",
          "2022-01-13T00:00:00",
          "2022-01-20T00:00:00",
          "2022-01-27T00:00:00",
          "2022-02-03T00:00:00",
          "2022-02-10T00:00:00",
          "2022-02-17T00:00:00",
          "2022-02-24T00:00:00",
          "2022-03-03T00:00:00",
          "2022-03-10T00:00:00",
          "2022-03-17T00:00:00",
          "2022-03-24T00:00:00",
          "2022-03-31T00:00:00",
          "2022-04-07T00:00:00",
          "2022-04-14T00:00:00",
          "2022-04-21T00:00:00",
          "2022-04-28T00:00:00",
          "2022-05-05T00:00:00",
          "2022-05-12T00:00:00",
          "2022-05-19T00:00:00",
          "2022-05-26T00:00:00",
          "2022-06-02T00:00:00",
          "2022-06-09T00:00:00",
          "2022-06-16T00:00:00",
          "2022-06-23T00:00:00",
          "2022-06-30T00:00:00",
          "2022-07-07T00:00:00",
          "2022-07-14T00:00:00",
          "2022-07-21T00:00:00",
          "2022-07-28T00:00:00",
          "2022-08-04T00:00:00",
          "2022-08-11T00:00:00",
          "2022-08-18T00:00:00",
          "2022-08-25T00:00:00",
          "2022-09-01T00:00:00",
          "2022-09-08T00:00:00",
          "2022-09-15T00:00:00",
          "2022-09-22T00:00:00",
          "2022-09-29T00:00:00",
          "2022-10-06T00:00:00",
          "2022-10-13T00:00:00",
          "2022-10-20T00:00:00",
          "2022-10-27T00:00:00",
          "2022-11-03T00:00:00",
          "2022-11-10T00:00:00",
          "2022-11-17T00:00:00",
          "2022-11-24T00:00:00",
          "2022-12-01T00:00:00",
          "2022-12-08T00:00:00",
          "2022-12-15T00:00:00",
          "2022-12-22T00:00:00",
          "2022-12-29T00:00:00",
          "2023-01-05T00:00:00",
          "2023-01-12T00:00:00",
          "2023-01-19T00:00:00",
          "2023-01-26T00:00:00",
          "2023-02-02T00:00:00",
          "2023-02-09T00:00:00",
          "2023-02-16T00:00:00",
          "2023-02-23T00:00:00",
          "2023-03-02T00:00:00",
          "2023-03-09T00:00:00",
          "2023-03-16T00:00:00",
          "2023-03-23T00:00:00",
          "2023-03-30T00:00:00",
          "2023-04-06T00:00:00",
          "2023-04-13T00:00:00",
          "2023-04-20T00:00:00",
          "2023-04-27T00:00:00",
          "2023-05-04T00:00:00",
          "2023-05-11T00:00:00",
          "2023-05-18T00:00:00",
          "2023-05-25T00:00:00",
          "2023-06-01T00:00:00",
          "2023-06-08T00:00:00",
          "2023-06-15T00:00:00",
          "2023-06-22T00:00:00",
          "2023-06-29T00:00:00",
          "2023-07-06T00:00:00",
          "2023-07-13T00:00:00",
          "2023-07-20T00:00:00",
          "2023-07-27T00:00:00",
          "2023-08-03T00:00:00",
          "2023-08-10T00:00:00",
          "2023-08-17T00:00:00",
          "2023-08-24T00:00:00",
          "2023-08-31T00:00:00",
          "2023-09-07T00:00:00",
          "2023-09-14T00:00:00",
          "2023-09-21T00:00:00",
          "2023-09-28T00:00:00",
          "2023-10-05T00:00:00",
          "2023-10-12T00:00:00",
          "2023-10-19T00:00:00",
          "2023-10-26T00:00:00",
          "2023-11-02T00:00:00",
          "2023-11-09T00:00:00",
          "2023-11-16T00:00:00",
          "2023-11-23T00:00:00",
          "2023-11-30T00:00:00",
          "2023-12-07T00:00:00",
          "2023-12-14T00:00:00",
          "2023-12-21T00:00:00",
          "2023-12-28T00:00:00",
          "2024-01-04T00:00:00",
          "2024-01-11T00:00:00"
         ],
         "xaxis": "x",
         "y": [
          276394,
          260441,
          255955,
          253617,
          249236,
          248230,
          246265,
          255179,
          251348,
          237132,
          239483,
          240872,
          241600,
          249365,
          256374,
          255682,
          270400,
          269819,
          260970,
          263925,
          269238,
          265417,
          271706,
          264330,
          284695,
          272189,
          296852,
          288495,
          282596,
          282396,
          308710,
          284134,
          298541,
          301218,
          286720,
          302626,
          294250,
          325118,
          290541,
          288618,
          291109,
          302797,
          306047,
          289661,
          288496,
          282072,
          300914,
          277374,
          262633,
          263981,
          253490,
          336649,
          274923,
          260913,
          265357,
          233404,
          239163,
          223829,
          226964,
          219968,
          236702,
          233275,
          233946,
          359114,
          494427,
          334488,
          279584,
          289292,
          269106,
          265206,
          281150,
          266649,
          243976,
          246054,
          240814,
          225462,
          220362,
          227236,
          224860,
          224229,
          214665,
          217053,
          212448,
          218346,
          211342,
          213075,
          212664,
          203965,
          198482,
          204352,
          205233,
          188543,
          195828,
          187435,
          201893,
          193037,
          195811,
          190237,
          197904,
          185537,
          192257,
          190860,
          198524,
          209763,
          206335,
          214173,
          206632,
          210578,
          208933,
          212031,
          201719,
          205373,
          203339,
          193750,
          205516,
          234444,
          352177,
          272073,
          281853,
          302790,
          382891,
          388304,
          428832,
          522156,
          670433,
          672906,
          720936,
          743760,
          1055931,
          1260925,
          1049332,
          1110967,
          1136878,
          1220133,
          1216357,
          1267998,
          1385401,
          1405110,
          1376296,
          1410538,
          1375676,
          1564032,
          1702347,
          1737790,
          1657622,
          1786368,
          1721484,
          1657066,
          1752977,
          1814292,
          1758815,
          1729277,
          1787227,
          1927879,
          1982915,
          1920789,
          1795618,
          1862045,
          1963799,
          1891190,
          1906571,
          1907891,
          1901462,
          1993111,
          1775652,
          1786246,
          1864637,
          2054582,
          2040783,
          1975638,
          2070332,
          2164277,
          2091563,
          2098553,
          2174763,
          2241622,
          2258221,
          2230540,
          2404314,
          2421604,
          2516146,
          2488247,
          2440650,
          2442840,
          2534475,
          2484253,
          2447840,
          2445699,
          2467848,
          2494360,
          2528284,
          2459898,
          2526689,
          2611368,
          2638289,
          2544845,
          2580347,
          2571659,
          2489364,
          2580600,
          2592090,
          2476091,
          2430204,
          2496506,
          2519549,
          2551440,
          2562362,
          2627152,
          2561883,
          2547806,
          2503262,
          2415204,
          2414345,
          2418931,
          2362504,
          2471357,
          2500611,
          2560350,
          2423126,
          2649984,
          2632542,
          2599403,
          2676727,
          2666343,
          2638805,
          2640951,
          2618178,
          2598627,
          2611006,
          2615677,
          2508076,
          2437071,
          2370269,
          2271871,
          2191320,
          2147843,
          2058685,
          2066975,
          2072409,
          2096452,
          2096666,
          2112514,
          1998323,
          1899878,
          1835634,
          1804707,
          1755109,
          1632015,
          1529752,
          1448928,
          1403115,
          1396515,
          1343857,
          1267973,
          1271679,
          1254156,
          1184528,
          1152232,
          1124202,
          1165574,
          1085975,
          1041144
         ],
         "yaxis": "y"
        }
       ],
       "layout": {
        "autosize": false,
        "height": 800,
        "legend": {
         "title": {
          "text": "variable"
         },
         "tracegroupgap": 0
        },
        "template": {
         "data": {
          "bar": [
           {
            "error_x": {
             "color": "#2a3f5f"
            },
            "error_y": {
             "color": "#2a3f5f"
            },
            "marker": {
             "line": {
              "color": "#E5ECF6",
              "width": 0.5
             },
             "pattern": {
              "fillmode": "overlay",
              "size": 10,
              "solidity": 0.2
             }
            },
            "type": "bar"
           }
          ],
          "barpolar": [
           {
            "marker": {
             "line": {
              "color": "#E5ECF6",
              "width": 0.5
             },
             "pattern": {
              "fillmode": "overlay",
              "size": 10,
              "solidity": 0.2
             }
            },
            "type": "barpolar"
           }
          ],
          "carpet": [
           {
            "aaxis": {
             "endlinecolor": "#2a3f5f",
             "gridcolor": "white",
             "linecolor": "white",
             "minorgridcolor": "white",
             "startlinecolor": "#2a3f5f"
            },
            "baxis": {
             "endlinecolor": "#2a3f5f",
             "gridcolor": "white",
             "linecolor": "white",
             "minorgridcolor": "white",
             "startlinecolor": "#2a3f5f"
            },
            "type": "carpet"
           }
          ],
          "choropleth": [
           {
            "colorbar": {
             "outlinewidth": 0,
             "ticks": ""
            },
            "type": "choropleth"
           }
          ],
          "contour": [
           {
            "colorbar": {
             "outlinewidth": 0,
             "ticks": ""
            },
            "colorscale": [
             [
              0,
              "#0d0887"
             ],
             [
              0.1111111111111111,
              "#46039f"
             ],
             [
              0.2222222222222222,
              "#7201a8"
             ],
             [
              0.3333333333333333,
              "#9c179e"
             ],
             [
              0.4444444444444444,
              "#bd3786"
             ],
             [
              0.5555555555555556,
              "#d8576b"
             ],
             [
              0.6666666666666666,
              "#ed7953"
             ],
             [
              0.7777777777777778,
              "#fb9f3a"
             ],
             [
              0.8888888888888888,
              "#fdca26"
             ],
             [
              1,
              "#f0f921"
             ]
            ],
            "type": "contour"
           }
          ],
          "contourcarpet": [
           {
            "colorbar": {
             "outlinewidth": 0,
             "ticks": ""
            },
            "type": "contourcarpet"
           }
          ],
          "heatmap": [
           {
            "colorbar": {
             "outlinewidth": 0,
             "ticks": ""
            },
            "colorscale": [
             [
              0,
              "#0d0887"
             ],
             [
              0.1111111111111111,
              "#46039f"
             ],
             [
              0.2222222222222222,
              "#7201a8"
             ],
             [
              0.3333333333333333,
              "#9c179e"
             ],
             [
              0.4444444444444444,
              "#bd3786"
             ],
             [
              0.5555555555555556,
              "#d8576b"
             ],
             [
              0.6666666666666666,
              "#ed7953"
             ],
             [
              0.7777777777777778,
              "#fb9f3a"
             ],
             [
              0.8888888888888888,
              "#fdca26"
             ],
             [
              1,
              "#f0f921"
             ]
            ],
            "type": "heatmap"
           }
          ],
          "heatmapgl": [
           {
            "colorbar": {
             "outlinewidth": 0,
             "ticks": ""
            },
            "colorscale": [
             [
              0,
              "#0d0887"
             ],
             [
              0.1111111111111111,
              "#46039f"
             ],
             [
              0.2222222222222222,
              "#7201a8"
             ],
             [
              0.3333333333333333,
              "#9c179e"
             ],
             [
              0.4444444444444444,
              "#bd3786"
             ],
             [
              0.5555555555555556,
              "#d8576b"
             ],
             [
              0.6666666666666666,
              "#ed7953"
             ],
             [
              0.7777777777777778,
              "#fb9f3a"
             ],
             [
              0.8888888888888888,
              "#fdca26"
             ],
             [
              1,
              "#f0f921"
             ]
            ],
            "type": "heatmapgl"
           }
          ],
          "histogram": [
           {
            "marker": {
             "pattern": {
              "fillmode": "overlay",
              "size": 10,
              "solidity": 0.2
             }
            },
            "type": "histogram"
           }
          ],
          "histogram2d": [
           {
            "colorbar": {
             "outlinewidth": 0,
             "ticks": ""
            },
            "colorscale": [
             [
              0,
              "#0d0887"
             ],
             [
              0.1111111111111111,
              "#46039f"
             ],
             [
              0.2222222222222222,
              "#7201a8"
             ],
             [
              0.3333333333333333,
              "#9c179e"
             ],
             [
              0.4444444444444444,
              "#bd3786"
             ],
             [
              0.5555555555555556,
              "#d8576b"
             ],
             [
              0.6666666666666666,
              "#ed7953"
             ],
             [
              0.7777777777777778,
              "#fb9f3a"
             ],
             [
              0.8888888888888888,
              "#fdca26"
             ],
             [
              1,
              "#f0f921"
             ]
            ],
            "type": "histogram2d"
           }
          ],
          "histogram2dcontour": [
           {
            "colorbar": {
             "outlinewidth": 0,
             "ticks": ""
            },
            "colorscale": [
             [
              0,
              "#0d0887"
             ],
             [
              0.1111111111111111,
              "#46039f"
             ],
             [
              0.2222222222222222,
              "#7201a8"
             ],
             [
              0.3333333333333333,
              "#9c179e"
             ],
             [
              0.4444444444444444,
              "#bd3786"
             ],
             [
              0.5555555555555556,
              "#d8576b"
             ],
             [
              0.6666666666666666,
              "#ed7953"
             ],
             [
              0.7777777777777778,
              "#fb9f3a"
             ],
             [
              0.8888888888888888,
              "#fdca26"
             ],
             [
              1,
              "#f0f921"
             ]
            ],
            "type": "histogram2dcontour"
           }
          ],
          "mesh3d": [
           {
            "colorbar": {
             "outlinewidth": 0,
             "ticks": ""
            },
            "type": "mesh3d"
           }
          ],
          "parcoords": [
           {
            "line": {
             "colorbar": {
              "outlinewidth": 0,
              "ticks": ""
             }
            },
            "type": "parcoords"
           }
          ],
          "pie": [
           {
            "automargin": true,
            "type": "pie"
           }
          ],
          "scatter": [
           {
            "fillpattern": {
             "fillmode": "overlay",
             "size": 10,
             "solidity": 0.2
            },
            "type": "scatter"
           }
          ],
          "scatter3d": [
           {
            "line": {
             "colorbar": {
              "outlinewidth": 0,
              "ticks": ""
             }
            },
            "marker": {
             "colorbar": {
              "outlinewidth": 0,
              "ticks": ""
             }
            },
            "type": "scatter3d"
           }
          ],
          "scattercarpet": [
           {
            "marker": {
             "colorbar": {
              "outlinewidth": 0,
              "ticks": ""
             }
            },
            "type": "scattercarpet"
           }
          ],
          "scattergeo": [
           {
            "marker": {
             "colorbar": {
              "outlinewidth": 0,
              "ticks": ""
             }
            },
            "type": "scattergeo"
           }
          ],
          "scattergl": [
           {
            "marker": {
             "colorbar": {
              "outlinewidth": 0,
              "ticks": ""
             }
            },
            "type": "scattergl"
           }
          ],
          "scattermapbox": [
           {
            "marker": {
             "colorbar": {
              "outlinewidth": 0,
              "ticks": ""
             }
            },
            "type": "scattermapbox"
           }
          ],
          "scatterpolar": [
           {
            "marker": {
             "colorbar": {
              "outlinewidth": 0,
              "ticks": ""
             }
            },
            "type": "scatterpolar"
           }
          ],
          "scatterpolargl": [
           {
            "marker": {
             "colorbar": {
              "outlinewidth": 0,
              "ticks": ""
             }
            },
            "type": "scatterpolargl"
           }
          ],
          "scatterternary": [
           {
            "marker": {
             "colorbar": {
              "outlinewidth": 0,
              "ticks": ""
             }
            },
            "type": "scatterternary"
           }
          ],
          "surface": [
           {
            "colorbar": {
             "outlinewidth": 0,
             "ticks": ""
            },
            "colorscale": [
             [
              0,
              "#0d0887"
             ],
             [
              0.1111111111111111,
              "#46039f"
             ],
             [
              0.2222222222222222,
              "#7201a8"
             ],
             [
              0.3333333333333333,
              "#9c179e"
             ],
             [
              0.4444444444444444,
              "#bd3786"
             ],
             [
              0.5555555555555556,
              "#d8576b"
             ],
             [
              0.6666666666666666,
              "#ed7953"
             ],
             [
              0.7777777777777778,
              "#fb9f3a"
             ],
             [
              0.8888888888888888,
              "#fdca26"
             ],
             [
              1,
              "#f0f921"
             ]
            ],
            "type": "surface"
           }
          ],
          "table": [
           {
            "cells": {
             "fill": {
              "color": "#EBF0F8"
             },
             "line": {
              "color": "white"
             }
            },
            "header": {
             "fill": {
              "color": "#C8D4E3"
             },
             "line": {
              "color": "white"
             }
            },
            "type": "table"
           }
          ]
         },
         "layout": {
          "annotationdefaults": {
           "arrowcolor": "#2a3f5f",
           "arrowhead": 0,
           "arrowwidth": 1
          },
          "autotypenumbers": "strict",
          "coloraxis": {
           "colorbar": {
            "outlinewidth": 0,
            "ticks": ""
           }
          },
          "colorscale": {
           "diverging": [
            [
             0,
             "#8e0152"
            ],
            [
             0.1,
             "#c51b7d"
            ],
            [
             0.2,
             "#de77ae"
            ],
            [
             0.3,
             "#f1b6da"
            ],
            [
             0.4,
             "#fde0ef"
            ],
            [
             0.5,
             "#f7f7f7"
            ],
            [
             0.6,
             "#e6f5d0"
            ],
            [
             0.7,
             "#b8e186"
            ],
            [
             0.8,
             "#7fbc41"
            ],
            [
             0.9,
             "#4d9221"
            ],
            [
             1,
             "#276419"
            ]
           ],
           "sequential": [
            [
             0,
             "#0d0887"
            ],
            [
             0.1111111111111111,
             "#46039f"
            ],
            [
             0.2222222222222222,
             "#7201a8"
            ],
            [
             0.3333333333333333,
             "#9c179e"
            ],
            [
             0.4444444444444444,
             "#bd3786"
            ],
            [
             0.5555555555555556,
             "#d8576b"
            ],
            [
             0.6666666666666666,
             "#ed7953"
            ],
            [
             0.7777777777777778,
             "#fb9f3a"
            ],
            [
             0.8888888888888888,
             "#fdca26"
            ],
            [
             1,
             "#f0f921"
            ]
           ],
           "sequentialminus": [
            [
             0,
             "#0d0887"
            ],
            [
             0.1111111111111111,
             "#46039f"
            ],
            [
             0.2222222222222222,
             "#7201a8"
            ],
            [
             0.3333333333333333,
             "#9c179e"
            ],
            [
             0.4444444444444444,
             "#bd3786"
            ],
            [
             0.5555555555555556,
             "#d8576b"
            ],
            [
             0.6666666666666666,
             "#ed7953"
            ],
            [
             0.7777777777777778,
             "#fb9f3a"
            ],
            [
             0.8888888888888888,
             "#fdca26"
            ],
            [
             1,
             "#f0f921"
            ]
           ]
          },
          "colorway": [
           "#636efa",
           "#EF553B",
           "#00cc96",
           "#ab63fa",
           "#FFA15A",
           "#19d3f3",
           "#FF6692",
           "#B6E880",
           "#FF97FF",
           "#FECB52"
          ],
          "font": {
           "color": "#2a3f5f"
          },
          "geo": {
           "bgcolor": "white",
           "lakecolor": "white",
           "landcolor": "#E5ECF6",
           "showlakes": true,
           "showland": true,
           "subunitcolor": "white"
          },
          "hoverlabel": {
           "align": "left"
          },
          "hovermode": "closest",
          "mapbox": {
           "style": "light"
          },
          "paper_bgcolor": "white",
          "plot_bgcolor": "#E5ECF6",
          "polar": {
           "angularaxis": {
            "gridcolor": "white",
            "linecolor": "white",
            "ticks": ""
           },
           "bgcolor": "#E5ECF6",
           "radialaxis": {
            "gridcolor": "white",
            "linecolor": "white",
            "ticks": ""
           }
          },
          "scene": {
           "xaxis": {
            "backgroundcolor": "#E5ECF6",
            "gridcolor": "white",
            "gridwidth": 2,
            "linecolor": "white",
            "showbackground": true,
            "ticks": "",
            "zerolinecolor": "white"
           },
           "yaxis": {
            "backgroundcolor": "#E5ECF6",
            "gridcolor": "white",
            "gridwidth": 2,
            "linecolor": "white",
            "showbackground": true,
            "ticks": "",
            "zerolinecolor": "white"
           },
           "zaxis": {
            "backgroundcolor": "#E5ECF6",
            "gridcolor": "white",
            "gridwidth": 2,
            "linecolor": "white",
            "showbackground": true,
            "ticks": "",
            "zerolinecolor": "white"
           }
          },
          "shapedefaults": {
           "line": {
            "color": "#2a3f5f"
           }
          },
          "ternary": {
           "aaxis": {
            "gridcolor": "white",
            "linecolor": "white",
            "ticks": ""
           },
           "baxis": {
            "gridcolor": "white",
            "linecolor": "white",
            "ticks": ""
           },
           "bgcolor": "#E5ECF6",
           "caxis": {
            "gridcolor": "white",
            "linecolor": "white",
            "ticks": ""
           }
          },
          "title": {
           "x": 0.05
          },
          "xaxis": {
           "automargin": true,
           "gridcolor": "white",
           "linecolor": "white",
           "ticks": "",
           "title": {
            "standoff": 15
           },
           "zerolinecolor": "white",
           "zerolinewidth": 2
          },
          "yaxis": {
           "automargin": true,
           "gridcolor": "white",
           "linecolor": "white",
           "ticks": "",
           "title": {
            "standoff": 15
           },
           "zerolinecolor": "white",
           "zerolinewidth": 2
          }
         }
        },
        "title": {
         "text": "RRP Runoff"
        },
        "width": 800,
        "xaxis": {
         "anchor": "y",
         "domain": [
          0,
          1
         ],
         "dtick": "M1",
         "tickformat": "%b\n%Y",
         "tickmode": "auto",
         "title": {
          "text": "Date"
         }
        },
        "yaxis": {
         "anchor": "x",
         "domain": [
          0,
          1
         ],
         "title": {
          "text": "Normalized Levels"
         }
        }
       }
      }
     },
     "metadata": {},
     "output_type": "display_data"
    }
   ],
   "source": [
    "fig = px.line(fed['2015':].dropna().reset_index(), x=\"DATE\", y=[\"TGA\",\"RRP\"],\n",
    "              hover_data={\"DATE\": \"|%B %d, %Y\"},\n",
    "              title='RRP Runoff')\n",
    "fig.update_xaxes(\n",
    "    dtick=\"M1\",\n",
    "    tickmode= 'auto',\n",
    "    tickformat= '%b\\n%Y')\n",
    "\n",
    "fig.update_layout(\n",
    "    autosize=False,\n",
    "    width=800,\n",
    "    height=800,\n",
    "    xaxis_title=\"Date\", \n",
    "    yaxis_title=\"Normalized Levels\"\n",
    ")"
   ]
  },
  {
   "attachments": {},
   "cell_type": "markdown",
   "metadata": {},
   "source": [
    "Inflation"
   ]
  },
  {
   "cell_type": "code",
   "execution_count": 189,
   "metadata": {},
   "outputs": [],
   "source": [
    "tickers = ['PCE','PCEC96','CPILFESL']\n",
    "start = '1990-01-02'\n",
    "end = dt.datetime.now()\n",
    "pce = i.dataframe(tickers, data.set_index(\"DATE\"), start, end)\n",
    "inflation = pce/pce.shift(12)-1\n",
    "inflation = inflation*100"
   ]
  },
  {
   "cell_type": "code",
   "execution_count": 199,
   "metadata": {},
   "outputs": [
    {
     "data": {
      "application/vnd.plotly.v1+json": {
       "config": {
        "plotlyServerURL": "https://plot.ly"
       },
       "data": [
        {
         "hovertemplate": "variable=CPILFESL<br>DATE=%{x|%B %d, %Y}<br>value=%{y}<extra></extra>",
         "legendgroup": "CPILFESL",
         "line": {
          "color": "#636efa",
          "dash": "solid"
         },
         "marker": {
          "symbol": "circle"
         },
         "mode": "lines",
         "name": "CPILFESL",
         "orientation": "v",
         "showlegend": true,
         "type": "scatter",
         "x": [
          "2017-01-01T00:00:00",
          "2017-02-01T00:00:00",
          "2017-03-01T00:00:00",
          "2017-04-01T00:00:00",
          "2017-05-01T00:00:00",
          "2017-06-01T00:00:00",
          "2017-07-01T00:00:00",
          "2017-08-01T00:00:00",
          "2017-09-01T00:00:00",
          "2017-10-01T00:00:00",
          "2017-11-01T00:00:00",
          "2017-12-01T00:00:00",
          "2018-01-01T00:00:00",
          "2018-02-01T00:00:00",
          "2018-03-01T00:00:00",
          "2018-04-01T00:00:00",
          "2018-05-01T00:00:00",
          "2018-06-01T00:00:00",
          "2018-07-01T00:00:00",
          "2018-08-01T00:00:00",
          "2018-09-01T00:00:00",
          "2018-10-01T00:00:00",
          "2018-11-01T00:00:00",
          "2018-12-01T00:00:00",
          "2019-01-01T00:00:00",
          "2019-02-01T00:00:00",
          "2019-03-01T00:00:00",
          "2019-04-01T00:00:00",
          "2019-05-01T00:00:00",
          "2019-06-01T00:00:00",
          "2019-07-01T00:00:00",
          "2019-08-01T00:00:00",
          "2019-09-01T00:00:00",
          "2019-10-01T00:00:00",
          "2019-11-01T00:00:00",
          "2019-12-01T00:00:00",
          "2020-01-01T00:00:00",
          "2020-02-01T00:00:00",
          "2020-03-01T00:00:00",
          "2020-04-01T00:00:00",
          "2020-05-01T00:00:00",
          "2020-06-01T00:00:00",
          "2020-07-01T00:00:00",
          "2020-08-01T00:00:00",
          "2020-09-01T00:00:00",
          "2020-10-01T00:00:00",
          "2020-11-01T00:00:00",
          "2020-12-01T00:00:00",
          "2021-01-01T00:00:00",
          "2021-02-01T00:00:00",
          "2021-03-01T00:00:00",
          "2021-04-01T00:00:00",
          "2021-05-01T00:00:00",
          "2021-06-01T00:00:00",
          "2021-07-01T00:00:00",
          "2021-08-01T00:00:00",
          "2021-09-01T00:00:00",
          "2021-10-01T00:00:00",
          "2021-11-01T00:00:00",
          "2021-12-01T00:00:00",
          "2022-01-01T00:00:00",
          "2022-02-01T00:00:00",
          "2022-03-01T00:00:00",
          "2022-04-01T00:00:00",
          "2022-05-01T00:00:00",
          "2022-06-01T00:00:00",
          "2022-07-01T00:00:00",
          "2022-08-01T00:00:00",
          "2022-09-01T00:00:00",
          "2022-10-01T00:00:00",
          "2022-11-01T00:00:00",
          "2022-12-01T00:00:00",
          "2023-01-01T00:00:00",
          "2023-02-01T00:00:00",
          "2023-03-01T00:00:00",
          "2023-04-01T00:00:00",
          "2023-05-01T00:00:00",
          "2023-06-01T00:00:00",
          "2023-07-01T00:00:00",
          "2023-08-01T00:00:00",
          "2023-09-01T00:00:00",
          "2023-10-01T00:00:00",
          "2023-11-01T00:00:00",
          "2023-12-01T00:00:00"
         ],
         "xaxis": "x",
         "y": [
          2.2502092221020176,
          2.2353468290497336,
          2.045845481938735,
          1.8965650108902388,
          1.7370931912259246,
          1.6991193342490218,
          1.6769627444729984,
          1.6552412618799472,
          1.5953898457655935,
          1.7596390813271245,
          1.7376072726981162,
          1.770166453265043,
          1.8912671130328462,
          1.87770420481439,
          2.1227843662331214,
          2.150644636125887,
          2.272998448872432,
          2.245517307127032,
          2.267595293370639,
          2.1208941334864617,
          2.1976804898501623,
          2.126409125691242,
          2.2153843729315836,
          2.2485295505299874,
          2.148085453206061,
          2.0945520529034756,
          2.054855992289406,
          2.083154736390913,
          2.006261058935621,
          2.121220362161469,
          2.1785105879339683,
          2.3591362242187497,
          2.344330567252917,
          2.326228096262528,
          2.3300274823754075,
          2.253684684095769,
          2.278603377243127,
          2.3809979813611104,
          2.1232177473933023,
          1.4486059791736672,
          1.246645114066136,
          1.1766764691336418,
          1.5339159099626576,
          1.7024339426081836,
          1.7067221329299276,
          1.6214992073676937,
          1.6637537478718212,
          1.6331733878852672,
          1.4090898862076484,
          1.2885219037499507,
          1.6608633793852468,
          2.951413058610597,
          3.795552275448655,
          4.408314282276504,
          4.178012507854811,
          3.943844540710484,
          4.022116621674887,
          4.587796579952164,
          4.97923312622035,
          5.522686824510581,
          6.068798704060541,
          6.434526294015752,
          6.452420762652555,
          6.138186868409989,
          6.02095380440697,
          5.884916233307891,
          5.889301383732715,
          6.300504914766525,
          6.642955443155629,
          6.3017600181825895,
          5.971977129949901,
          5.7038566865245555,
          5.547574548801926,
          5.525998882514838,
          5.602568449312573,
          5.536655073861074,
          5.32863873861853,
          4.8609434148365604,
          4.704924980927339,
          4.389847592528295,
          4.130200878865997,
          4.019603585304665,
          3.993192589114125,
          3.899688184170391
         ],
         "yaxis": "y"
        }
       ],
       "layout": {
        "autosize": false,
        "height": 800,
        "legend": {
         "title": {
          "text": "variable"
         },
         "tracegroupgap": 0
        },
        "template": {
         "data": {
          "bar": [
           {
            "error_x": {
             "color": "#2a3f5f"
            },
            "error_y": {
             "color": "#2a3f5f"
            },
            "marker": {
             "line": {
              "color": "#E5ECF6",
              "width": 0.5
             },
             "pattern": {
              "fillmode": "overlay",
              "size": 10,
              "solidity": 0.2
             }
            },
            "type": "bar"
           }
          ],
          "barpolar": [
           {
            "marker": {
             "line": {
              "color": "#E5ECF6",
              "width": 0.5
             },
             "pattern": {
              "fillmode": "overlay",
              "size": 10,
              "solidity": 0.2
             }
            },
            "type": "barpolar"
           }
          ],
          "carpet": [
           {
            "aaxis": {
             "endlinecolor": "#2a3f5f",
             "gridcolor": "white",
             "linecolor": "white",
             "minorgridcolor": "white",
             "startlinecolor": "#2a3f5f"
            },
            "baxis": {
             "endlinecolor": "#2a3f5f",
             "gridcolor": "white",
             "linecolor": "white",
             "minorgridcolor": "white",
             "startlinecolor": "#2a3f5f"
            },
            "type": "carpet"
           }
          ],
          "choropleth": [
           {
            "colorbar": {
             "outlinewidth": 0,
             "ticks": ""
            },
            "type": "choropleth"
           }
          ],
          "contour": [
           {
            "colorbar": {
             "outlinewidth": 0,
             "ticks": ""
            },
            "colorscale": [
             [
              0,
              "#0d0887"
             ],
             [
              0.1111111111111111,
              "#46039f"
             ],
             [
              0.2222222222222222,
              "#7201a8"
             ],
             [
              0.3333333333333333,
              "#9c179e"
             ],
             [
              0.4444444444444444,
              "#bd3786"
             ],
             [
              0.5555555555555556,
              "#d8576b"
             ],
             [
              0.6666666666666666,
              "#ed7953"
             ],
             [
              0.7777777777777778,
              "#fb9f3a"
             ],
             [
              0.8888888888888888,
              "#fdca26"
             ],
             [
              1,
              "#f0f921"
             ]
            ],
            "type": "contour"
           }
          ],
          "contourcarpet": [
           {
            "colorbar": {
             "outlinewidth": 0,
             "ticks": ""
            },
            "type": "contourcarpet"
           }
          ],
          "heatmap": [
           {
            "colorbar": {
             "outlinewidth": 0,
             "ticks": ""
            },
            "colorscale": [
             [
              0,
              "#0d0887"
             ],
             [
              0.1111111111111111,
              "#46039f"
             ],
             [
              0.2222222222222222,
              "#7201a8"
             ],
             [
              0.3333333333333333,
              "#9c179e"
             ],
             [
              0.4444444444444444,
              "#bd3786"
             ],
             [
              0.5555555555555556,
              "#d8576b"
             ],
             [
              0.6666666666666666,
              "#ed7953"
             ],
             [
              0.7777777777777778,
              "#fb9f3a"
             ],
             [
              0.8888888888888888,
              "#fdca26"
             ],
             [
              1,
              "#f0f921"
             ]
            ],
            "type": "heatmap"
           }
          ],
          "heatmapgl": [
           {
            "colorbar": {
             "outlinewidth": 0,
             "ticks": ""
            },
            "colorscale": [
             [
              0,
              "#0d0887"
             ],
             [
              0.1111111111111111,
              "#46039f"
             ],
             [
              0.2222222222222222,
              "#7201a8"
             ],
             [
              0.3333333333333333,
              "#9c179e"
             ],
             [
              0.4444444444444444,
              "#bd3786"
             ],
             [
              0.5555555555555556,
              "#d8576b"
             ],
             [
              0.6666666666666666,
              "#ed7953"
             ],
             [
              0.7777777777777778,
              "#fb9f3a"
             ],
             [
              0.8888888888888888,
              "#fdca26"
             ],
             [
              1,
              "#f0f921"
             ]
            ],
            "type": "heatmapgl"
           }
          ],
          "histogram": [
           {
            "marker": {
             "pattern": {
              "fillmode": "overlay",
              "size": 10,
              "solidity": 0.2
             }
            },
            "type": "histogram"
           }
          ],
          "histogram2d": [
           {
            "colorbar": {
             "outlinewidth": 0,
             "ticks": ""
            },
            "colorscale": [
             [
              0,
              "#0d0887"
             ],
             [
              0.1111111111111111,
              "#46039f"
             ],
             [
              0.2222222222222222,
              "#7201a8"
             ],
             [
              0.3333333333333333,
              "#9c179e"
             ],
             [
              0.4444444444444444,
              "#bd3786"
             ],
             [
              0.5555555555555556,
              "#d8576b"
             ],
             [
              0.6666666666666666,
              "#ed7953"
             ],
             [
              0.7777777777777778,
              "#fb9f3a"
             ],
             [
              0.8888888888888888,
              "#fdca26"
             ],
             [
              1,
              "#f0f921"
             ]
            ],
            "type": "histogram2d"
           }
          ],
          "histogram2dcontour": [
           {
            "colorbar": {
             "outlinewidth": 0,
             "ticks": ""
            },
            "colorscale": [
             [
              0,
              "#0d0887"
             ],
             [
              0.1111111111111111,
              "#46039f"
             ],
             [
              0.2222222222222222,
              "#7201a8"
             ],
             [
              0.3333333333333333,
              "#9c179e"
             ],
             [
              0.4444444444444444,
              "#bd3786"
             ],
             [
              0.5555555555555556,
              "#d8576b"
             ],
             [
              0.6666666666666666,
              "#ed7953"
             ],
             [
              0.7777777777777778,
              "#fb9f3a"
             ],
             [
              0.8888888888888888,
              "#fdca26"
             ],
             [
              1,
              "#f0f921"
             ]
            ],
            "type": "histogram2dcontour"
           }
          ],
          "mesh3d": [
           {
            "colorbar": {
             "outlinewidth": 0,
             "ticks": ""
            },
            "type": "mesh3d"
           }
          ],
          "parcoords": [
           {
            "line": {
             "colorbar": {
              "outlinewidth": 0,
              "ticks": ""
             }
            },
            "type": "parcoords"
           }
          ],
          "pie": [
           {
            "automargin": true,
            "type": "pie"
           }
          ],
          "scatter": [
           {
            "fillpattern": {
             "fillmode": "overlay",
             "size": 10,
             "solidity": 0.2
            },
            "type": "scatter"
           }
          ],
          "scatter3d": [
           {
            "line": {
             "colorbar": {
              "outlinewidth": 0,
              "ticks": ""
             }
            },
            "marker": {
             "colorbar": {
              "outlinewidth": 0,
              "ticks": ""
             }
            },
            "type": "scatter3d"
           }
          ],
          "scattercarpet": [
           {
            "marker": {
             "colorbar": {
              "outlinewidth": 0,
              "ticks": ""
             }
            },
            "type": "scattercarpet"
           }
          ],
          "scattergeo": [
           {
            "marker": {
             "colorbar": {
              "outlinewidth": 0,
              "ticks": ""
             }
            },
            "type": "scattergeo"
           }
          ],
          "scattergl": [
           {
            "marker": {
             "colorbar": {
              "outlinewidth": 0,
              "ticks": ""
             }
            },
            "type": "scattergl"
           }
          ],
          "scattermapbox": [
           {
            "marker": {
             "colorbar": {
              "outlinewidth": 0,
              "ticks": ""
             }
            },
            "type": "scattermapbox"
           }
          ],
          "scatterpolar": [
           {
            "marker": {
             "colorbar": {
              "outlinewidth": 0,
              "ticks": ""
             }
            },
            "type": "scatterpolar"
           }
          ],
          "scatterpolargl": [
           {
            "marker": {
             "colorbar": {
              "outlinewidth": 0,
              "ticks": ""
             }
            },
            "type": "scatterpolargl"
           }
          ],
          "scatterternary": [
           {
            "marker": {
             "colorbar": {
              "outlinewidth": 0,
              "ticks": ""
             }
            },
            "type": "scatterternary"
           }
          ],
          "surface": [
           {
            "colorbar": {
             "outlinewidth": 0,
             "ticks": ""
            },
            "colorscale": [
             [
              0,
              "#0d0887"
             ],
             [
              0.1111111111111111,
              "#46039f"
             ],
             [
              0.2222222222222222,
              "#7201a8"
             ],
             [
              0.3333333333333333,
              "#9c179e"
             ],
             [
              0.4444444444444444,
              "#bd3786"
             ],
             [
              0.5555555555555556,
              "#d8576b"
             ],
             [
              0.6666666666666666,
              "#ed7953"
             ],
             [
              0.7777777777777778,
              "#fb9f3a"
             ],
             [
              0.8888888888888888,
              "#fdca26"
             ],
             [
              1,
              "#f0f921"
             ]
            ],
            "type": "surface"
           }
          ],
          "table": [
           {
            "cells": {
             "fill": {
              "color": "#EBF0F8"
             },
             "line": {
              "color": "white"
             }
            },
            "header": {
             "fill": {
              "color": "#C8D4E3"
             },
             "line": {
              "color": "white"
             }
            },
            "type": "table"
           }
          ]
         },
         "layout": {
          "annotationdefaults": {
           "arrowcolor": "#2a3f5f",
           "arrowhead": 0,
           "arrowwidth": 1
          },
          "autotypenumbers": "strict",
          "coloraxis": {
           "colorbar": {
            "outlinewidth": 0,
            "ticks": ""
           }
          },
          "colorscale": {
           "diverging": [
            [
             0,
             "#8e0152"
            ],
            [
             0.1,
             "#c51b7d"
            ],
            [
             0.2,
             "#de77ae"
            ],
            [
             0.3,
             "#f1b6da"
            ],
            [
             0.4,
             "#fde0ef"
            ],
            [
             0.5,
             "#f7f7f7"
            ],
            [
             0.6,
             "#e6f5d0"
            ],
            [
             0.7,
             "#b8e186"
            ],
            [
             0.8,
             "#7fbc41"
            ],
            [
             0.9,
             "#4d9221"
            ],
            [
             1,
             "#276419"
            ]
           ],
           "sequential": [
            [
             0,
             "#0d0887"
            ],
            [
             0.1111111111111111,
             "#46039f"
            ],
            [
             0.2222222222222222,
             "#7201a8"
            ],
            [
             0.3333333333333333,
             "#9c179e"
            ],
            [
             0.4444444444444444,
             "#bd3786"
            ],
            [
             0.5555555555555556,
             "#d8576b"
            ],
            [
             0.6666666666666666,
             "#ed7953"
            ],
            [
             0.7777777777777778,
             "#fb9f3a"
            ],
            [
             0.8888888888888888,
             "#fdca26"
            ],
            [
             1,
             "#f0f921"
            ]
           ],
           "sequentialminus": [
            [
             0,
             "#0d0887"
            ],
            [
             0.1111111111111111,
             "#46039f"
            ],
            [
             0.2222222222222222,
             "#7201a8"
            ],
            [
             0.3333333333333333,
             "#9c179e"
            ],
            [
             0.4444444444444444,
             "#bd3786"
            ],
            [
             0.5555555555555556,
             "#d8576b"
            ],
            [
             0.6666666666666666,
             "#ed7953"
            ],
            [
             0.7777777777777778,
             "#fb9f3a"
            ],
            [
             0.8888888888888888,
             "#fdca26"
            ],
            [
             1,
             "#f0f921"
            ]
           ]
          },
          "colorway": [
           "#636efa",
           "#EF553B",
           "#00cc96",
           "#ab63fa",
           "#FFA15A",
           "#19d3f3",
           "#FF6692",
           "#B6E880",
           "#FF97FF",
           "#FECB52"
          ],
          "font": {
           "color": "#2a3f5f"
          },
          "geo": {
           "bgcolor": "white",
           "lakecolor": "white",
           "landcolor": "#E5ECF6",
           "showlakes": true,
           "showland": true,
           "subunitcolor": "white"
          },
          "hoverlabel": {
           "align": "left"
          },
          "hovermode": "closest",
          "mapbox": {
           "style": "light"
          },
          "paper_bgcolor": "white",
          "plot_bgcolor": "#E5ECF6",
          "polar": {
           "angularaxis": {
            "gridcolor": "white",
            "linecolor": "white",
            "ticks": ""
           },
           "bgcolor": "#E5ECF6",
           "radialaxis": {
            "gridcolor": "white",
            "linecolor": "white",
            "ticks": ""
           }
          },
          "scene": {
           "xaxis": {
            "backgroundcolor": "#E5ECF6",
            "gridcolor": "white",
            "gridwidth": 2,
            "linecolor": "white",
            "showbackground": true,
            "ticks": "",
            "zerolinecolor": "white"
           },
           "yaxis": {
            "backgroundcolor": "#E5ECF6",
            "gridcolor": "white",
            "gridwidth": 2,
            "linecolor": "white",
            "showbackground": true,
            "ticks": "",
            "zerolinecolor": "white"
           },
           "zaxis": {
            "backgroundcolor": "#E5ECF6",
            "gridcolor": "white",
            "gridwidth": 2,
            "linecolor": "white",
            "showbackground": true,
            "ticks": "",
            "zerolinecolor": "white"
           }
          },
          "shapedefaults": {
           "line": {
            "color": "#2a3f5f"
           }
          },
          "ternary": {
           "aaxis": {
            "gridcolor": "white",
            "linecolor": "white",
            "ticks": ""
           },
           "baxis": {
            "gridcolor": "white",
            "linecolor": "white",
            "ticks": ""
           },
           "bgcolor": "#E5ECF6",
           "caxis": {
            "gridcolor": "white",
            "linecolor": "white",
            "ticks": ""
           }
          },
          "title": {
           "x": 0.05
          },
          "xaxis": {
           "automargin": true,
           "gridcolor": "white",
           "linecolor": "white",
           "ticks": "",
           "title": {
            "standoff": 15
           },
           "zerolinecolor": "white",
           "zerolinewidth": 2
          },
          "yaxis": {
           "automargin": true,
           "gridcolor": "white",
           "linecolor": "white",
           "ticks": "",
           "title": {
            "standoff": 15
           },
           "zerolinecolor": "white",
           "zerolinewidth": 2
          }
         }
        },
        "title": {
         "text": "CORE CPI y/y"
        },
        "width": 800,
        "xaxis": {
         "anchor": "y",
         "domain": [
          0,
          1
         ],
         "dtick": "M1",
         "tickformat": "%b\n%Y",
         "tickmode": "auto",
         "title": {
          "text": "Date"
         }
        },
        "yaxis": {
         "anchor": "x",
         "domain": [
          0,
          1
         ],
         "title": {
          "text": "Core CPI y/y Pct Change"
         }
        }
       }
      }
     },
     "metadata": {},
     "output_type": "display_data"
    }
   ],
   "source": [
    "core = inflation[['CPILFESL']]['2017':].reset_index().dropna()\n",
    "fig = px.line(core, x=\"DATE\", y=[\"CPILFESL\"],\n",
    "              hover_data={\"DATE\": \"|%B %d, %Y\"},\n",
    "              title='CORE CPI y/y')\n",
    "fig.update_xaxes(\n",
    "    dtick=\"M1\",\n",
    "    tickmode= 'auto',\n",
    "    tickformat= '%b\\n%Y')\n",
    "\n",
    "fig.update_layout(\n",
    "    autosize=False,\n",
    "    width=800,\n",
    "    height=800,\n",
    "    xaxis_title=\"Date\", \n",
    "    yaxis_title=\"Core CPI y/y Pct Change\")"
   ]
  },
  {
   "cell_type": "code",
   "execution_count": 200,
   "metadata": {},
   "outputs": [],
   "source": [
    "inf = inflation.dropna().reset_index()"
   ]
  },
  {
   "cell_type": "code",
   "execution_count": 201,
   "metadata": {},
   "outputs": [
    {
     "data": {
      "application/vnd.plotly.v1+json": {
       "config": {
        "plotlyServerURL": "https://plot.ly"
       },
       "data": [
        {
         "hovertemplate": "variable=PCE<br>DATE=%{x|%B %d, %Y}<br>value=%{y}<extra></extra>",
         "legendgroup": "PCE",
         "line": {
          "color": "#636efa",
          "dash": "solid"
         },
         "marker": {
          "symbol": "circle"
         },
         "mode": "lines",
         "name": "PCE",
         "orientation": "v",
         "showlegend": true,
         "type": "scatter",
         "x": [
          "2008-01-01T00:00:00",
          "2008-02-01T00:00:00",
          "2008-03-01T00:00:00",
          "2008-04-01T00:00:00",
          "2008-05-01T00:00:00",
          "2008-06-01T00:00:00",
          "2008-07-01T00:00:00",
          "2008-08-01T00:00:00",
          "2008-09-01T00:00:00",
          "2008-10-01T00:00:00",
          "2008-11-01T00:00:00",
          "2008-12-01T00:00:00",
          "2009-01-01T00:00:00",
          "2009-02-01T00:00:00",
          "2009-03-01T00:00:00",
          "2009-04-01T00:00:00",
          "2009-05-01T00:00:00",
          "2009-06-01T00:00:00",
          "2009-07-01T00:00:00",
          "2009-08-01T00:00:00",
          "2009-09-01T00:00:00",
          "2009-10-01T00:00:00",
          "2009-11-01T00:00:00",
          "2009-12-01T00:00:00",
          "2010-01-01T00:00:00",
          "2010-02-01T00:00:00",
          "2010-03-01T00:00:00",
          "2010-04-01T00:00:00",
          "2010-05-01T00:00:00",
          "2010-06-01T00:00:00",
          "2010-07-01T00:00:00",
          "2010-08-01T00:00:00",
          "2010-09-01T00:00:00",
          "2010-10-01T00:00:00",
          "2010-11-01T00:00:00",
          "2010-12-01T00:00:00",
          "2011-01-01T00:00:00",
          "2011-02-01T00:00:00",
          "2011-03-01T00:00:00",
          "2011-04-01T00:00:00",
          "2011-05-01T00:00:00",
          "2011-06-01T00:00:00",
          "2011-07-01T00:00:00",
          "2011-08-01T00:00:00",
          "2011-09-01T00:00:00",
          "2011-10-01T00:00:00",
          "2011-11-01T00:00:00",
          "2011-12-01T00:00:00",
          "2012-01-01T00:00:00",
          "2012-02-01T00:00:00",
          "2012-03-01T00:00:00",
          "2012-04-01T00:00:00",
          "2012-05-01T00:00:00",
          "2012-06-01T00:00:00",
          "2012-07-01T00:00:00",
          "2012-08-01T00:00:00",
          "2012-09-01T00:00:00",
          "2012-10-01T00:00:00",
          "2012-11-01T00:00:00",
          "2012-12-01T00:00:00",
          "2013-01-01T00:00:00",
          "2013-02-01T00:00:00",
          "2013-03-01T00:00:00",
          "2013-04-01T00:00:00",
          "2013-05-01T00:00:00",
          "2013-06-01T00:00:00",
          "2013-07-01T00:00:00",
          "2013-08-01T00:00:00",
          "2013-09-01T00:00:00",
          "2013-10-01T00:00:00",
          "2013-11-01T00:00:00",
          "2013-12-01T00:00:00",
          "2014-01-01T00:00:00",
          "2014-02-01T00:00:00",
          "2014-03-01T00:00:00",
          "2014-04-01T00:00:00",
          "2014-05-01T00:00:00",
          "2014-06-01T00:00:00",
          "2014-07-01T00:00:00",
          "2014-08-01T00:00:00",
          "2014-09-01T00:00:00",
          "2014-10-01T00:00:00",
          "2014-11-01T00:00:00",
          "2014-12-01T00:00:00",
          "2015-01-01T00:00:00",
          "2015-02-01T00:00:00",
          "2015-03-01T00:00:00",
          "2015-04-01T00:00:00",
          "2015-05-01T00:00:00",
          "2015-06-01T00:00:00",
          "2015-07-01T00:00:00",
          "2015-08-01T00:00:00",
          "2015-09-01T00:00:00",
          "2015-10-01T00:00:00",
          "2015-11-01T00:00:00",
          "2015-12-01T00:00:00",
          "2016-01-01T00:00:00",
          "2016-02-01T00:00:00",
          "2016-03-01T00:00:00",
          "2016-04-01T00:00:00",
          "2016-05-01T00:00:00",
          "2016-06-01T00:00:00",
          "2016-07-01T00:00:00",
          "2016-08-01T00:00:00",
          "2016-09-01T00:00:00",
          "2016-10-01T00:00:00",
          "2016-11-01T00:00:00",
          "2016-12-01T00:00:00",
          "2017-01-01T00:00:00",
          "2017-02-01T00:00:00",
          "2017-03-01T00:00:00",
          "2017-04-01T00:00:00",
          "2017-05-01T00:00:00",
          "2017-06-01T00:00:00",
          "2017-07-01T00:00:00",
          "2017-08-01T00:00:00",
          "2017-09-01T00:00:00",
          "2017-10-01T00:00:00",
          "2017-11-01T00:00:00",
          "2017-12-01T00:00:00",
          "2018-01-01T00:00:00",
          "2018-02-01T00:00:00",
          "2018-03-01T00:00:00",
          "2018-04-01T00:00:00",
          "2018-05-01T00:00:00",
          "2018-06-01T00:00:00",
          "2018-07-01T00:00:00",
          "2018-08-01T00:00:00",
          "2018-09-01T00:00:00",
          "2018-10-01T00:00:00",
          "2018-11-01T00:00:00",
          "2018-12-01T00:00:00",
          "2019-01-01T00:00:00",
          "2019-02-01T00:00:00",
          "2019-03-01T00:00:00",
          "2019-04-01T00:00:00",
          "2019-05-01T00:00:00",
          "2019-06-01T00:00:00",
          "2019-07-01T00:00:00",
          "2019-08-01T00:00:00",
          "2019-09-01T00:00:00",
          "2019-10-01T00:00:00",
          "2019-11-01T00:00:00",
          "2019-12-01T00:00:00",
          "2020-01-01T00:00:00",
          "2020-02-01T00:00:00",
          "2020-03-01T00:00:00",
          "2020-04-01T00:00:00",
          "2020-05-01T00:00:00",
          "2020-06-01T00:00:00",
          "2020-07-01T00:00:00",
          "2020-08-01T00:00:00",
          "2020-09-01T00:00:00",
          "2020-10-01T00:00:00",
          "2020-11-01T00:00:00",
          "2020-12-01T00:00:00",
          "2021-01-01T00:00:00",
          "2021-02-01T00:00:00",
          "2021-03-01T00:00:00",
          "2021-04-01T00:00:00",
          "2021-05-01T00:00:00",
          "2021-06-01T00:00:00",
          "2021-07-01T00:00:00",
          "2021-08-01T00:00:00",
          "2021-09-01T00:00:00",
          "2021-10-01T00:00:00",
          "2021-11-01T00:00:00",
          "2021-12-01T00:00:00",
          "2022-01-01T00:00:00",
          "2022-02-01T00:00:00",
          "2022-03-01T00:00:00",
          "2022-04-01T00:00:00",
          "2022-05-01T00:00:00",
          "2022-06-01T00:00:00",
          "2022-07-01T00:00:00",
          "2022-08-01T00:00:00",
          "2022-09-01T00:00:00",
          "2022-10-01T00:00:00",
          "2022-11-01T00:00:00",
          "2022-12-01T00:00:00",
          "2023-01-01T00:00:00",
          "2023-02-01T00:00:00",
          "2023-03-01T00:00:00",
          "2023-04-01T00:00:00",
          "2023-05-01T00:00:00",
          "2023-06-01T00:00:00",
          "2023-07-01T00:00:00",
          "2023-08-01T00:00:00",
          "2023-09-01T00:00:00",
          "2023-10-01T00:00:00",
          "2023-11-01T00:00:00"
         ],
         "xaxis": "x",
         "y": [
          4.798347783240886,
          4.345598996445754,
          4.407128811760641,
          4.424696171554188,
          4.609841210844734,
          4.948077636296211,
          4.450779912009928,
          3.845329577809764,
          2.7556855694711,
          1.5319700081961374,
          -0.710131680711934,
          -1.7176720680250224,
          -1.492537313432829,
          -1.574882034122449,
          -2.611780415134557,
          -2.957210808019617,
          -3.362513940566292,
          -3.2855277753237044,
          -2.933697263649848,
          -1.6863704708275584,
          -1.8642995532007434,
          -0.5720493118466008,
          1.0166713875288336,
          2.5618527776360756,
          2.1214152246323836,
          2.7370349636113733,
          3.9168337903654926,
          4.193399846508061,
          4.281220638097949,
          3.845763468799479,
          3.861909915742001,
          3.0287582091342635,
          4.022039122464194,
          4.106568304148661,
          4.485414142223365,
          4.162107315520358,
          4.556438380684358,
          4.430618027622013,
          4.565773926742822,
          4.613888807047539,
          4.51874485838526,
          4.530216101570672,
          4.513980191077227,
          4.29994857913476,
          4.416535135710897,
          4.01005160594623,
          3.5769053826100183,
          3.3120045840893786,
          3.6379026658931224,
          4.236950458228184,
          3.5236400274960555,
          3.439697336675396,
          3.1352485897940374,
          2.7583498522646632,
          2.6575720302657535,
          2.8436415727933317,
          2.9870539357518933,
          3.09639078395616,
          3.438575711589009,
          3.3592782266264942,
          3.2633433668600054,
          2.760484927916118,
          2.694221340925429,
          2.3832645096882654,
          2.8600501508158738,
          3.2266283280860453,
          3.2296129547600083,
          3.171128798842271,
          3.0670040431145518,
          3.237739508323312,
          3.4360910327059457,
          3.684756555646973,
          2.9007145142369684,
          3.0680660732474108,
          3.8281326117571846,
          4.265541480883939,
          4.290029677784046,
          4.5599590987623895,
          4.676151451734856,
          5.059351603457651,
          4.765898706086902,
          4.928683249260746,
          4.509405405405409,
          4.337887727288403,
          4.213735447542066,
          4.122231865874948,
          3.8712539348080277,
          3.7985768089574323,
          3.9644965402759302,
          3.761686773396722,
          3.8683175968549532,
          3.442175621886401,
          3.2940273862935188,
          2.7369101593906153,
          2.807868320658069,
          2.9422706492175044,
          3.4085541200162384,
          3.614050146080583,
          2.9640032522728843,
          3.2959022368561186,
          3.073626928654072,
          3.439254462580954,
          3.1686467339000046,
          3.161452703247769,
          3.715365239294721,
          3.808824597213367,
          3.78163436151715,
          4.4482814005782245,
          4.693861195704452,
          4.252658409335286,
          4.808965462231796,
          4.422154382904497,
          4.103471986216367,
          3.880231242930754,
          3.971246482240698,
          3.960713475809552,
          4.442420562639127,
          4.511541151783627,
          5.022880632901572,
          5.076157743793197,
          4.896009553189362,
          4.968521744445464,
          4.971879542462276,
          5.081553928864313,
          5.565635937108548,
          5.3322445029186705,
          5.364426650984289,
          5.411219592917416,
          4.475565128602632,
          4.726529094627252,
          4.595808162119841,
          2.8208486693350743,
          2.810271978282608,
          2.742617569347905,
          3.240002319983759,
          3.178835703549532,
          3.134124415677819,
          3.307873427898711,
          3.5564015227409262,
          3.6513486513486626,
          3.8365506712893627,
          3.556745318857346,
          3.6412034258520576,
          4.908337840530619,
          5.162403111779912,
          4.925082356275023,
          -3.1397251423796235,
          -14.357451517337495,
          -7.596507865669977,
          -2.530018344543894,
          -1.2900952196685855,
          -0.6698472362777763,
          0.6828986781719726,
          0.812534284147004,
          -0.01907538866104952,
          0.41041156478736074,
          1.563206598405742,
          0.9283828583388942,
          13.518451388385412,
          29.650891783812973,
          19.911858369681703,
          14.838419915734535,
          13.060461599848793,
          13.010451609326058,
          11.899692937563987,
          12.999829960890995,
          14.076234344976069,
          13.494304746719997,
          12.236746791783236,
          13.724060421990615,
          9.873799305129772,
          9.18626727471128,
          9.407174323473889,
          8.948691684514376,
          8.70297446566115,
          8.503826906093614,
          8.568257627035948,
          7.832645150417128,
          6.874492282697009,
          6.812229153769223,
          7.940267399310774,
          7.6283699124102045,
          6.2719430816805755,
          6.08474625227462,
          5.884450784593431,
          5.329914529914537,
          5.9180697637328805,
          5.4227286600874836,
          5.546506403055496,
          5.007507633225616,
          5.40114573145174
         ],
         "yaxis": "y"
        },
        {
         "hovertemplate": "variable=CPILFESL<br>DATE=%{x|%B %d, %Y}<br>value=%{y}<extra></extra>",
         "legendgroup": "CPILFESL",
         "line": {
          "color": "#EF553B",
          "dash": "solid"
         },
         "marker": {
          "symbol": "circle"
         },
         "mode": "lines",
         "name": "CPILFESL",
         "orientation": "v",
         "showlegend": true,
         "type": "scatter",
         "x": [
          "2008-01-01T00:00:00",
          "2008-02-01T00:00:00",
          "2008-03-01T00:00:00",
          "2008-04-01T00:00:00",
          "2008-05-01T00:00:00",
          "2008-06-01T00:00:00",
          "2008-07-01T00:00:00",
          "2008-08-01T00:00:00",
          "2008-09-01T00:00:00",
          "2008-10-01T00:00:00",
          "2008-11-01T00:00:00",
          "2008-12-01T00:00:00",
          "2009-01-01T00:00:00",
          "2009-02-01T00:00:00",
          "2009-03-01T00:00:00",
          "2009-04-01T00:00:00",
          "2009-05-01T00:00:00",
          "2009-06-01T00:00:00",
          "2009-07-01T00:00:00",
          "2009-08-01T00:00:00",
          "2009-09-01T00:00:00",
          "2009-10-01T00:00:00",
          "2009-11-01T00:00:00",
          "2009-12-01T00:00:00",
          "2010-01-01T00:00:00",
          "2010-02-01T00:00:00",
          "2010-03-01T00:00:00",
          "2010-04-01T00:00:00",
          "2010-05-01T00:00:00",
          "2010-06-01T00:00:00",
          "2010-07-01T00:00:00",
          "2010-08-01T00:00:00",
          "2010-09-01T00:00:00",
          "2010-10-01T00:00:00",
          "2010-11-01T00:00:00",
          "2010-12-01T00:00:00",
          "2011-01-01T00:00:00",
          "2011-02-01T00:00:00",
          "2011-03-01T00:00:00",
          "2011-04-01T00:00:00",
          "2011-05-01T00:00:00",
          "2011-06-01T00:00:00",
          "2011-07-01T00:00:00",
          "2011-08-01T00:00:00",
          "2011-09-01T00:00:00",
          "2011-10-01T00:00:00",
          "2011-11-01T00:00:00",
          "2011-12-01T00:00:00",
          "2012-01-01T00:00:00",
          "2012-02-01T00:00:00",
          "2012-03-01T00:00:00",
          "2012-04-01T00:00:00",
          "2012-05-01T00:00:00",
          "2012-06-01T00:00:00",
          "2012-07-01T00:00:00",
          "2012-08-01T00:00:00",
          "2012-09-01T00:00:00",
          "2012-10-01T00:00:00",
          "2012-11-01T00:00:00",
          "2012-12-01T00:00:00",
          "2013-01-01T00:00:00",
          "2013-02-01T00:00:00",
          "2013-03-01T00:00:00",
          "2013-04-01T00:00:00",
          "2013-05-01T00:00:00",
          "2013-06-01T00:00:00",
          "2013-07-01T00:00:00",
          "2013-08-01T00:00:00",
          "2013-09-01T00:00:00",
          "2013-10-01T00:00:00",
          "2013-11-01T00:00:00",
          "2013-12-01T00:00:00",
          "2014-01-01T00:00:00",
          "2014-02-01T00:00:00",
          "2014-03-01T00:00:00",
          "2014-04-01T00:00:00",
          "2014-05-01T00:00:00",
          "2014-06-01T00:00:00",
          "2014-07-01T00:00:00",
          "2014-08-01T00:00:00",
          "2014-09-01T00:00:00",
          "2014-10-01T00:00:00",
          "2014-11-01T00:00:00",
          "2014-12-01T00:00:00",
          "2015-01-01T00:00:00",
          "2015-02-01T00:00:00",
          "2015-03-01T00:00:00",
          "2015-04-01T00:00:00",
          "2015-05-01T00:00:00",
          "2015-06-01T00:00:00",
          "2015-07-01T00:00:00",
          "2015-08-01T00:00:00",
          "2015-09-01T00:00:00",
          "2015-10-01T00:00:00",
          "2015-11-01T00:00:00",
          "2015-12-01T00:00:00",
          "2016-01-01T00:00:00",
          "2016-02-01T00:00:00",
          "2016-03-01T00:00:00",
          "2016-04-01T00:00:00",
          "2016-05-01T00:00:00",
          "2016-06-01T00:00:00",
          "2016-07-01T00:00:00",
          "2016-08-01T00:00:00",
          "2016-09-01T00:00:00",
          "2016-10-01T00:00:00",
          "2016-11-01T00:00:00",
          "2016-12-01T00:00:00",
          "2017-01-01T00:00:00",
          "2017-02-01T00:00:00",
          "2017-03-01T00:00:00",
          "2017-04-01T00:00:00",
          "2017-05-01T00:00:00",
          "2017-06-01T00:00:00",
          "2017-07-01T00:00:00",
          "2017-08-01T00:00:00",
          "2017-09-01T00:00:00",
          "2017-10-01T00:00:00",
          "2017-11-01T00:00:00",
          "2017-12-01T00:00:00",
          "2018-01-01T00:00:00",
          "2018-02-01T00:00:00",
          "2018-03-01T00:00:00",
          "2018-04-01T00:00:00",
          "2018-05-01T00:00:00",
          "2018-06-01T00:00:00",
          "2018-07-01T00:00:00",
          "2018-08-01T00:00:00",
          "2018-09-01T00:00:00",
          "2018-10-01T00:00:00",
          "2018-11-01T00:00:00",
          "2018-12-01T00:00:00",
          "2019-01-01T00:00:00",
          "2019-02-01T00:00:00",
          "2019-03-01T00:00:00",
          "2019-04-01T00:00:00",
          "2019-05-01T00:00:00",
          "2019-06-01T00:00:00",
          "2019-07-01T00:00:00",
          "2019-08-01T00:00:00",
          "2019-09-01T00:00:00",
          "2019-10-01T00:00:00",
          "2019-11-01T00:00:00",
          "2019-12-01T00:00:00",
          "2020-01-01T00:00:00",
          "2020-02-01T00:00:00",
          "2020-03-01T00:00:00",
          "2020-04-01T00:00:00",
          "2020-05-01T00:00:00",
          "2020-06-01T00:00:00",
          "2020-07-01T00:00:00",
          "2020-08-01T00:00:00",
          "2020-09-01T00:00:00",
          "2020-10-01T00:00:00",
          "2020-11-01T00:00:00",
          "2020-12-01T00:00:00",
          "2021-01-01T00:00:00",
          "2021-02-01T00:00:00",
          "2021-03-01T00:00:00",
          "2021-04-01T00:00:00",
          "2021-05-01T00:00:00",
          "2021-06-01T00:00:00",
          "2021-07-01T00:00:00",
          "2021-08-01T00:00:00",
          "2021-09-01T00:00:00",
          "2021-10-01T00:00:00",
          "2021-11-01T00:00:00",
          "2021-12-01T00:00:00",
          "2022-01-01T00:00:00",
          "2022-02-01T00:00:00",
          "2022-03-01T00:00:00",
          "2022-04-01T00:00:00",
          "2022-05-01T00:00:00",
          "2022-06-01T00:00:00",
          "2022-07-01T00:00:00",
          "2022-08-01T00:00:00",
          "2022-09-01T00:00:00",
          "2022-10-01T00:00:00",
          "2022-11-01T00:00:00",
          "2022-12-01T00:00:00",
          "2023-01-01T00:00:00",
          "2023-02-01T00:00:00",
          "2023-03-01T00:00:00",
          "2023-04-01T00:00:00",
          "2023-05-01T00:00:00",
          "2023-06-01T00:00:00",
          "2023-07-01T00:00:00",
          "2023-08-01T00:00:00",
          "2023-09-01T00:00:00",
          "2023-10-01T00:00:00",
          "2023-11-01T00:00:00"
         ],
         "xaxis": "x",
         "y": [
          2.4789069990412305,
          2.29708083295479,
          2.388524386633417,
          2.294669292051843,
          2.3222157689781087,
          2.3917259211376996,
          2.463313612274831,
          2.4981171756213394,
          2.4386208722122937,
          2.2213629955157854,
          2.015893915169764,
          1.7624596562335837,
          1.6723503187990874,
          1.800980653363804,
          1.7876130957932945,
          1.93232662192393,
          1.8461309413034588,
          1.7119726678550107,
          1.5270992984974363,
          1.4339650543224725,
          1.4798373886199645,
          1.7127331771131127,
          1.714243571010421,
          1.8236717759594345,
          1.5123351706495702,
          1.3494526888039982,
          1.1592051426555505,
          0.9675088932173947,
          0.9401381427474931,
          0.9501989849939774,
          0.9577539302116689,
          0.9171009950067255,
          0.8143870498363182,
          0.6027183550187942,
          0.672056411046551,
          0.6618948664665503,
          0.9835337415527112,
          1.124445592146106,
          1.2097851736773357,
          1.3155392125784537,
          1.4540961794335727,
          1.5836776766096738,
          1.741483445742964,
          1.9651571719433658,
          1.9877227562006272,
          2.1079204796465634,
          2.138204538395394,
          2.276662633858506,
          2.2773481506083826,
          2.1598204405657295,
          2.2483374654291177,
          2.314427851801515,
          2.252258280361308,
          2.192285611289857,
          2.109955687378462,
          1.9352524993137443,
          2.0082434834909124,
          1.9946491483669337,
          1.9528512686261434,
          1.8996943778720743,
          1.9098022178631435,
          1.9887385214485631,
          1.8890221377988237,
          1.715558856294086,
          1.6455519491850756,
          1.6230952474272975,
          1.7002217680567089,
          1.782107690904433,
          1.7519368418314363,
          1.686837731144819,
          1.7416677473738762,
          1.7408566188369834,
          1.6070344358370292,
          1.5548073904948723,
          1.6456609706435588,
          1.8210555250137483,
          1.9455269618362525,
          1.9228626526676562,
          1.8449632290063356,
          1.73639560289498,
          1.7409458883681284,
          1.817632310436279,
          1.7415947552462452,
          1.6224195046636636,
          1.631625565241701,
          1.6880834938713285,
          1.7453777073428434,
          1.802827832894649,
          1.7509440952473199,
          1.7772676244655061,
          1.8346312894897077,
          1.8506323273421277,
          1.8970961446650891,
          1.9135335359607986,
          1.9974275238246353,
          2.0715072792840905,
          2.145022538582464,
          2.222573822094165,
          2.142426948557663,
          2.156654761214183,
          2.2545595974976074,
          2.2622116465067066,
          2.1701399624842965,
          2.3087345614186683,
          2.271120682569183,
          2.2045551507991146,
          2.1454219398053587,
          2.197123661300271,
          2.2502092221020176,
          2.2353468290497336,
          2.045845481938735,
          1.8965650108902388,
          1.7370931912259246,
          1.6991193342490218,
          1.6769627444729984,
          1.6552412618799472,
          1.5953898457655935,
          1.7596390813271245,
          1.7376072726981162,
          1.770166453265043,
          1.8912671130328462,
          1.87770420481439,
          2.1227843662331214,
          2.150644636125887,
          2.272998448872432,
          2.245517307127032,
          2.267595293370639,
          2.1208941334864617,
          2.1976804898501623,
          2.126409125691242,
          2.2153843729315836,
          2.2485295505299874,
          2.148085453206061,
          2.0945520529034756,
          2.054855992289406,
          2.083154736390913,
          2.006261058935621,
          2.121220362161469,
          2.1785105879339683,
          2.3591362242187497,
          2.344330567252917,
          2.326228096262528,
          2.3300274823754075,
          2.253684684095769,
          2.278603377243127,
          2.3809979813611104,
          2.1232177473933023,
          1.4486059791736672,
          1.246645114066136,
          1.1766764691336418,
          1.5339159099626576,
          1.7024339426081836,
          1.7067221329299276,
          1.6214992073676937,
          1.6637537478718212,
          1.6331733878852672,
          1.4090898862076484,
          1.2885219037499507,
          1.6608633793852468,
          2.951413058610597,
          3.795552275448655,
          4.408314282276504,
          4.178012507854811,
          3.943844540710484,
          4.022116621674887,
          4.587796579952164,
          4.97923312622035,
          5.522686824510581,
          6.068798704060541,
          6.434526294015752,
          6.452420762652555,
          6.138186868409989,
          6.02095380440697,
          5.884916233307891,
          5.889301383732715,
          6.300504914766525,
          6.642955443155629,
          6.3017600181825895,
          5.971977129949901,
          5.7038566865245555,
          5.547574548801926,
          5.525998882514838,
          5.602568449312573,
          5.536655073861074,
          5.32863873861853,
          4.8609434148365604,
          4.704924980927339,
          4.389847592528295,
          4.130200878865997,
          4.019603585304665,
          3.993192589114125
         ],
         "yaxis": "y"
        }
       ],
       "layout": {
        "autosize": false,
        "height": 800,
        "legend": {
         "title": {
          "text": "variable"
         },
         "tracegroupgap": 0
        },
        "template": {
         "data": {
          "bar": [
           {
            "error_x": {
             "color": "#2a3f5f"
            },
            "error_y": {
             "color": "#2a3f5f"
            },
            "marker": {
             "line": {
              "color": "#E5ECF6",
              "width": 0.5
             },
             "pattern": {
              "fillmode": "overlay",
              "size": 10,
              "solidity": 0.2
             }
            },
            "type": "bar"
           }
          ],
          "barpolar": [
           {
            "marker": {
             "line": {
              "color": "#E5ECF6",
              "width": 0.5
             },
             "pattern": {
              "fillmode": "overlay",
              "size": 10,
              "solidity": 0.2
             }
            },
            "type": "barpolar"
           }
          ],
          "carpet": [
           {
            "aaxis": {
             "endlinecolor": "#2a3f5f",
             "gridcolor": "white",
             "linecolor": "white",
             "minorgridcolor": "white",
             "startlinecolor": "#2a3f5f"
            },
            "baxis": {
             "endlinecolor": "#2a3f5f",
             "gridcolor": "white",
             "linecolor": "white",
             "minorgridcolor": "white",
             "startlinecolor": "#2a3f5f"
            },
            "type": "carpet"
           }
          ],
          "choropleth": [
           {
            "colorbar": {
             "outlinewidth": 0,
             "ticks": ""
            },
            "type": "choropleth"
           }
          ],
          "contour": [
           {
            "colorbar": {
             "outlinewidth": 0,
             "ticks": ""
            },
            "colorscale": [
             [
              0,
              "#0d0887"
             ],
             [
              0.1111111111111111,
              "#46039f"
             ],
             [
              0.2222222222222222,
              "#7201a8"
             ],
             [
              0.3333333333333333,
              "#9c179e"
             ],
             [
              0.4444444444444444,
              "#bd3786"
             ],
             [
              0.5555555555555556,
              "#d8576b"
             ],
             [
              0.6666666666666666,
              "#ed7953"
             ],
             [
              0.7777777777777778,
              "#fb9f3a"
             ],
             [
              0.8888888888888888,
              "#fdca26"
             ],
             [
              1,
              "#f0f921"
             ]
            ],
            "type": "contour"
           }
          ],
          "contourcarpet": [
           {
            "colorbar": {
             "outlinewidth": 0,
             "ticks": ""
            },
            "type": "contourcarpet"
           }
          ],
          "heatmap": [
           {
            "colorbar": {
             "outlinewidth": 0,
             "ticks": ""
            },
            "colorscale": [
             [
              0,
              "#0d0887"
             ],
             [
              0.1111111111111111,
              "#46039f"
             ],
             [
              0.2222222222222222,
              "#7201a8"
             ],
             [
              0.3333333333333333,
              "#9c179e"
             ],
             [
              0.4444444444444444,
              "#bd3786"
             ],
             [
              0.5555555555555556,
              "#d8576b"
             ],
             [
              0.6666666666666666,
              "#ed7953"
             ],
             [
              0.7777777777777778,
              "#fb9f3a"
             ],
             [
              0.8888888888888888,
              "#fdca26"
             ],
             [
              1,
              "#f0f921"
             ]
            ],
            "type": "heatmap"
           }
          ],
          "heatmapgl": [
           {
            "colorbar": {
             "outlinewidth": 0,
             "ticks": ""
            },
            "colorscale": [
             [
              0,
              "#0d0887"
             ],
             [
              0.1111111111111111,
              "#46039f"
             ],
             [
              0.2222222222222222,
              "#7201a8"
             ],
             [
              0.3333333333333333,
              "#9c179e"
             ],
             [
              0.4444444444444444,
              "#bd3786"
             ],
             [
              0.5555555555555556,
              "#d8576b"
             ],
             [
              0.6666666666666666,
              "#ed7953"
             ],
             [
              0.7777777777777778,
              "#fb9f3a"
             ],
             [
              0.8888888888888888,
              "#fdca26"
             ],
             [
              1,
              "#f0f921"
             ]
            ],
            "type": "heatmapgl"
           }
          ],
          "histogram": [
           {
            "marker": {
             "pattern": {
              "fillmode": "overlay",
              "size": 10,
              "solidity": 0.2
             }
            },
            "type": "histogram"
           }
          ],
          "histogram2d": [
           {
            "colorbar": {
             "outlinewidth": 0,
             "ticks": ""
            },
            "colorscale": [
             [
              0,
              "#0d0887"
             ],
             [
              0.1111111111111111,
              "#46039f"
             ],
             [
              0.2222222222222222,
              "#7201a8"
             ],
             [
              0.3333333333333333,
              "#9c179e"
             ],
             [
              0.4444444444444444,
              "#bd3786"
             ],
             [
              0.5555555555555556,
              "#d8576b"
             ],
             [
              0.6666666666666666,
              "#ed7953"
             ],
             [
              0.7777777777777778,
              "#fb9f3a"
             ],
             [
              0.8888888888888888,
              "#fdca26"
             ],
             [
              1,
              "#f0f921"
             ]
            ],
            "type": "histogram2d"
           }
          ],
          "histogram2dcontour": [
           {
            "colorbar": {
             "outlinewidth": 0,
             "ticks": ""
            },
            "colorscale": [
             [
              0,
              "#0d0887"
             ],
             [
              0.1111111111111111,
              "#46039f"
             ],
             [
              0.2222222222222222,
              "#7201a8"
             ],
             [
              0.3333333333333333,
              "#9c179e"
             ],
             [
              0.4444444444444444,
              "#bd3786"
             ],
             [
              0.5555555555555556,
              "#d8576b"
             ],
             [
              0.6666666666666666,
              "#ed7953"
             ],
             [
              0.7777777777777778,
              "#fb9f3a"
             ],
             [
              0.8888888888888888,
              "#fdca26"
             ],
             [
              1,
              "#f0f921"
             ]
            ],
            "type": "histogram2dcontour"
           }
          ],
          "mesh3d": [
           {
            "colorbar": {
             "outlinewidth": 0,
             "ticks": ""
            },
            "type": "mesh3d"
           }
          ],
          "parcoords": [
           {
            "line": {
             "colorbar": {
              "outlinewidth": 0,
              "ticks": ""
             }
            },
            "type": "parcoords"
           }
          ],
          "pie": [
           {
            "automargin": true,
            "type": "pie"
           }
          ],
          "scatter": [
           {
            "fillpattern": {
             "fillmode": "overlay",
             "size": 10,
             "solidity": 0.2
            },
            "type": "scatter"
           }
          ],
          "scatter3d": [
           {
            "line": {
             "colorbar": {
              "outlinewidth": 0,
              "ticks": ""
             }
            },
            "marker": {
             "colorbar": {
              "outlinewidth": 0,
              "ticks": ""
             }
            },
            "type": "scatter3d"
           }
          ],
          "scattercarpet": [
           {
            "marker": {
             "colorbar": {
              "outlinewidth": 0,
              "ticks": ""
             }
            },
            "type": "scattercarpet"
           }
          ],
          "scattergeo": [
           {
            "marker": {
             "colorbar": {
              "outlinewidth": 0,
              "ticks": ""
             }
            },
            "type": "scattergeo"
           }
          ],
          "scattergl": [
           {
            "marker": {
             "colorbar": {
              "outlinewidth": 0,
              "ticks": ""
             }
            },
            "type": "scattergl"
           }
          ],
          "scattermapbox": [
           {
            "marker": {
             "colorbar": {
              "outlinewidth": 0,
              "ticks": ""
             }
            },
            "type": "scattermapbox"
           }
          ],
          "scatterpolar": [
           {
            "marker": {
             "colorbar": {
              "outlinewidth": 0,
              "ticks": ""
             }
            },
            "type": "scatterpolar"
           }
          ],
          "scatterpolargl": [
           {
            "marker": {
             "colorbar": {
              "outlinewidth": 0,
              "ticks": ""
             }
            },
            "type": "scatterpolargl"
           }
          ],
          "scatterternary": [
           {
            "marker": {
             "colorbar": {
              "outlinewidth": 0,
              "ticks": ""
             }
            },
            "type": "scatterternary"
           }
          ],
          "surface": [
           {
            "colorbar": {
             "outlinewidth": 0,
             "ticks": ""
            },
            "colorscale": [
             [
              0,
              "#0d0887"
             ],
             [
              0.1111111111111111,
              "#46039f"
             ],
             [
              0.2222222222222222,
              "#7201a8"
             ],
             [
              0.3333333333333333,
              "#9c179e"
             ],
             [
              0.4444444444444444,
              "#bd3786"
             ],
             [
              0.5555555555555556,
              "#d8576b"
             ],
             [
              0.6666666666666666,
              "#ed7953"
             ],
             [
              0.7777777777777778,
              "#fb9f3a"
             ],
             [
              0.8888888888888888,
              "#fdca26"
             ],
             [
              1,
              "#f0f921"
             ]
            ],
            "type": "surface"
           }
          ],
          "table": [
           {
            "cells": {
             "fill": {
              "color": "#EBF0F8"
             },
             "line": {
              "color": "white"
             }
            },
            "header": {
             "fill": {
              "color": "#C8D4E3"
             },
             "line": {
              "color": "white"
             }
            },
            "type": "table"
           }
          ]
         },
         "layout": {
          "annotationdefaults": {
           "arrowcolor": "#2a3f5f",
           "arrowhead": 0,
           "arrowwidth": 1
          },
          "autotypenumbers": "strict",
          "coloraxis": {
           "colorbar": {
            "outlinewidth": 0,
            "ticks": ""
           }
          },
          "colorscale": {
           "diverging": [
            [
             0,
             "#8e0152"
            ],
            [
             0.1,
             "#c51b7d"
            ],
            [
             0.2,
             "#de77ae"
            ],
            [
             0.3,
             "#f1b6da"
            ],
            [
             0.4,
             "#fde0ef"
            ],
            [
             0.5,
             "#f7f7f7"
            ],
            [
             0.6,
             "#e6f5d0"
            ],
            [
             0.7,
             "#b8e186"
            ],
            [
             0.8,
             "#7fbc41"
            ],
            [
             0.9,
             "#4d9221"
            ],
            [
             1,
             "#276419"
            ]
           ],
           "sequential": [
            [
             0,
             "#0d0887"
            ],
            [
             0.1111111111111111,
             "#46039f"
            ],
            [
             0.2222222222222222,
             "#7201a8"
            ],
            [
             0.3333333333333333,
             "#9c179e"
            ],
            [
             0.4444444444444444,
             "#bd3786"
            ],
            [
             0.5555555555555556,
             "#d8576b"
            ],
            [
             0.6666666666666666,
             "#ed7953"
            ],
            [
             0.7777777777777778,
             "#fb9f3a"
            ],
            [
             0.8888888888888888,
             "#fdca26"
            ],
            [
             1,
             "#f0f921"
            ]
           ],
           "sequentialminus": [
            [
             0,
             "#0d0887"
            ],
            [
             0.1111111111111111,
             "#46039f"
            ],
            [
             0.2222222222222222,
             "#7201a8"
            ],
            [
             0.3333333333333333,
             "#9c179e"
            ],
            [
             0.4444444444444444,
             "#bd3786"
            ],
            [
             0.5555555555555556,
             "#d8576b"
            ],
            [
             0.6666666666666666,
             "#ed7953"
            ],
            [
             0.7777777777777778,
             "#fb9f3a"
            ],
            [
             0.8888888888888888,
             "#fdca26"
            ],
            [
             1,
             "#f0f921"
            ]
           ]
          },
          "colorway": [
           "#636efa",
           "#EF553B",
           "#00cc96",
           "#ab63fa",
           "#FFA15A",
           "#19d3f3",
           "#FF6692",
           "#B6E880",
           "#FF97FF",
           "#FECB52"
          ],
          "font": {
           "color": "#2a3f5f"
          },
          "geo": {
           "bgcolor": "white",
           "lakecolor": "white",
           "landcolor": "#E5ECF6",
           "showlakes": true,
           "showland": true,
           "subunitcolor": "white"
          },
          "hoverlabel": {
           "align": "left"
          },
          "hovermode": "closest",
          "mapbox": {
           "style": "light"
          },
          "paper_bgcolor": "white",
          "plot_bgcolor": "#E5ECF6",
          "polar": {
           "angularaxis": {
            "gridcolor": "white",
            "linecolor": "white",
            "ticks": ""
           },
           "bgcolor": "#E5ECF6",
           "radialaxis": {
            "gridcolor": "white",
            "linecolor": "white",
            "ticks": ""
           }
          },
          "scene": {
           "xaxis": {
            "backgroundcolor": "#E5ECF6",
            "gridcolor": "white",
            "gridwidth": 2,
            "linecolor": "white",
            "showbackground": true,
            "ticks": "",
            "zerolinecolor": "white"
           },
           "yaxis": {
            "backgroundcolor": "#E5ECF6",
            "gridcolor": "white",
            "gridwidth": 2,
            "linecolor": "white",
            "showbackground": true,
            "ticks": "",
            "zerolinecolor": "white"
           },
           "zaxis": {
            "backgroundcolor": "#E5ECF6",
            "gridcolor": "white",
            "gridwidth": 2,
            "linecolor": "white",
            "showbackground": true,
            "ticks": "",
            "zerolinecolor": "white"
           }
          },
          "shapedefaults": {
           "line": {
            "color": "#2a3f5f"
           }
          },
          "ternary": {
           "aaxis": {
            "gridcolor": "white",
            "linecolor": "white",
            "ticks": ""
           },
           "baxis": {
            "gridcolor": "white",
            "linecolor": "white",
            "ticks": ""
           },
           "bgcolor": "#E5ECF6",
           "caxis": {
            "gridcolor": "white",
            "linecolor": "white",
            "ticks": ""
           }
          },
          "title": {
           "x": 0.05
          },
          "xaxis": {
           "automargin": true,
           "gridcolor": "white",
           "linecolor": "white",
           "ticks": "",
           "title": {
            "standoff": 15
           },
           "zerolinecolor": "white",
           "zerolinewidth": 2
          },
          "yaxis": {
           "automargin": true,
           "gridcolor": "white",
           "linecolor": "white",
           "ticks": "",
           "title": {
            "standoff": 15
           },
           "zerolinecolor": "white",
           "zerolinewidth": 2
          }
         }
        },
        "title": {
         "text": "Inflation y/y"
        },
        "width": 800,
        "xaxis": {
         "anchor": "y",
         "domain": [
          0,
          1
         ],
         "dtick": "M1",
         "tickformat": "%b\n%Y",
         "tickmode": "auto",
         "title": {
          "text": "Date"
         }
        },
        "yaxis": {
         "anchor": "x",
         "domain": [
          0,
          1
         ],
         "title": {
          "text": "y/y Pct Change"
         }
        }
       }
      }
     },
     "metadata": {},
     "output_type": "display_data"
    }
   ],
   "source": [
    "fig = px.line(inf, x=\"DATE\", y=[\"PCE\",\"CPILFESL\"],\n",
    "              hover_data={\"DATE\": \"|%B %d, %Y\"},\n",
    "              title='Inflation y/y')\n",
    "fig.update_xaxes(\n",
    "    dtick=\"M1\",\n",
    "    tickmode= 'auto',\n",
    "    tickformat= '%b\\n%Y')\n",
    "\n",
    "fig.update_layout(\n",
    "    autosize=False,\n",
    "    width=800,\n",
    "    height=800,\n",
    "    xaxis_title=\"Date\", \n",
    "    yaxis_title=\"y/y Pct Change\"\n",
    ")"
   ]
  },
  {
   "cell_type": "code",
   "execution_count": 310,
   "metadata": {},
   "outputs": [
    {
     "data": {
      "text/plain": [
       "<Axes: xlabel='DATE'>"
      ]
     },
     "execution_count": 310,
     "metadata": {},
     "output_type": "execute_result"
    },
    {
     "data": {
      "image/png": "[encoded data removed]",
      "text/plain": [
       "<Figure size 640x480 with 1 Axes>"
      ]
     },
     "metadata": {},
     "output_type": "display_data"
    },
    {
     "data": {
      "image/png": "[encoded data removed]",
      "text/plain": [
       "<Figure size 640x480 with 1 Axes>"
      ]
     },
     "metadata": {},
     "output_type": "display_data"
    }
   ],
   "source": [
    "# rgdp = growth[['GDPC1']].dropna()\n",
    "growth = growth.rename(columns = {'DRTSCILM':\"C&I Tightening Standards: Large and MM\"})\n",
    "rgdp = growth[['DRTSCIS','GDPC1','C&I Tightening Standards: Large and MM']].dropna()\n",
    "rgdp['CI Small Firms'] = rgdp['DRTSCIS'] / 10\n",
    "rgdp['CI Large Firms'] = rgdp['C&I Tightening Standards: Large and MM'] / 10\n",
    "rgdp['rGDP'] = (rgdp['GDPC1'] / rgdp['GDPC1'].shift(4)) - 1\n",
    "rgdp['rGDP'] = rgdp['rGDP']*100\n",
    "gip = rgdp['rGDP']\n",
    "# infl_growth = inflation[['CPILFESL']].dropna()\n",
    "# pd.concat([gip.dropna(), infl_growth],axis=1).dropna()\n",
    "rgdp['lagged 2q CI Small Firms'] = rgdp['CI Small Firms'].shift(2)\n",
    "rgdp['Lagged 3q CI Large Firms'] = rgdp['CI Large Firms'].shift(3)\n",
    "rgdp[['rGDP','Lagged 3q CI Large Firms']]['2018':].plot()\n",
    "rgdp[['rGDP','lagged 2q CI Small Firms']]['2018':].plot()\n",
    "\n"
   ]
  },
  {
   "cell_type": "code",
   "execution_count": 305,
   "metadata": {},
   "outputs": [
    {
     "data": {
      "application/vnd.plotly.v1+json": {
       "config": {
        "plotlyServerURL": "https://plot.ly"
       },
       "data": [
        {
         "hovertemplate": "variable=C&I Tightening Standards: Large and MM<br>DATE=%{x|%B %d, %Y}<br>value=%{y}<extra></extra>",
         "legendgroup": "C&I Tightening Standards: Large and MM",
         "line": {
          "color": "#636efa",
          "dash": "solid"
         },
         "marker": {
          "symbol": "circle"
         },
         "mode": "lines",
         "name": "C&I Tightening Standards: Large and MM",
         "orientation": "v",
         "showlegend": true,
         "type": "scatter",
         "x": [
          "2019-01-01T00:00:00",
          "2019-04-01T00:00:00",
          "2019-07-01T00:00:00",
          "2019-10-01T00:00:00",
          "2020-01-01T00:00:00",
          "2020-04-01T00:00:00",
          "2020-07-01T00:00:00",
          "2020-10-01T00:00:00",
          "2021-01-01T00:00:00",
          "2021-04-01T00:00:00",
          "2021-07-01T00:00:00",
          "2021-10-01T00:00:00",
          "2022-01-01T00:00:00",
          "2022-04-01T00:00:00",
          "2022-07-01T00:00:00",
          "2022-10-01T00:00:00",
          "2023-01-01T00:00:00",
          "2023-04-01T00:00:00",
          "2023-07-01T00:00:00",
          "2023-10-01T00:00:00"
         ],
         "xaxis": "x",
         "y": [
          2.8,
          -4.2,
          -2.8,
          5.4,
          0,
          41.5,
          71.2,
          37.7,
          5.5,
          -15.1,
          -32.4,
          -18.2,
          -14.5,
          -1.5,
          24.2,
          39.1,
          44.8,
          46,
          50.8,
          33.9
         ],
         "yaxis": "y"
        }
       ],
       "layout": {
        "autosize": false,
        "height": 800,
        "legend": {
         "title": {
          "text": "variable"
         },
         "tracegroupgap": 0
        },
        "template": {
         "data": {
          "bar": [
           {
            "error_x": {
             "color": "#2a3f5f"
            },
            "error_y": {
             "color": "#2a3f5f"
            },
            "marker": {
             "line": {
              "color": "#E5ECF6",
              "width": 0.5
             },
             "pattern": {
              "fillmode": "overlay",
              "size": 10,
              "solidity": 0.2
             }
            },
            "type": "bar"
           }
          ],
          "barpolar": [
           {
            "marker": {
             "line": {
              "color": "#E5ECF6",
              "width": 0.5
             },
             "pattern": {
              "fillmode": "overlay",
              "size": 10,
              "solidity": 0.2
             }
            },
            "type": "barpolar"
           }
          ],
          "carpet": [
           {
            "aaxis": {
             "endlinecolor": "#2a3f5f",
             "gridcolor": "white",
             "linecolor": "white",
             "minorgridcolor": "white",
             "startlinecolor": "#2a3f5f"
            },
            "baxis": {
             "endlinecolor": "#2a3f5f",
             "gridcolor": "white",
             "linecolor": "white",
             "minorgridcolor": "white",
             "startlinecolor": "#2a3f5f"
            },
            "type": "carpet"
           }
          ],
          "choropleth": [
           {
            "colorbar": {
             "outlinewidth": 0,
             "ticks": ""
            },
            "type": "choropleth"
           }
          ],
          "contour": [
           {
            "colorbar": {
             "outlinewidth": 0,
             "ticks": ""
            },
            "colorscale": [
             [
              0,
              "#0d0887"
             ],
             [
              0.1111111111111111,
              "#46039f"
             ],
             [
              0.2222222222222222,
              "#7201a8"
             ],
             [
              0.3333333333333333,
              "#9c179e"
             ],
             [
              0.4444444444444444,
              "#bd3786"
             ],
             [
              0.5555555555555556,
              "#d8576b"
             ],
             [
              0.6666666666666666,
              "#ed7953"
             ],
             [
              0.7777777777777778,
              "#fb9f3a"
             ],
             [
              0.8888888888888888,
              "#fdca26"
             ],
             [
              1,
              "#f0f921"
             ]
            ],
            "type": "contour"
           }
          ],
          "contourcarpet": [
           {
            "colorbar": {
             "outlinewidth": 0,
             "ticks": ""
            },
            "type": "contourcarpet"
           }
          ],
          "heatmap": [
           {
            "colorbar": {
             "outlinewidth": 0,
             "ticks": ""
            },
            "colorscale": [
             [
              0,
              "#0d0887"
             ],
             [
              0.1111111111111111,
              "#46039f"
             ],
             [
              0.2222222222222222,
              "#7201a8"
             ],
             [
              0.3333333333333333,
              "#9c179e"
             ],
             [
              0.4444444444444444,
              "#bd3786"
             ],
             [
              0.5555555555555556,
              "#d8576b"
             ],
             [
              0.6666666666666666,
              "#ed7953"
             ],
             [
              0.7777777777777778,
              "#fb9f3a"
             ],
             [
              0.8888888888888888,
              "#fdca26"
             ],
             [
              1,
              "#f0f921"
             ]
            ],
            "type": "heatmap"
           }
          ],
          "heatmapgl": [
           {
            "colorbar": {
             "outlinewidth": 0,
             "ticks": ""
            },
            "colorscale": [
             [
              0,
              "#0d0887"
             ],
             [
              0.1111111111111111,
              "#46039f"
             ],
             [
              0.2222222222222222,
              "#7201a8"
             ],
             [
              0.3333333333333333,
              "#9c179e"
             ],
             [
              0.4444444444444444,
              "#bd3786"
             ],
             [
              0.5555555555555556,
              "#d8576b"
             ],
             [
              0.6666666666666666,
              "#ed7953"
             ],
             [
              0.7777777777777778,
              "#fb9f3a"
             ],
             [
              0.8888888888888888,
              "#fdca26"
             ],
             [
              1,
              "#f0f921"
             ]
            ],
            "type": "heatmapgl"
           }
          ],
          "histogram": [
           {
            "marker": {
             "pattern": {
              "fillmode": "overlay",
              "size": 10,
              "solidity": 0.2
             }
            },
            "type": "histogram"
           }
          ],
          "histogram2d": [
           {
            "colorbar": {
             "outlinewidth": 0,
             "ticks": ""
            },
            "colorscale": [
             [
              0,
              "#0d0887"
             ],
             [
              0.1111111111111111,
              "#46039f"
             ],
             [
              0.2222222222222222,
              "#7201a8"
             ],
             [
              0.3333333333333333,
              "#9c179e"
             ],
             [
              0.4444444444444444,
              "#bd3786"
             ],
             [
              0.5555555555555556,
              "#d8576b"
             ],
             [
              0.6666666666666666,
              "#ed7953"
             ],
             [
              0.7777777777777778,
              "#fb9f3a"
             ],
             [
              0.8888888888888888,
              "#fdca26"
             ],
             [
              1,
              "#f0f921"
             ]
            ],
            "type": "histogram2d"
           }
          ],
          "histogram2dcontour": [
           {
            "colorbar": {
             "outlinewidth": 0,
             "ticks": ""
            },
            "colorscale": [
             [
              0,
              "#0d0887"
             ],
             [
              0.1111111111111111,
              "#46039f"
             ],
             [
              0.2222222222222222,
              "#7201a8"
             ],
             [
              0.3333333333333333,
              "#9c179e"
             ],
             [
              0.4444444444444444,
              "#bd3786"
             ],
             [
              0.5555555555555556,
              "#d8576b"
             ],
             [
              0.6666666666666666,
              "#ed7953"
             ],
             [
              0.7777777777777778,
              "#fb9f3a"
             ],
             [
              0.8888888888888888,
              "#fdca26"
             ],
             [
              1,
              "#f0f921"
             ]
            ],
            "type": "histogram2dcontour"
           }
          ],
          "mesh3d": [
           {
            "colorbar": {
             "outlinewidth": 0,
             "ticks": ""
            },
            "type": "mesh3d"
           }
          ],
          "parcoords": [
           {
            "line": {
             "colorbar": {
              "outlinewidth": 0,
              "ticks": ""
             }
            },
            "type": "parcoords"
           }
          ],
          "pie": [
           {
            "automargin": true,
            "type": "pie"
           }
          ],
          "scatter": [
           {
            "fillpattern": {
             "fillmode": "overlay",
             "size": 10,
             "solidity": 0.2
            },
            "type": "scatter"
           }
          ],
          "scatter3d": [
           {
            "line": {
             "colorbar": {
              "outlinewidth": 0,
              "ticks": ""
             }
            },
            "marker": {
             "colorbar": {
              "outlinewidth": 0,
              "ticks": ""
             }
            },
            "type": "scatter3d"
           }
          ],
          "scattercarpet": [
           {
            "marker": {
             "colorbar": {
              "outlinewidth": 0,
              "ticks": ""
             }
            },
            "type": "scattercarpet"
           }
          ],
          "scattergeo": [
           {
            "marker": {
             "colorbar": {
              "outlinewidth": 0,
              "ticks": ""
             }
            },
            "type": "scattergeo"
           }
          ],
          "scattergl": [
           {
            "marker": {
             "colorbar": {
              "outlinewidth": 0,
              "ticks": ""
             }
            },
            "type": "scattergl"
           }
          ],
          "scattermapbox": [
           {
            "marker": {
             "colorbar": {
              "outlinewidth": 0,
              "ticks": ""
             }
            },
            "type": "scattermapbox"
           }
          ],
          "scatterpolar": [
           {
            "marker": {
             "colorbar": {
              "outlinewidth": 0,
              "ticks": ""
             }
            },
            "type": "scatterpolar"
           }
          ],
          "scatterpolargl": [
           {
            "marker": {
             "colorbar": {
              "outlinewidth": 0,
              "ticks": ""
             }
            },
            "type": "scatterpolargl"
           }
          ],
          "scatterternary": [
           {
            "marker": {
             "colorbar": {
              "outlinewidth": 0,
              "ticks": ""
             }
            },
            "type": "scatterternary"
           }
          ],
          "surface": [
           {
            "colorbar": {
             "outlinewidth": 0,
             "ticks": ""
            },
            "colorscale": [
             [
              0,
              "#0d0887"
             ],
             [
              0.1111111111111111,
              "#46039f"
             ],
             [
              0.2222222222222222,
              "#7201a8"
             ],
             [
              0.3333333333333333,
              "#9c179e"
             ],
             [
              0.4444444444444444,
              "#bd3786"
             ],
             [
              0.5555555555555556,
              "#d8576b"
             ],
             [
              0.6666666666666666,
              "#ed7953"
             ],
             [
              0.7777777777777778,
              "#fb9f3a"
             ],
             [
              0.8888888888888888,
              "#fdca26"
             ],
             [
              1,
              "#f0f921"
             ]
            ],
            "type": "surface"
           }
          ],
          "table": [
           {
            "cells": {
             "fill": {
              "color": "#EBF0F8"
             },
             "line": {
              "color": "white"
             }
            },
            "header": {
             "fill": {
              "color": "#C8D4E3"
             },
             "line": {
              "color": "white"
             }
            },
            "type": "table"
           }
          ]
         },
         "layout": {
          "annotationdefaults": {
           "arrowcolor": "#2a3f5f",
           "arrowhead": 0,
           "arrowwidth": 1
          },
          "autotypenumbers": "strict",
          "coloraxis": {
           "colorbar": {
            "outlinewidth": 0,
            "ticks": ""
           }
          },
          "colorscale": {
           "diverging": [
            [
             0,
             "#8e0152"
            ],
            [
             0.1,
             "#c51b7d"
            ],
            [
             0.2,
             "#de77ae"
            ],
            [
             0.3,
             "#f1b6da"
            ],
            [
             0.4,
             "#fde0ef"
            ],
            [
             0.5,
             "#f7f7f7"
            ],
            [
             0.6,
             "#e6f5d0"
            ],
            [
             0.7,
             "#b8e186"
            ],
            [
             0.8,
             "#7fbc41"
            ],
            [
             0.9,
             "#4d9221"
            ],
            [
             1,
             "#276419"
            ]
           ],
           "sequential": [
            [
             0,
             "#0d0887"
            ],
            [
             0.1111111111111111,
             "#46039f"
            ],
            [
             0.2222222222222222,
             "#7201a8"
            ],
            [
             0.3333333333333333,
             "#9c179e"
            ],
            [
             0.4444444444444444,
             "#bd3786"
            ],
            [
             0.5555555555555556,
             "#d8576b"
            ],
            [
             0.6666666666666666,
             "#ed7953"
            ],
            [
             0.7777777777777778,
             "#fb9f3a"
            ],
            [
             0.8888888888888888,
             "#fdca26"
            ],
            [
             1,
             "#f0f921"
            ]
           ],
           "sequentialminus": [
            [
             0,
             "#0d0887"
            ],
            [
             0.1111111111111111,
             "#46039f"
            ],
            [
             0.2222222222222222,
             "#7201a8"
            ],
            [
             0.3333333333333333,
             "#9c179e"
            ],
            [
             0.4444444444444444,
             "#bd3786"
            ],
            [
             0.5555555555555556,
             "#d8576b"
            ],
            [
             0.6666666666666666,
             "#ed7953"
            ],
            [
             0.7777777777777778,
             "#fb9f3a"
            ],
            [
             0.8888888888888888,
             "#fdca26"
            ],
            [
             1,
             "#f0f921"
            ]
           ]
          },
          "colorway": [
           "#636efa",
           "#EF553B",
           "#00cc96",
           "#ab63fa",
           "#FFA15A",
           "#19d3f3",
           "#FF6692",
           "#B6E880",
           "#FF97FF",
           "#FECB52"
          ],
          "font": {
           "color": "#2a3f5f"
          },
          "geo": {
           "bgcolor": "white",
           "lakecolor": "white",
           "landcolor": "#E5ECF6",
           "showlakes": true,
           "showland": true,
           "subunitcolor": "white"
          },
          "hoverlabel": {
           "align": "left"
          },
          "hovermode": "closest",
          "mapbox": {
           "style": "light"
          },
          "paper_bgcolor": "white",
          "plot_bgcolor": "#E5ECF6",
          "polar": {
           "angularaxis": {
            "gridcolor": "white",
            "linecolor": "white",
            "ticks": ""
           },
           "bgcolor": "#E5ECF6",
           "radialaxis": {
            "gridcolor": "white",
            "linecolor": "white",
            "ticks": ""
           }
          },
          "scene": {
           "xaxis": {
            "backgroundcolor": "#E5ECF6",
            "gridcolor": "white",
            "gridwidth": 2,
            "linecolor": "white",
            "showbackground": true,
            "ticks": "",
            "zerolinecolor": "white"
           },
           "yaxis": {
            "backgroundcolor": "#E5ECF6",
            "gridcolor": "white",
            "gridwidth": 2,
            "linecolor": "white",
            "showbackground": true,
            "ticks": "",
            "zerolinecolor": "white"
           },
           "zaxis": {
            "backgroundcolor": "#E5ECF6",
            "gridcolor": "white",
            "gridwidth": 2,
            "linecolor": "white",
            "showbackground": true,
            "ticks": "",
            "zerolinecolor": "white"
           }
          },
          "shapedefaults": {
           "line": {
            "color": "#2a3f5f"
           }
          },
          "ternary": {
           "aaxis": {
            "gridcolor": "white",
            "linecolor": "white",
            "ticks": ""
           },
           "baxis": {
            "gridcolor": "white",
            "linecolor": "white",
            "ticks": ""
           },
           "bgcolor": "#E5ECF6",
           "caxis": {
            "gridcolor": "white",
            "linecolor": "white",
            "ticks": ""
           }
          },
          "title": {
           "x": 0.05
          },
          "xaxis": {
           "automargin": true,
           "gridcolor": "white",
           "linecolor": "white",
           "ticks": "",
           "title": {
            "standoff": 15
           },
           "zerolinecolor": "white",
           "zerolinewidth": 2
          },
          "yaxis": {
           "automargin": true,
           "gridcolor": "white",
           "linecolor": "white",
           "ticks": "",
           "title": {
            "standoff": 15
           },
           "zerolinecolor": "white",
           "zerolinewidth": 2
          }
         }
        },
        "title": {
         "text": "C&I Tightening Standards %"
        },
        "width": 1200,
        "xaxis": {
         "anchor": "y",
         "domain": [
          0,
          1
         ],
         "dtick": "M1",
         "tickformat": "%b\n%Y",
         "tickmode": "auto",
         "title": {
          "text": "Date"
         }
        },
        "yaxis": {
         "anchor": "x",
         "domain": [
          0,
          1
         ],
         "title": {
          "text": "Net pct of Banks Tightening Standards for C&I Loans to Large & Middle-Market Firms"
         }
        }
       }
      }
     },
     "metadata": {},
     "output_type": "display_data"
    }
   ],
   "source": [
    "ci = growth[['C&I Tightening Standards: Large and MM']].dropna()['2019':]\n",
    "fig = px.line(ci.dropna().reset_index()[['DATE','C&I Tightening Standards: Large and MM']], x=\"DATE\", y=[\"C&I Tightening Standards: Large and MM\"],\n",
    "              hover_data={\"DATE\": \"|%B %d, %Y\"},\n",
    "              title='C&I Tightening Standards %')\n",
    "fig.update_xaxes(\n",
    "    dtick=\"M1\",\n",
    "    tickmode= 'auto',\n",
    "    tickformat= '%b\\n%Y')\n",
    "\n",
    "fig.update_layout(\n",
    "    autosize=False,\n",
    "    width=1200,\n",
    "    height=800,\n",
    "    xaxis_title=\"Date\", \n",
    "    yaxis_title=\"Net pct of Banks Tightening Standards for C&I Loans to Large & Middle-Market Firms\")"
   ]
  },
  {
   "cell_type": "code",
   "execution_count": 292,
   "metadata": {},
   "outputs": [
    {
     "data": {
      "application/vnd.plotly.v1+json": {
       "config": {
        "plotlyServerURL": "https://plot.ly"
       },
       "data": [
        {
         "hovertemplate": "variable=rGDP<br>DATE=%{x|%B %d, %Y}<br>value=%{y}<extra></extra>",
         "legendgroup": "rGDP",
         "line": {
          "color": "#636efa",
          "dash": "solid"
         },
         "marker": {
          "symbol": "circle"
         },
         "mode": "lines",
         "name": "rGDP",
         "orientation": "v",
         "showlegend": true,
         "type": "scatter",
         "x": [
          "1991-04-01T00:00:00",
          "1991-07-01T00:00:00",
          "1991-10-01T00:00:00",
          "1992-01-01T00:00:00",
          "1992-04-01T00:00:00",
          "1992-07-01T00:00:00",
          "1992-10-01T00:00:00",
          "1993-01-01T00:00:00",
          "1993-04-01T00:00:00",
          "1993-07-01T00:00:00",
          "1993-10-01T00:00:00",
          "1994-01-01T00:00:00",
          "1994-04-01T00:00:00",
          "1994-07-01T00:00:00",
          "1994-10-01T00:00:00",
          "1995-01-01T00:00:00",
          "1995-04-01T00:00:00",
          "1995-07-01T00:00:00",
          "1995-10-01T00:00:00",
          "1996-01-01T00:00:00",
          "1996-04-01T00:00:00",
          "1996-07-01T00:00:00",
          "1996-10-01T00:00:00",
          "1997-01-01T00:00:00",
          "1997-04-01T00:00:00",
          "1997-07-01T00:00:00",
          "1997-10-01T00:00:00",
          "1998-01-01T00:00:00",
          "1998-04-01T00:00:00",
          "1998-07-01T00:00:00",
          "1998-10-01T00:00:00",
          "1999-01-01T00:00:00",
          "1999-04-01T00:00:00",
          "1999-07-01T00:00:00",
          "1999-10-01T00:00:00",
          "2000-01-01T00:00:00",
          "2000-04-01T00:00:00",
          "2000-07-01T00:00:00",
          "2000-10-01T00:00:00",
          "2001-01-01T00:00:00",
          "2001-04-01T00:00:00",
          "2001-07-01T00:00:00",
          "2001-10-01T00:00:00",
          "2002-01-01T00:00:00",
          "2002-04-01T00:00:00",
          "2002-07-01T00:00:00",
          "2002-10-01T00:00:00",
          "2003-01-01T00:00:00",
          "2003-04-01T00:00:00",
          "2003-07-01T00:00:00",
          "2003-10-01T00:00:00",
          "2004-01-01T00:00:00",
          "2004-04-01T00:00:00",
          "2004-07-01T00:00:00",
          "2004-10-01T00:00:00",
          "2005-01-01T00:00:00",
          "2005-04-01T00:00:00",
          "2005-07-01T00:00:00",
          "2005-10-01T00:00:00",
          "2006-01-01T00:00:00",
          "2006-04-01T00:00:00",
          "2006-07-01T00:00:00",
          "2006-10-01T00:00:00",
          "2007-01-01T00:00:00",
          "2007-04-01T00:00:00",
          "2007-07-01T00:00:00",
          "2007-10-01T00:00:00",
          "2008-01-01T00:00:00",
          "2008-04-01T00:00:00",
          "2008-07-01T00:00:00",
          "2008-10-01T00:00:00",
          "2009-01-01T00:00:00",
          "2009-04-01T00:00:00",
          "2009-07-01T00:00:00",
          "2009-10-01T00:00:00",
          "2010-01-01T00:00:00",
          "2010-04-01T00:00:00",
          "2010-07-01T00:00:00",
          "2010-10-01T00:00:00",
          "2011-01-01T00:00:00",
          "2011-04-01T00:00:00",
          "2011-07-01T00:00:00",
          "2011-10-01T00:00:00",
          "2012-01-01T00:00:00",
          "2012-04-01T00:00:00",
          "2012-07-01T00:00:00",
          "2012-10-01T00:00:00",
          "2013-01-01T00:00:00",
          "2013-04-01T00:00:00",
          "2013-07-01T00:00:00",
          "2013-10-01T00:00:00",
          "2014-01-01T00:00:00",
          "2014-04-01T00:00:00",
          "2014-07-01T00:00:00",
          "2014-10-01T00:00:00",
          "2015-01-01T00:00:00",
          "2015-04-01T00:00:00",
          "2015-07-01T00:00:00",
          "2015-10-01T00:00:00",
          "2016-01-01T00:00:00",
          "2016-04-01T00:00:00",
          "2016-07-01T00:00:00",
          "2016-10-01T00:00:00",
          "2017-01-01T00:00:00",
          "2017-04-01T00:00:00",
          "2017-07-01T00:00:00",
          "2017-10-01T00:00:00",
          "2018-01-01T00:00:00",
          "2018-04-01T00:00:00",
          "2018-07-01T00:00:00",
          "2018-10-01T00:00:00",
          "2019-01-01T00:00:00",
          "2019-04-01T00:00:00",
          "2019-07-01T00:00:00",
          "2019-10-01T00:00:00",
          "2020-01-01T00:00:00",
          "2020-04-01T00:00:00",
          "2020-07-01T00:00:00",
          "2020-10-01T00:00:00",
          "2021-01-01T00:00:00",
          "2021-04-01T00:00:00",
          "2021-07-01T00:00:00",
          "2021-10-01T00:00:00",
          "2022-01-01T00:00:00",
          "2022-04-01T00:00:00",
          "2022-07-01T00:00:00",
          "2022-10-01T00:00:00",
          "2023-01-01T00:00:00",
          "2023-04-01T00:00:00",
          "2023-07-01T00:00:00"
         ],
         "xaxis": "x",
         "y": [
          -0.5389307958117096,
          -0.10280887034219699,
          1.1664011655910578,
          2.858936912248855,
          3.169835814511379,
          3.6653854414522735,
          4.382645388993267,
          3.3199058070509935,
          2.806668207145946,
          2.2865117406066116,
          2.6077107599381977,
          3.430706936043171,
          4.225610689832271,
          4.337048254936149,
          4.116167021429895,
          3.481405627292,
          2.4023751008017014,
          2.6733258155179795,
          2.1997916299495213,
          2.6013098466592277,
          4.002379484223728,
          4.0501348871777365,
          4.421452442981133,
          4.314068944306992,
          4.31127171595187,
          4.674702492340366,
          4.483552816031211,
          4.855526883310857,
          4.09279008633523,
          4.103452727565782,
          4.883126568525764,
          4.816336792733988,
          4.721885912228041,
          4.791118246732284,
          4.8235742707329665,
          4.224744861233032,
          5.2444568111355006,
          3.9731723525519014,
          2.9055943095086967,
          2.1975051856706784,
          0.9962983270431103,
          0.48923629256110157,
          0.16731829373148877,
          1.3372586567694578,
          1.3253787532159889,
          2.1465169830615416,
          1.9925248221954739,
          1.6792570124718242,
          1.9550651524723905,
          3.2311353875128956,
          4.300440651057458,
          4.341952085996703,
          4.227491217016888,
          3.494860356231766,
          3.3511049439547858,
          3.9088432572524257,
          3.6177355801611855,
          3.448598847170792,
          2.9727366937913002,
          3.2131067957182013,
          2.9729038556202125,
          2.325277937424497,
          2.6345603763438197,
          1.5767249700146868,
          1.9343747200181172,
          2.3680360773066234,
          2.133364682457861,
          1.3924712055185307,
          1.3760107660276244,
          0.26596727212868654,
          -2.5411536884212604,
          -3.234227293078318,
          -3.9788374053187248,
          -3.1328157006863644,
          0.10557252348297741,
          1.7452658449103264,
          2.91359502911801,
          3.344209253779229,
          2.7759609093124693,
          2.037797199613345,
          1.7437088645501975,
          0.9426534645672335,
          1.543075871606514,
          2.6380693108862374,
          2.403335839137921,
          2.5737123144880414,
          1.551852007332477,
          1.700868485709428,
          1.5199382041070075,
          2.237022493295515,
          3.0091449601746367,
          1.6508175559380112,
          2.6891521587272926,
          3.059782928201682,
          2.6858351011456394,
          3.9692994988184793,
          3.2790878609270546,
          2.4473213664345517,
          2.119861312664817,
          1.7950168913805964,
          1.493250832714721,
          1.8057615310855146,
          2.1815663030564147,
          2.0874616941966906,
          2.3304137937582903,
          2.410821412174591,
          2.9941434967617697,
          3.328810094759116,
          3.2989628465220244,
          3.130030640718684,
          2.125110751484538,
          1.8512850454525775,
          2.1540533335291823,
          2.6702647849291328,
          3.182556070035214,
          1.2265547889679818,
          -7.528460210503718,
          -1.4689314767167172,
          -1.0832850303525987,
          1.5726073238882199,
          11.950272211519607,
          4.735316794710931,
          5.421091782486576,
          3.5650820052708365,
          1.8705984510977824,
          1.713213136122027,
          0.6516916593409139,
          1.7179273017444263,
          2.3824681594386554,
          2.926886998175937
         ],
         "yaxis": "y"
        }
       ],
       "layout": {
        "autosize": false,
        "height": 800,
        "legend": {
         "title": {
          "text": "variable"
         },
         "tracegroupgap": 0
        },
        "template": {
         "data": {
          "bar": [
           {
            "error_x": {
             "color": "#2a3f5f"
            },
            "error_y": {
             "color": "#2a3f5f"
            },
            "marker": {
             "line": {
              "color": "#E5ECF6",
              "width": 0.5
             },
             "pattern": {
              "fillmode": "overlay",
              "size": 10,
              "solidity": 0.2
             }
            },
            "type": "bar"
           }
          ],
          "barpolar": [
           {
            "marker": {
             "line": {
              "color": "#E5ECF6",
              "width": 0.5
             },
             "pattern": {
              "fillmode": "overlay",
              "size": 10,
              "solidity": 0.2
             }
            },
            "type": "barpolar"
           }
          ],
          "carpet": [
           {
            "aaxis": {
             "endlinecolor": "#2a3f5f",
             "gridcolor": "white",
             "linecolor": "white",
             "minorgridcolor": "white",
             "startlinecolor": "#2a3f5f"
            },
            "baxis": {
             "endlinecolor": "#2a3f5f",
             "gridcolor": "white",
             "linecolor": "white",
             "minorgridcolor": "white",
             "startlinecolor": "#2a3f5f"
            },
            "type": "carpet"
           }
          ],
          "choropleth": [
           {
            "colorbar": {
             "outlinewidth": 0,
             "ticks": ""
            },
            "type": "choropleth"
           }
          ],
          "contour": [
           {
            "colorbar": {
             "outlinewidth": 0,
             "ticks": ""
            },
            "colorscale": [
             [
              0,
              "#0d0887"
             ],
             [
              0.1111111111111111,
              "#46039f"
             ],
             [
              0.2222222222222222,
              "#7201a8"
             ],
             [
              0.3333333333333333,
              "#9c179e"
             ],
             [
              0.4444444444444444,
              "#bd3786"
             ],
             [
              0.5555555555555556,
              "#d8576b"
             ],
             [
              0.6666666666666666,
              "#ed7953"
             ],
             [
              0.7777777777777778,
              "#fb9f3a"
             ],
             [
              0.8888888888888888,
              "#fdca26"
             ],
             [
              1,
              "#f0f921"
             ]
            ],
            "type": "contour"
           }
          ],
          "contourcarpet": [
           {
            "colorbar": {
             "outlinewidth": 0,
             "ticks": ""
            },
            "type": "contourcarpet"
           }
          ],
          "heatmap": [
           {
            "colorbar": {
             "outlinewidth": 0,
             "ticks": ""
            },
            "colorscale": [
             [
              0,
              "#0d0887"
             ],
             [
              0.1111111111111111,
              "#46039f"
             ],
             [
              0.2222222222222222,
              "#7201a8"
             ],
             [
              0.3333333333333333,
              "#9c179e"
             ],
             [
              0.4444444444444444,
              "#bd3786"
             ],
             [
              0.5555555555555556,
              "#d8576b"
             ],
             [
              0.6666666666666666,
              "#ed7953"
             ],
             [
              0.7777777777777778,
              "#fb9f3a"
             ],
             [
              0.8888888888888888,
              "#fdca26"
             ],
             [
              1,
              "#f0f921"
             ]
            ],
            "type": "heatmap"
           }
          ],
          "heatmapgl": [
           {
            "colorbar": {
             "outlinewidth": 0,
             "ticks": ""
            },
            "colorscale": [
             [
              0,
              "#0d0887"
             ],
             [
              0.1111111111111111,
              "#46039f"
             ],
             [
              0.2222222222222222,
              "#7201a8"
             ],
             [
              0.3333333333333333,
              "#9c179e"
             ],
             [
              0.4444444444444444,
              "#bd3786"
             ],
             [
              0.5555555555555556,
              "#d8576b"
             ],
             [
              0.6666666666666666,
              "#ed7953"
             ],
             [
              0.7777777777777778,
              "#fb9f3a"
             ],
             [
              0.8888888888888888,
              "#fdca26"
             ],
             [
              1,
              "#f0f921"
             ]
            ],
            "type": "heatmapgl"
           }
          ],
          "histogram": [
           {
            "marker": {
             "pattern": {
              "fillmode": "overlay",
              "size": 10,
              "solidity": 0.2
             }
            },
            "type": "histogram"
           }
          ],
          "histogram2d": [
           {
            "colorbar": {
             "outlinewidth": 0,
             "ticks": ""
            },
            "colorscale": [
             [
              0,
              "#0d0887"
             ],
             [
              0.1111111111111111,
              "#46039f"
             ],
             [
              0.2222222222222222,
              "#7201a8"
             ],
             [
              0.3333333333333333,
              "#9c179e"
             ],
             [
              0.4444444444444444,
              "#bd3786"
             ],
             [
              0.5555555555555556,
              "#d8576b"
             ],
             [
              0.6666666666666666,
              "#ed7953"
             ],
             [
              0.7777777777777778,
              "#fb9f3a"
             ],
             [
              0.8888888888888888,
              "#fdca26"
             ],
             [
              1,
              "#f0f921"
             ]
            ],
            "type": "histogram2d"
           }
          ],
          "histogram2dcontour": [
           {
            "colorbar": {
             "outlinewidth": 0,
             "ticks": ""
            },
            "colorscale": [
             [
              0,
              "#0d0887"
             ],
             [
              0.1111111111111111,
              "#46039f"
             ],
             [
              0.2222222222222222,
              "#7201a8"
             ],
             [
              0.3333333333333333,
              "#9c179e"
             ],
             [
              0.4444444444444444,
              "#bd3786"
             ],
             [
              0.5555555555555556,
              "#d8576b"
             ],
             [
              0.6666666666666666,
              "#ed7953"
             ],
             [
              0.7777777777777778,
              "#fb9f3a"
             ],
             [
              0.8888888888888888,
              "#fdca26"
             ],
             [
              1,
              "#f0f921"
             ]
            ],
            "type": "histogram2dcontour"
           }
          ],
          "mesh3d": [
           {
            "colorbar": {
             "outlinewidth": 0,
             "ticks": ""
            },
            "type": "mesh3d"
           }
          ],
          "parcoords": [
           {
            "line": {
             "colorbar": {
              "outlinewidth": 0,
              "ticks": ""
             }
            },
            "type": "parcoords"
           }
          ],
          "pie": [
           {
            "automargin": true,
            "type": "pie"
           }
          ],
          "scatter": [
           {
            "fillpattern": {
             "fillmode": "overlay",
             "size": 10,
             "solidity": 0.2
            },
            "type": "scatter"
           }
          ],
          "scatter3d": [
           {
            "line": {
             "colorbar": {
              "outlinewidth": 0,
              "ticks": ""
             }
            },
            "marker": {
             "colorbar": {
              "outlinewidth": 0,
              "ticks": ""
             }
            },
            "type": "scatter3d"
           }
          ],
          "scattercarpet": [
           {
            "marker": {
             "colorbar": {
              "outlinewidth": 0,
              "ticks": ""
             }
            },
            "type": "scattercarpet"
           }
          ],
          "scattergeo": [
           {
            "marker": {
             "colorbar": {
              "outlinewidth": 0,
              "ticks": ""
             }
            },
            "type": "scattergeo"
           }
          ],
          "scattergl": [
           {
            "marker": {
             "colorbar": {
              "outlinewidth": 0,
              "ticks": ""
             }
            },
            "type": "scattergl"
           }
          ],
          "scattermapbox": [
           {
            "marker": {
             "colorbar": {
              "outlinewidth": 0,
              "ticks": ""
             }
            },
            "type": "scattermapbox"
           }
          ],
          "scatterpolar": [
           {
            "marker": {
             "colorbar": {
              "outlinewidth": 0,
              "ticks": ""
             }
            },
            "type": "scatterpolar"
           }
          ],
          "scatterpolargl": [
           {
            "marker": {
             "colorbar": {
              "outlinewidth": 0,
              "ticks": ""
             }
            },
            "type": "scatterpolargl"
           }
          ],
          "scatterternary": [
           {
            "marker": {
             "colorbar": {
              "outlinewidth": 0,
              "ticks": ""
             }
            },
            "type": "scatterternary"
           }
          ],
          "surface": [
           {
            "colorbar": {
             "outlinewidth": 0,
             "ticks": ""
            },
            "colorscale": [
             [
              0,
              "#0d0887"
             ],
             [
              0.1111111111111111,
              "#46039f"
             ],
             [
              0.2222222222222222,
              "#7201a8"
             ],
             [
              0.3333333333333333,
              "#9c179e"
             ],
             [
              0.4444444444444444,
              "#bd3786"
             ],
             [
              0.5555555555555556,
              "#d8576b"
             ],
             [
              0.6666666666666666,
              "#ed7953"
             ],
             [
              0.7777777777777778,
              "#fb9f3a"
             ],
             [
              0.8888888888888888,
              "#fdca26"
             ],
             [
              1,
              "#f0f921"
             ]
            ],
            "type": "surface"
           }
          ],
          "table": [
           {
            "cells": {
             "fill": {
              "color": "#EBF0F8"
             },
             "line": {
              "color": "white"
             }
            },
            "header": {
             "fill": {
              "color": "#C8D4E3"
             },
             "line": {
              "color": "white"
             }
            },
            "type": "table"
           }
          ]
         },
         "layout": {
          "annotationdefaults": {
           "arrowcolor": "#2a3f5f",
           "arrowhead": 0,
           "arrowwidth": 1
          },
          "autotypenumbers": "strict",
          "coloraxis": {
           "colorbar": {
            "outlinewidth": 0,
            "ticks": ""
           }
          },
          "colorscale": {
           "diverging": [
            [
             0,
             "#8e0152"
            ],
            [
             0.1,
             "#c51b7d"
            ],
            [
             0.2,
             "#de77ae"
            ],
            [
             0.3,
             "#f1b6da"
            ],
            [
             0.4,
             "#fde0ef"
            ],
            [
             0.5,
             "#f7f7f7"
            ],
            [
             0.6,
             "#e6f5d0"
            ],
            [
             0.7,
             "#b8e186"
            ],
            [
             0.8,
             "#7fbc41"
            ],
            [
             0.9,
             "#4d9221"
            ],
            [
             1,
             "#276419"
            ]
           ],
           "sequential": [
            [
             0,
             "#0d0887"
            ],
            [
             0.1111111111111111,
             "#46039f"
            ],
            [
             0.2222222222222222,
             "#7201a8"
            ],
            [
             0.3333333333333333,
             "#9c179e"
            ],
            [
             0.4444444444444444,
             "#bd3786"
            ],
            [
             0.5555555555555556,
             "#d8576b"
            ],
            [
             0.6666666666666666,
             "#ed7953"
            ],
            [
             0.7777777777777778,
             "#fb9f3a"
            ],
            [
             0.8888888888888888,
             "#fdca26"
            ],
            [
             1,
             "#f0f921"
            ]
           ],
           "sequentialminus": [
            [
             0,
             "#0d0887"
            ],
            [
             0.1111111111111111,
             "#46039f"
            ],
            [
             0.2222222222222222,
             "#7201a8"
            ],
            [
             0.3333333333333333,
             "#9c179e"
            ],
            [
             0.4444444444444444,
             "#bd3786"
            ],
            [
             0.5555555555555556,
             "#d8576b"
            ],
            [
             0.6666666666666666,
             "#ed7953"
            ],
            [
             0.7777777777777778,
             "#fb9f3a"
            ],
            [
             0.8888888888888888,
             "#fdca26"
            ],
            [
             1,
             "#f0f921"
            ]
           ]
          },
          "colorway": [
           "#636efa",
           "#EF553B",
           "#00cc96",
           "#ab63fa",
           "#FFA15A",
           "#19d3f3",
           "#FF6692",
           "#B6E880",
           "#FF97FF",
           "#FECB52"
          ],
          "font": {
           "color": "#2a3f5f"
          },
          "geo": {
           "bgcolor": "white",
           "lakecolor": "white",
           "landcolor": "#E5ECF6",
           "showlakes": true,
           "showland": true,
           "subunitcolor": "white"
          },
          "hoverlabel": {
           "align": "left"
          },
          "hovermode": "closest",
          "mapbox": {
           "style": "light"
          },
          "paper_bgcolor": "white",
          "plot_bgcolor": "#E5ECF6",
          "polar": {
           "angularaxis": {
            "gridcolor": "white",
            "linecolor": "white",
            "ticks": ""
           },
           "bgcolor": "#E5ECF6",
           "radialaxis": {
            "gridcolor": "white",
            "linecolor": "white",
            "ticks": ""
           }
          },
          "scene": {
           "xaxis": {
            "backgroundcolor": "#E5ECF6",
            "gridcolor": "white",
            "gridwidth": 2,
            "linecolor": "white",
            "showbackground": true,
            "ticks": "",
            "zerolinecolor": "white"
           },
           "yaxis": {
            "backgroundcolor": "#E5ECF6",
            "gridcolor": "white",
            "gridwidth": 2,
            "linecolor": "white",
            "showbackground": true,
            "ticks": "",
            "zerolinecolor": "white"
           },
           "zaxis": {
            "backgroundcolor": "#E5ECF6",
            "gridcolor": "white",
            "gridwidth": 2,
            "linecolor": "white",
            "showbackground": true,
            "ticks": "",
            "zerolinecolor": "white"
           }
          },
          "shapedefaults": {
           "line": {
            "color": "#2a3f5f"
           }
          },
          "ternary": {
           "aaxis": {
            "gridcolor": "white",
            "linecolor": "white",
            "ticks": ""
           },
           "baxis": {
            "gridcolor": "white",
            "linecolor": "white",
            "ticks": ""
           },
           "bgcolor": "#E5ECF6",
           "caxis": {
            "gridcolor": "white",
            "linecolor": "white",
            "ticks": ""
           }
          },
          "title": {
           "x": 0.05
          },
          "xaxis": {
           "automargin": true,
           "gridcolor": "white",
           "linecolor": "white",
           "ticks": "",
           "title": {
            "standoff": 15
           },
           "zerolinecolor": "white",
           "zerolinewidth": 2
          },
          "yaxis": {
           "automargin": true,
           "gridcolor": "white",
           "linecolor": "white",
           "ticks": "",
           "title": {
            "standoff": 15
           },
           "zerolinecolor": "white",
           "zerolinewidth": 2
          }
         }
        },
        "title": {
         "text": "Real GDP y/y"
        },
        "width": 800,
        "xaxis": {
         "anchor": "y",
         "domain": [
          0,
          1
         ],
         "dtick": "M1",
         "tickformat": "%b\n%Y",
         "tickmode": "auto",
         "title": {
          "text": "Date"
         }
        },
        "yaxis": {
         "anchor": "x",
         "domain": [
          0,
          1
         ],
         "title": {
          "text": "Real GDP YoY"
         }
        }
       }
      }
     },
     "metadata": {},
     "output_type": "display_data"
    }
   ],
   "source": [
    "fig = px.line(gip.dropna().reset_index()[['DATE','rGDP']], x=\"DATE\", y=[\"rGDP\"],\n",
    "              hover_data={\"DATE\": \"|%B %d, %Y\"},\n",
    "              title='Real GDP y/y')\n",
    "fig.update_xaxes(\n",
    "    dtick=\"M1\",\n",
    "    tickmode= 'auto',\n",
    "    tickformat= '%b\\n%Y')\n",
    "\n",
    "fig.update_layout(\n",
    "    autosize=False,\n",
    "    width=800,\n",
    "    height=800,\n",
    "    xaxis_title=\"Date\", \n",
    "    yaxis_title=\"Real GDP YoY\")"
   ]
  },
  {
   "attachments": {},
   "cell_type": "markdown",
   "metadata": {},
   "source": [
    "Unemployment, Wage Tracker"
   ]
  },
  {
   "cell_type": "code",
   "execution_count": 238,
   "metadata": {},
   "outputs": [
    {
     "data": {
      "text/plain": [
       "<Axes: xlabel='DATE'>"
      ]
     },
     "execution_count": 238,
     "metadata": {},
     "output_type": "execute_result"
    },
    {
     "data": {
      "image/png": "[encoded data removed]",
      "text/plain": [
       "<Figure size 640x480 with 1 Axes>"
      ]
     },
     "metadata": {},
     "output_type": "display_data"
    }
   ],
   "source": [
    "tickers = ['FRBATLWGTUMHWG83O','UNRATE','TEMPHELPS','JTSHIR']\n",
    "start = '1990-01-02'\n",
    "end = dt.datetime.now()\n",
    "unrate = i.dataframe(tickers, data.set_index(\"DATE\"), start, end)\n",
    "emp = unrate[['UNRATE']]\n",
    "emp.plot()"
   ]
  },
  {
   "cell_type": "code",
   "execution_count": 239,
   "metadata": {},
   "outputs": [
    {
     "data": {
      "application/vnd.plotly.v1+json": {
       "config": {
        "plotlyServerURL": "https://plot.ly"
       },
       "data": [
        {
         "hovertemplate": "variable=NFP: Hires<br>DATE=%{x|%B %d, %Y}<br>value=%{y}<extra></extra>",
         "legendgroup": "NFP: Hires",
         "line": {
          "color": "#636efa",
          "dash": "solid"
         },
         "marker": {
          "symbol": "circle"
         },
         "mode": "lines",
         "name": "NFP: Hires",
         "orientation": "v",
         "showlegend": true,
         "type": "scatter",
         "x": [
          "2000-12-01T00:00:00",
          "2001-01-01T00:00:00",
          "2001-02-01T00:00:00",
          "2001-03-01T00:00:00",
          "2001-04-01T00:00:00",
          "2001-05-01T00:00:00",
          "2001-06-01T00:00:00",
          "2001-07-01T00:00:00",
          "2001-08-01T00:00:00",
          "2001-09-01T00:00:00",
          "2001-10-01T00:00:00",
          "2001-11-01T00:00:00",
          "2001-12-01T00:00:00",
          "2002-01-01T00:00:00",
          "2002-02-01T00:00:00",
          "2002-03-01T00:00:00",
          "2002-04-01T00:00:00",
          "2002-05-01T00:00:00",
          "2002-06-01T00:00:00",
          "2002-07-01T00:00:00",
          "2002-08-01T00:00:00",
          "2002-09-01T00:00:00",
          "2002-10-01T00:00:00",
          "2002-11-01T00:00:00",
          "2002-12-01T00:00:00",
          "2003-01-01T00:00:00",
          "2003-02-01T00:00:00",
          "2003-03-01T00:00:00",
          "2003-04-01T00:00:00",
          "2003-05-01T00:00:00",
          "2003-06-01T00:00:00",
          "2003-07-01T00:00:00",
          "2003-08-01T00:00:00",
          "2003-09-01T00:00:00",
          "2003-10-01T00:00:00",
          "2003-11-01T00:00:00",
          "2003-12-01T00:00:00",
          "2004-01-01T00:00:00",
          "2004-02-01T00:00:00",
          "2004-03-01T00:00:00",
          "2004-04-01T00:00:00",
          "2004-05-01T00:00:00",
          "2004-06-01T00:00:00",
          "2004-07-01T00:00:00",
          "2004-08-01T00:00:00",
          "2004-09-01T00:00:00",
          "2004-10-01T00:00:00",
          "2004-11-01T00:00:00",
          "2004-12-01T00:00:00",
          "2005-01-01T00:00:00",
          "2005-02-01T00:00:00",
          "2005-03-01T00:00:00",
          "2005-04-01T00:00:00",
          "2005-05-01T00:00:00",
          "2005-06-01T00:00:00",
          "2005-07-01T00:00:00",
          "2005-08-01T00:00:00",
          "2005-09-01T00:00:00",
          "2005-10-01T00:00:00",
          "2005-11-01T00:00:00",
          "2005-12-01T00:00:00",
          "2006-01-01T00:00:00",
          "2006-02-01T00:00:00",
          "2006-03-01T00:00:00",
          "2006-04-01T00:00:00",
          "2006-05-01T00:00:00",
          "2006-06-01T00:00:00",
          "2006-07-01T00:00:00",
          "2006-08-01T00:00:00",
          "2006-09-01T00:00:00",
          "2006-10-01T00:00:00",
          "2006-11-01T00:00:00",
          "2006-12-01T00:00:00",
          "2007-01-01T00:00:00",
          "2007-02-01T00:00:00",
          "2007-03-01T00:00:00",
          "2007-04-01T00:00:00",
          "2007-05-01T00:00:00",
          "2007-06-01T00:00:00",
          "2007-07-01T00:00:00",
          "2007-08-01T00:00:00",
          "2007-09-01T00:00:00",
          "2007-10-01T00:00:00",
          "2007-11-01T00:00:00",
          "2007-12-01T00:00:00",
          "2008-01-01T00:00:00",
          "2008-02-01T00:00:00",
          "2008-03-01T00:00:00",
          "2008-04-01T00:00:00",
          "2008-05-01T00:00:00",
          "2008-06-01T00:00:00",
          "2008-07-01T00:00:00",
          "2008-08-01T00:00:00",
          "2008-09-01T00:00:00",
          "2008-10-01T00:00:00",
          "2008-11-01T00:00:00",
          "2008-12-01T00:00:00",
          "2009-01-01T00:00:00",
          "2009-02-01T00:00:00",
          "2009-03-01T00:00:00",
          "2009-04-01T00:00:00",
          "2009-05-01T00:00:00",
          "2009-06-01T00:00:00",
          "2009-07-01T00:00:00",
          "2009-08-01T00:00:00",
          "2009-09-01T00:00:00",
          "2009-10-01T00:00:00",
          "2009-11-01T00:00:00",
          "2009-12-01T00:00:00",
          "2010-01-01T00:00:00",
          "2010-02-01T00:00:00",
          "2010-03-01T00:00:00",
          "2010-04-01T00:00:00",
          "2010-05-01T00:00:00",
          "2010-06-01T00:00:00",
          "2010-07-01T00:00:00",
          "2010-08-01T00:00:00",
          "2010-09-01T00:00:00",
          "2010-10-01T00:00:00",
          "2010-11-01T00:00:00",
          "2010-12-01T00:00:00",
          "2011-01-01T00:00:00",
          "2011-02-01T00:00:00",
          "2011-03-01T00:00:00",
          "2011-04-01T00:00:00",
          "2011-05-01T00:00:00",
          "2011-06-01T00:00:00",
          "2011-07-01T00:00:00",
          "2011-08-01T00:00:00",
          "2011-09-01T00:00:00",
          "2011-10-01T00:00:00",
          "2011-11-01T00:00:00",
          "2011-12-01T00:00:00",
          "2012-01-01T00:00:00",
          "2012-02-01T00:00:00",
          "2012-03-01T00:00:00",
          "2012-04-01T00:00:00",
          "2012-05-01T00:00:00",
          "2012-06-01T00:00:00",
          "2012-07-01T00:00:00",
          "2012-08-01T00:00:00",
          "2012-09-01T00:00:00",
          "2012-10-01T00:00:00",
          "2012-11-01T00:00:00",
          "2012-12-01T00:00:00",
          "2013-01-01T00:00:00",
          "2013-02-01T00:00:00",
          "2013-03-01T00:00:00",
          "2013-04-01T00:00:00",
          "2013-05-01T00:00:00",
          "2013-06-01T00:00:00",
          "2013-07-01T00:00:00",
          "2013-08-01T00:00:00",
          "2013-09-01T00:00:00",
          "2013-10-01T00:00:00",
          "2013-11-01T00:00:00",
          "2013-12-01T00:00:00",
          "2014-01-01T00:00:00",
          "2014-02-01T00:00:00",
          "2014-03-01T00:00:00",
          "2014-04-01T00:00:00",
          "2014-05-01T00:00:00",
          "2014-06-01T00:00:00",
          "2014-07-01T00:00:00",
          "2014-08-01T00:00:00",
          "2014-09-01T00:00:00",
          "2014-10-01T00:00:00",
          "2014-11-01T00:00:00",
          "2014-12-01T00:00:00",
          "2015-01-01T00:00:00",
          "2015-02-01T00:00:00",
          "2015-03-01T00:00:00",
          "2015-04-01T00:00:00",
          "2015-05-01T00:00:00",
          "2015-06-01T00:00:00",
          "2015-07-01T00:00:00",
          "2015-08-01T00:00:00",
          "2015-09-01T00:00:00",
          "2015-10-01T00:00:00",
          "2015-11-01T00:00:00",
          "2015-12-01T00:00:00",
          "2016-01-01T00:00:00",
          "2016-02-01T00:00:00",
          "2016-03-01T00:00:00",
          "2016-04-01T00:00:00",
          "2016-05-01T00:00:00",
          "2016-06-01T00:00:00",
          "2016-07-01T00:00:00",
          "2016-08-01T00:00:00",
          "2016-09-01T00:00:00",
          "2016-10-01T00:00:00",
          "2016-11-01T00:00:00",
          "2016-12-01T00:00:00",
          "2017-01-01T00:00:00",
          "2017-02-01T00:00:00",
          "2017-03-01T00:00:00",
          "2017-04-01T00:00:00",
          "2017-05-01T00:00:00",
          "2017-06-01T00:00:00",
          "2017-07-01T00:00:00",
          "2017-08-01T00:00:00",
          "2017-09-01T00:00:00",
          "2017-10-01T00:00:00",
          "2017-11-01T00:00:00",
          "2017-12-01T00:00:00",
          "2018-01-01T00:00:00",
          "2018-02-01T00:00:00",
          "2018-03-01T00:00:00",
          "2018-04-01T00:00:00",
          "2018-05-01T00:00:00",
          "2018-06-01T00:00:00",
          "2018-07-01T00:00:00",
          "2018-08-01T00:00:00",
          "2018-09-01T00:00:00",
          "2018-10-01T00:00:00",
          "2018-11-01T00:00:00",
          "2018-12-01T00:00:00",
          "2019-01-01T00:00:00",
          "2019-02-01T00:00:00",
          "2019-03-01T00:00:00",
          "2019-04-01T00:00:00",
          "2019-05-01T00:00:00",
          "2019-06-01T00:00:00",
          "2019-07-01T00:00:00",
          "2019-08-01T00:00:00",
          "2019-09-01T00:00:00",
          "2019-10-01T00:00:00",
          "2019-11-01T00:00:00",
          "2019-12-01T00:00:00",
          "2020-01-01T00:00:00",
          "2020-02-01T00:00:00",
          "2020-03-01T00:00:00",
          "2020-04-01T00:00:00",
          "2020-05-01T00:00:00",
          "2020-06-01T00:00:00",
          "2020-07-01T00:00:00",
          "2020-08-01T00:00:00",
          "2020-09-01T00:00:00",
          "2020-10-01T00:00:00",
          "2020-11-01T00:00:00",
          "2020-12-01T00:00:00",
          "2021-01-01T00:00:00",
          "2021-02-01T00:00:00",
          "2021-03-01T00:00:00",
          "2021-04-01T00:00:00",
          "2021-05-01T00:00:00",
          "2021-06-01T00:00:00",
          "2021-07-01T00:00:00",
          "2021-08-01T00:00:00",
          "2021-09-01T00:00:00",
          "2021-10-01T00:00:00",
          "2021-11-01T00:00:00",
          "2021-12-01T00:00:00",
          "2022-01-01T00:00:00",
          "2022-02-01T00:00:00",
          "2022-03-01T00:00:00",
          "2022-04-01T00:00:00",
          "2022-05-01T00:00:00",
          "2022-06-01T00:00:00",
          "2022-07-01T00:00:00",
          "2022-08-01T00:00:00",
          "2022-09-01T00:00:00",
          "2022-10-01T00:00:00",
          "2022-11-01T00:00:00",
          "2022-12-01T00:00:00",
          "2023-01-01T00:00:00",
          "2023-02-01T00:00:00",
          "2023-03-01T00:00:00",
          "2023-04-01T00:00:00",
          "2023-05-01T00:00:00",
          "2023-06-01T00:00:00",
          "2023-07-01T00:00:00",
          "2023-08-01T00:00:00",
          "2023-09-01T00:00:00",
          "2023-10-01T00:00:00",
          "2023-11-01T00:00:00"
         ],
         "xaxis": "x",
         "y": [
          4.1,
          4.3,
          4,
          4.2,
          3.9,
          4.1,
          3.9,
          4,
          4,
          3.8,
          3.9,
          3.7,
          3.7,
          3.7,
          3.7,
          3.6,
          3.8,
          3.7,
          3.7,
          3.8,
          3.7,
          3.7,
          3.7,
          3.7,
          3.7,
          3.9,
          3.6,
          3.4,
          3.5,
          3.6,
          3.6,
          3.6,
          3.6,
          3.7,
          3.8,
          3.7,
          3.8,
          3.7,
          3.7,
          4,
          3.9,
          3.8,
          3.8,
          3.7,
          3.8,
          3.8,
          3.9,
          3.9,
          3.9,
          3.9,
          4,
          4,
          4,
          3.9,
          4,
          4,
          4,
          4.1,
          3.8,
          4,
          3.9,
          3.9,
          4,
          4.1,
          3.8,
          4,
          4,
          4.1,
          3.9,
          3.9,
          3.9,
          4,
          3.8,
          3.9,
          3.8,
          4,
          3.9,
          4,
          3.8,
          3.8,
          3.9,
          3.9,
          3.9,
          3.7,
          3.7,
          3.7,
          3.7,
          3.6,
          3.6,
          3.4,
          3.6,
          3.4,
          3.4,
          3.3,
          3.3,
          3,
          3.2,
          3.1,
          3,
          2.9,
          2.9,
          2.9,
          2.8,
          3,
          2.9,
          3,
          3,
          3.1,
          3.1,
          3,
          3,
          3.3,
          3.2,
          3.4,
          3.1,
          3.2,
          3.1,
          3.1,
          3.2,
          3.2,
          3.3,
          3.1,
          3.2,
          3.4,
          3.3,
          3.2,
          3.3,
          3.2,
          3.3,
          3.3,
          3.3,
          3.3,
          3.3,
          3.3,
          3.4,
          3.4,
          3.3,
          3.4,
          3.3,
          3.2,
          3.3,
          3.2,
          3.3,
          3.3,
          3.3,
          3.3,
          3.4,
          3.2,
          3.4,
          3.4,
          3.3,
          3.3,
          3.5,
          3.5,
          3.3,
          3.4,
          3.4,
          3.4,
          3.4,
          3.5,
          3.5,
          3.5,
          3.5,
          3.6,
          3.5,
          3.7,
          3.7,
          3.6,
          3.7,
          3.6,
          3.6,
          3.6,
          3.7,
          3.6,
          3.6,
          3.6,
          3.6,
          3.7,
          3.7,
          3.8,
          3.9,
          3.6,
          3.8,
          3.7,
          3.7,
          3.6,
          3.7,
          3.8,
          3.7,
          3.7,
          3.6,
          3.7,
          3.7,
          3.8,
          3.7,
          3.7,
          3.6,
          3.7,
          3.8,
          3.7,
          3.8,
          3.7,
          3.8,
          3.7,
          3.7,
          3.7,
          3.8,
          3.8,
          3.8,
          3.9,
          3.9,
          3.8,
          3.9,
          3.8,
          4,
          3.9,
          3.9,
          3.9,
          3.8,
          3.8,
          4,
          3.8,
          3.8,
          3.9,
          3.9,
          3.9,
          3.8,
          3.9,
          3.9,
          4,
          3.9,
          3.4,
          3.1,
          6.1,
          5.4,
          4.5,
          4.2,
          4.2,
          4.3,
          4.1,
          3.9,
          4,
          4.1,
          4.2,
          4.3,
          4.2,
          4.5,
          4.5,
          4.4,
          4.5,
          4.5,
          4.6,
          4.4,
          4.3,
          4.5,
          4.3,
          4.3,
          4.3,
          4.2,
          4.1,
          4.2,
          4.1,
          4,
          4.1,
          4,
          4.1,
          4,
          3.9,
          3.9,
          4,
          3.8,
          3.7,
          3.7,
          3.8,
          3.7,
          3.5
         ],
         "yaxis": "y"
        },
        {
         "hovertemplate": "variable=ATL Fed Wage Tracker<br>DATE=%{x|%B %d, %Y}<br>value=%{y}<extra></extra>",
         "legendgroup": "ATL Fed Wage Tracker",
         "line": {
          "color": "#EF553B",
          "dash": "solid"
         },
         "marker": {
          "symbol": "circle"
         },
         "mode": "lines",
         "name": "ATL Fed Wage Tracker",
         "orientation": "v",
         "showlegend": true,
         "type": "scatter",
         "x": [
          "2000-12-01T00:00:00",
          "2001-01-01T00:00:00",
          "2001-02-01T00:00:00",
          "2001-03-01T00:00:00",
          "2001-04-01T00:00:00",
          "2001-05-01T00:00:00",
          "2001-06-01T00:00:00",
          "2001-07-01T00:00:00",
          "2001-08-01T00:00:00",
          "2001-09-01T00:00:00",
          "2001-10-01T00:00:00",
          "2001-11-01T00:00:00",
          "2001-12-01T00:00:00",
          "2002-01-01T00:00:00",
          "2002-02-01T00:00:00",
          "2002-03-01T00:00:00",
          "2002-04-01T00:00:00",
          "2002-05-01T00:00:00",
          "2002-06-01T00:00:00",
          "2002-07-01T00:00:00",
          "2002-08-01T00:00:00",
          "2002-09-01T00:00:00",
          "2002-10-01T00:00:00",
          "2002-11-01T00:00:00",
          "2002-12-01T00:00:00",
          "2003-01-01T00:00:00",
          "2003-02-01T00:00:00",
          "2003-03-01T00:00:00",
          "2003-04-01T00:00:00",
          "2003-05-01T00:00:00",
          "2003-06-01T00:00:00",
          "2003-07-01T00:00:00",
          "2003-08-01T00:00:00",
          "2003-09-01T00:00:00",
          "2003-10-01T00:00:00",
          "2003-11-01T00:00:00",
          "2003-12-01T00:00:00",
          "2004-01-01T00:00:00",
          "2004-02-01T00:00:00",
          "2004-03-01T00:00:00",
          "2004-04-01T00:00:00",
          "2004-05-01T00:00:00",
          "2004-06-01T00:00:00",
          "2004-07-01T00:00:00",
          "2004-08-01T00:00:00",
          "2004-09-01T00:00:00",
          "2004-10-01T00:00:00",
          "2004-11-01T00:00:00",
          "2004-12-01T00:00:00",
          "2005-01-01T00:00:00",
          "2005-02-01T00:00:00",
          "2005-03-01T00:00:00",
          "2005-04-01T00:00:00",
          "2005-05-01T00:00:00",
          "2005-06-01T00:00:00",
          "2005-07-01T00:00:00",
          "2005-08-01T00:00:00",
          "2005-09-01T00:00:00",
          "2005-10-01T00:00:00",
          "2005-11-01T00:00:00",
          "2005-12-01T00:00:00",
          "2006-01-01T00:00:00",
          "2006-02-01T00:00:00",
          "2006-03-01T00:00:00",
          "2006-04-01T00:00:00",
          "2006-05-01T00:00:00",
          "2006-06-01T00:00:00",
          "2006-07-01T00:00:00",
          "2006-08-01T00:00:00",
          "2006-09-01T00:00:00",
          "2006-10-01T00:00:00",
          "2006-11-01T00:00:00",
          "2006-12-01T00:00:00",
          "2007-01-01T00:00:00",
          "2007-02-01T00:00:00",
          "2007-03-01T00:00:00",
          "2007-04-01T00:00:00",
          "2007-05-01T00:00:00",
          "2007-06-01T00:00:00",
          "2007-07-01T00:00:00",
          "2007-08-01T00:00:00",
          "2007-09-01T00:00:00",
          "2007-10-01T00:00:00",
          "2007-11-01T00:00:00",
          "2007-12-01T00:00:00",
          "2008-01-01T00:00:00",
          "2008-02-01T00:00:00",
          "2008-03-01T00:00:00",
          "2008-04-01T00:00:00",
          "2008-05-01T00:00:00",
          "2008-06-01T00:00:00",
          "2008-07-01T00:00:00",
          "2008-08-01T00:00:00",
          "2008-09-01T00:00:00",
          "2008-10-01T00:00:00",
          "2008-11-01T00:00:00",
          "2008-12-01T00:00:00",
          "2009-01-01T00:00:00",
          "2009-02-01T00:00:00",
          "2009-03-01T00:00:00",
          "2009-04-01T00:00:00",
          "2009-05-01T00:00:00",
          "2009-06-01T00:00:00",
          "2009-07-01T00:00:00",
          "2009-08-01T00:00:00",
          "2009-09-01T00:00:00",
          "2009-10-01T00:00:00",
          "2009-11-01T00:00:00",
          "2009-12-01T00:00:00",
          "2010-01-01T00:00:00",
          "2010-02-01T00:00:00",
          "2010-03-01T00:00:00",
          "2010-04-01T00:00:00",
          "2010-05-01T00:00:00",
          "2010-06-01T00:00:00",
          "2010-07-01T00:00:00",
          "2010-08-01T00:00:00",
          "2010-09-01T00:00:00",
          "2010-10-01T00:00:00",
          "2010-11-01T00:00:00",
          "2010-12-01T00:00:00",
          "2011-01-01T00:00:00",
          "2011-02-01T00:00:00",
          "2011-03-01T00:00:00",
          "2011-04-01T00:00:00",
          "2011-05-01T00:00:00",
          "2011-06-01T00:00:00",
          "2011-07-01T00:00:00",
          "2011-08-01T00:00:00",
          "2011-09-01T00:00:00",
          "2011-10-01T00:00:00",
          "2011-11-01T00:00:00",
          "2011-12-01T00:00:00",
          "2012-01-01T00:00:00",
          "2012-02-01T00:00:00",
          "2012-03-01T00:00:00",
          "2012-04-01T00:00:00",
          "2012-05-01T00:00:00",
          "2012-06-01T00:00:00",
          "2012-07-01T00:00:00",
          "2012-08-01T00:00:00",
          "2012-09-01T00:00:00",
          "2012-10-01T00:00:00",
          "2012-11-01T00:00:00",
          "2012-12-01T00:00:00",
          "2013-01-01T00:00:00",
          "2013-02-01T00:00:00",
          "2013-03-01T00:00:00",
          "2013-04-01T00:00:00",
          "2013-05-01T00:00:00",
          "2013-06-01T00:00:00",
          "2013-07-01T00:00:00",
          "2013-08-01T00:00:00",
          "2013-09-01T00:00:00",
          "2013-10-01T00:00:00",
          "2013-11-01T00:00:00",
          "2013-12-01T00:00:00",
          "2014-01-01T00:00:00",
          "2014-02-01T00:00:00",
          "2014-03-01T00:00:00",
          "2014-04-01T00:00:00",
          "2014-05-01T00:00:00",
          "2014-06-01T00:00:00",
          "2014-07-01T00:00:00",
          "2014-08-01T00:00:00",
          "2014-09-01T00:00:00",
          "2014-10-01T00:00:00",
          "2014-11-01T00:00:00",
          "2014-12-01T00:00:00",
          "2015-01-01T00:00:00",
          "2015-02-01T00:00:00",
          "2015-03-01T00:00:00",
          "2015-04-01T00:00:00",
          "2015-05-01T00:00:00",
          "2015-06-01T00:00:00",
          "2015-07-01T00:00:00",
          "2015-08-01T00:00:00",
          "2015-09-01T00:00:00",
          "2015-10-01T00:00:00",
          "2015-11-01T00:00:00",
          "2015-12-01T00:00:00",
          "2016-01-01T00:00:00",
          "2016-02-01T00:00:00",
          "2016-03-01T00:00:00",
          "2016-04-01T00:00:00",
          "2016-05-01T00:00:00",
          "2016-06-01T00:00:00",
          "2016-07-01T00:00:00",
          "2016-08-01T00:00:00",
          "2016-09-01T00:00:00",
          "2016-10-01T00:00:00",
          "2016-11-01T00:00:00",
          "2016-12-01T00:00:00",
          "2017-01-01T00:00:00",
          "2017-02-01T00:00:00",
          "2017-03-01T00:00:00",
          "2017-04-01T00:00:00",
          "2017-05-01T00:00:00",
          "2017-06-01T00:00:00",
          "2017-07-01T00:00:00",
          "2017-08-01T00:00:00",
          "2017-09-01T00:00:00",
          "2017-10-01T00:00:00",
          "2017-11-01T00:00:00",
          "2017-12-01T00:00:00",
          "2018-01-01T00:00:00",
          "2018-02-01T00:00:00",
          "2018-03-01T00:00:00",
          "2018-04-01T00:00:00",
          "2018-05-01T00:00:00",
          "2018-06-01T00:00:00",
          "2018-07-01T00:00:00",
          "2018-08-01T00:00:00",
          "2018-09-01T00:00:00",
          "2018-10-01T00:00:00",
          "2018-11-01T00:00:00",
          "2018-12-01T00:00:00",
          "2019-01-01T00:00:00",
          "2019-02-01T00:00:00",
          "2019-03-01T00:00:00",
          "2019-04-01T00:00:00",
          "2019-05-01T00:00:00",
          "2019-06-01T00:00:00",
          "2019-07-01T00:00:00",
          "2019-08-01T00:00:00",
          "2019-09-01T00:00:00",
          "2019-10-01T00:00:00",
          "2019-11-01T00:00:00",
          "2019-12-01T00:00:00",
          "2020-01-01T00:00:00",
          "2020-02-01T00:00:00",
          "2020-03-01T00:00:00",
          "2020-04-01T00:00:00",
          "2020-05-01T00:00:00",
          "2020-06-01T00:00:00",
          "2020-07-01T00:00:00",
          "2020-08-01T00:00:00",
          "2020-09-01T00:00:00",
          "2020-10-01T00:00:00",
          "2020-11-01T00:00:00",
          "2020-12-01T00:00:00",
          "2021-01-01T00:00:00",
          "2021-02-01T00:00:00",
          "2021-03-01T00:00:00",
          "2021-04-01T00:00:00",
          "2021-05-01T00:00:00",
          "2021-06-01T00:00:00",
          "2021-07-01T00:00:00",
          "2021-08-01T00:00:00",
          "2021-09-01T00:00:00",
          "2021-10-01T00:00:00",
          "2021-11-01T00:00:00",
          "2021-12-01T00:00:00",
          "2022-01-01T00:00:00",
          "2022-02-01T00:00:00",
          "2022-03-01T00:00:00",
          "2022-04-01T00:00:00",
          "2022-05-01T00:00:00",
          "2022-06-01T00:00:00",
          "2022-07-01T00:00:00",
          "2022-08-01T00:00:00",
          "2022-09-01T00:00:00",
          "2022-10-01T00:00:00",
          "2022-11-01T00:00:00",
          "2022-12-01T00:00:00",
          "2023-01-01T00:00:00",
          "2023-02-01T00:00:00",
          "2023-03-01T00:00:00",
          "2023-04-01T00:00:00",
          "2023-05-01T00:00:00",
          "2023-06-01T00:00:00",
          "2023-07-01T00:00:00",
          "2023-08-01T00:00:00",
          "2023-09-01T00:00:00",
          "2023-10-01T00:00:00",
          "2023-11-01T00:00:00"
         ],
         "xaxis": "x",
         "y": [
          5.1,
          5.3,
          5.4,
          5.1,
          5.4,
          4.7,
          5.5,
          5.1,
          5.1,
          4.9,
          5.1,
          4.9,
          4.9,
          4.8,
          4.4,
          4.5,
          4.1,
          4.6,
          3.9,
          3.9,
          4.1,
          3.7,
          3.6,
          3.3,
          3.8,
          4.1,
          3.8,
          3.3,
          3.4,
          3.9,
          3.5,
          3.7,
          3.4,
          3.4,
          3.4,
          3.3,
          3.3,
          3.4,
          3.4,
          3.3,
          3.4,
          3.5,
          3.1,
          3.7,
          3.6,
          3.8,
          3.6,
          3.7,
          3.3,
          3.9,
          3.4,
          3.4,
          3.7,
          3.8,
          3.9,
          4.2,
          4,
          4.1,
          4.1,
          4.4,
          3.8,
          3.9,
          3.6,
          3.9,
          4,
          3.8,
          3.6,
          3.7,
          4.1,
          3.7,
          3.6,
          4.5,
          3.9,
          4.3,
          4,
          4.5,
          3.9,
          3.9,
          4.3,
          4.4,
          4.2,
          4.4,
          4.2,
          4.1,
          3.9,
          3.8,
          4.1,
          4,
          4.1,
          4.1,
          4.1,
          4,
          3.9,
          4.1,
          3.9,
          3.9,
          3.6,
          3.4,
          3.1,
          3.3,
          3.2,
          3.3,
          2.8,
          2.7,
          1.9,
          2.3,
          2.1,
          2,
          1.1,
          1.9,
          2.1,
          1.7,
          1.8,
          1.3,
          2.1,
          1.9,
          1.9,
          1.9,
          1.3,
          1.8,
          1.9,
          1.9,
          2,
          1.8,
          1.9,
          2.4,
          1.8,
          2.2,
          2.5,
          1.6,
          2.4,
          2,
          1.7,
          2.1,
          2.1,
          1.9,
          2.5,
          2,
          2.3,
          2,
          1.9,
          2.5,
          2,
          2.4,
          2.6,
          2.1,
          2.3,
          2.3,
          2,
          2.3,
          2,
          2.5,
          2.5,
          2,
          2.1,
          2,
          2.5,
          2.5,
          2.4,
          2.4,
          2.2,
          2.3,
          2.5,
          2.4,
          2.4,
          3,
          2.9,
          2.9,
          2.7,
          3.3,
          3,
          3.3,
          3.6,
          2.9,
          3.2,
          3.4,
          2.7,
          2.9,
          3,
          3.4,
          2.9,
          3,
          3.6,
          3,
          3.6,
          3.8,
          3.3,
          3.1,
          3.6,
          4.2,
          4,
          3.6,
          3,
          3.1,
          3.5,
          3.6,
          3.4,
          3.1,
          3.1,
          3.7,
          3.5,
          3.6,
          3,
          3.1,
          2.7,
          3.1,
          3,
          3.9,
          3,
          2.8,
          3.9,
          3.3,
          3.4,
          3.6,
          3.9,
          4.1,
          3.5,
          3.6,
          3.2,
          3.7,
          3.9,
          3.5,
          4.1,
          3.9,
          3.2,
          3.8,
          3.6,
          3.7,
          3.6,
          3.9,
          3.6,
          3,
          3.4,
          4.1,
          3.9,
          3.6,
          3,
          3.7,
          3.8,
          3.6,
          2.9,
          3.5,
          3.6,
          3,
          3.1,
          3,
          3.6,
          4.5,
          3.6,
          4.5,
          4.3,
          4.1,
          5.2,
          6.1,
          6.1,
          5.7,
          6.3,
          6.5,
          7.4,
          6.3,
          6.3,
          6.5,
          6.3,
          6.5,
          5.5,
          6.2,
          6.6,
          6.5,
          5.1,
          6.5,
          5.3,
          5.3,
          5.3,
          5.1,
          5.2,
          5.1
         ],
         "yaxis": "y"
        }
       ],
       "layout": {
        "autosize": false,
        "height": 800,
        "legend": {
         "title": {
          "text": "variable"
         },
         "tracegroupgap": 0
        },
        "template": {
         "data": {
          "bar": [
           {
            "error_x": {
             "color": "#2a3f5f"
            },
            "error_y": {
             "color": "#2a3f5f"
            },
            "marker": {
             "line": {
              "color": "#E5ECF6",
              "width": 0.5
             },
             "pattern": {
              "fillmode": "overlay",
              "size": 10,
              "solidity": 0.2
             }
            },
            "type": "bar"
           }
          ],
          "barpolar": [
           {
            "marker": {
             "line": {
              "color": "#E5ECF6",
              "width": 0.5
             },
             "pattern": {
              "fillmode": "overlay",
              "size": 10,
              "solidity": 0.2
             }
            },
            "type": "barpolar"
           }
          ],
          "carpet": [
           {
            "aaxis": {
             "endlinecolor": "#2a3f5f",
             "gridcolor": "white",
             "linecolor": "white",
             "minorgridcolor": "white",
             "startlinecolor": "#2a3f5f"
            },
            "baxis": {
             "endlinecolor": "#2a3f5f",
             "gridcolor": "white",
             "linecolor": "white",
             "minorgridcolor": "white",
             "startlinecolor": "#2a3f5f"
            },
            "type": "carpet"
           }
          ],
          "choropleth": [
           {
            "colorbar": {
             "outlinewidth": 0,
             "ticks": ""
            },
            "type": "choropleth"
           }
          ],
          "contour": [
           {
            "colorbar": {
             "outlinewidth": 0,
             "ticks": ""
            },
            "colorscale": [
             [
              0,
              "#0d0887"
             ],
             [
              0.1111111111111111,
              "#46039f"
             ],
             [
              0.2222222222222222,
              "#7201a8"
             ],
             [
              0.3333333333333333,
              "#9c179e"
             ],
             [
              0.4444444444444444,
              "#bd3786"
             ],
             [
              0.5555555555555556,
              "#d8576b"
             ],
             [
              0.6666666666666666,
              "#ed7953"
             ],
             [
              0.7777777777777778,
              "#fb9f3a"
             ],
             [
              0.8888888888888888,
              "#fdca26"
             ],
             [
              1,
              "#f0f921"
             ]
            ],
            "type": "contour"
           }
          ],
          "contourcarpet": [
           {
            "colorbar": {
             "outlinewidth": 0,
             "ticks": ""
            },
            "type": "contourcarpet"
           }
          ],
          "heatmap": [
           {
            "colorbar": {
             "outlinewidth": 0,
             "ticks": ""
            },
            "colorscale": [
             [
              0,
              "#0d0887"
             ],
             [
              0.1111111111111111,
              "#46039f"
             ],
             [
              0.2222222222222222,
              "#7201a8"
             ],
             [
              0.3333333333333333,
              "#9c179e"
             ],
             [
              0.4444444444444444,
              "#bd3786"
             ],
             [
              0.5555555555555556,
              "#d8576b"
             ],
             [
              0.6666666666666666,
              "#ed7953"
             ],
             [
              0.7777777777777778,
              "#fb9f3a"
             ],
             [
              0.8888888888888888,
              "#fdca26"
             ],
             [
              1,
              "#f0f921"
             ]
            ],
            "type": "heatmap"
           }
          ],
          "heatmapgl": [
           {
            "colorbar": {
             "outlinewidth": 0,
             "ticks": ""
            },
            "colorscale": [
             [
              0,
              "#0d0887"
             ],
             [
              0.1111111111111111,
              "#46039f"
             ],
             [
              0.2222222222222222,
              "#7201a8"
             ],
             [
              0.3333333333333333,
              "#9c179e"
             ],
             [
              0.4444444444444444,
              "#bd3786"
             ],
             [
              0.5555555555555556,
              "#d8576b"
             ],
             [
              0.6666666666666666,
              "#ed7953"
             ],
             [
              0.7777777777777778,
              "#fb9f3a"
             ],
             [
              0.8888888888888888,
              "#fdca26"
             ],
             [
              1,
              "#f0f921"
             ]
            ],
            "type": "heatmapgl"
           }
          ],
          "histogram": [
           {
            "marker": {
             "pattern": {
              "fillmode": "overlay",
              "size": 10,
              "solidity": 0.2
             }
            },
            "type": "histogram"
           }
          ],
          "histogram2d": [
           {
            "colorbar": {
             "outlinewidth": 0,
             "ticks": ""
            },
            "colorscale": [
             [
              0,
              "#0d0887"
             ],
             [
              0.1111111111111111,
              "#46039f"
             ],
             [
              0.2222222222222222,
              "#7201a8"
             ],
             [
              0.3333333333333333,
              "#9c179e"
             ],
             [
              0.4444444444444444,
              "#bd3786"
             ],
             [
              0.5555555555555556,
              "#d8576b"
             ],
             [
              0.6666666666666666,
              "#ed7953"
             ],
             [
              0.7777777777777778,
              "#fb9f3a"
             ],
             [
              0.8888888888888888,
              "#fdca26"
             ],
             [
              1,
              "#f0f921"
             ]
            ],
            "type": "histogram2d"
           }
          ],
          "histogram2dcontour": [
           {
            "colorbar": {
             "outlinewidth": 0,
             "ticks": ""
            },
            "colorscale": [
             [
              0,
              "#0d0887"
             ],
             [
              0.1111111111111111,
              "#46039f"
             ],
             [
              0.2222222222222222,
              "#7201a8"
             ],
             [
              0.3333333333333333,
              "#9c179e"
             ],
             [
              0.4444444444444444,
              "#bd3786"
             ],
             [
              0.5555555555555556,
              "#d8576b"
             ],
             [
              0.6666666666666666,
              "#ed7953"
             ],
             [
              0.7777777777777778,
              "#fb9f3a"
             ],
             [
              0.8888888888888888,
              "#fdca26"
             ],
             [
              1,
              "#f0f921"
             ]
            ],
            "type": "histogram2dcontour"
           }
          ],
          "mesh3d": [
           {
            "colorbar": {
             "outlinewidth": 0,
             "ticks": ""
            },
            "type": "mesh3d"
           }
          ],
          "parcoords": [
           {
            "line": {
             "colorbar": {
              "outlinewidth": 0,
              "ticks": ""
             }
            },
            "type": "parcoords"
           }
          ],
          "pie": [
           {
            "automargin": true,
            "type": "pie"
           }
          ],
          "scatter": [
           {
            "fillpattern": {
             "fillmode": "overlay",
             "size": 10,
             "solidity": 0.2
            },
            "type": "scatter"
           }
          ],
          "scatter3d": [
           {
            "line": {
             "colorbar": {
              "outlinewidth": 0,
              "ticks": ""
             }
            },
            "marker": {
             "colorbar": {
              "outlinewidth": 0,
              "ticks": ""
             }
            },
            "type": "scatter3d"
           }
          ],
          "scattercarpet": [
           {
            "marker": {
             "colorbar": {
              "outlinewidth": 0,
              "ticks": ""
             }
            },
            "type": "scattercarpet"
           }
          ],
          "scattergeo": [
           {
            "marker": {
             "colorbar": {
              "outlinewidth": 0,
              "ticks": ""
             }
            },
            "type": "scattergeo"
           }
          ],
          "scattergl": [
           {
            "marker": {
             "colorbar": {
              "outlinewidth": 0,
              "ticks": ""
             }
            },
            "type": "scattergl"
           }
          ],
          "scattermapbox": [
           {
            "marker": {
             "colorbar": {
              "outlinewidth": 0,
              "ticks": ""
             }
            },
            "type": "scattermapbox"
           }
          ],
          "scatterpolar": [
           {
            "marker": {
             "colorbar": {
              "outlinewidth": 0,
              "ticks": ""
             }
            },
            "type": "scatterpolar"
           }
          ],
          "scatterpolargl": [
           {
            "marker": {
             "colorbar": {
              "outlinewidth": 0,
              "ticks": ""
             }
            },
            "type": "scatterpolargl"
           }
          ],
          "scatterternary": [
           {
            "marker": {
             "colorbar": {
              "outlinewidth": 0,
              "ticks": ""
             }
            },
            "type": "scatterternary"
           }
          ],
          "surface": [
           {
            "colorbar": {
             "outlinewidth": 0,
             "ticks": ""
            },
            "colorscale": [
             [
              0,
              "#0d0887"
             ],
             [
              0.1111111111111111,
              "#46039f"
             ],
             [
              0.2222222222222222,
              "#7201a8"
             ],
             [
              0.3333333333333333,
              "#9c179e"
             ],
             [
              0.4444444444444444,
              "#bd3786"
             ],
             [
              0.5555555555555556,
              "#d8576b"
             ],
             [
              0.6666666666666666,
              "#ed7953"
             ],
             [
              0.7777777777777778,
              "#fb9f3a"
             ],
             [
              0.8888888888888888,
              "#fdca26"
             ],
             [
              1,
              "#f0f921"
             ]
            ],
            "type": "surface"
           }
          ],
          "table": [
           {
            "cells": {
             "fill": {
              "color": "#EBF0F8"
             },
             "line": {
              "color": "white"
             }
            },
            "header": {
             "fill": {
              "color": "#C8D4E3"
             },
             "line": {
              "color": "white"
             }
            },
            "type": "table"
           }
          ]
         },
         "layout": {
          "annotationdefaults": {
           "arrowcolor": "#2a3f5f",
           "arrowhead": 0,
           "arrowwidth": 1
          },
          "autotypenumbers": "strict",
          "coloraxis": {
           "colorbar": {
            "outlinewidth": 0,
            "ticks": ""
           }
          },
          "colorscale": {
           "diverging": [
            [
             0,
             "#8e0152"
            ],
            [
             0.1,
             "#c51b7d"
            ],
            [
             0.2,
             "#de77ae"
            ],
            [
             0.3,
             "#f1b6da"
            ],
            [
             0.4,
             "#fde0ef"
            ],
            [
             0.5,
             "#f7f7f7"
            ],
            [
             0.6,
             "#e6f5d0"
            ],
            [
             0.7,
             "#b8e186"
            ],
            [
             0.8,
             "#7fbc41"
            ],
            [
             0.9,
             "#4d9221"
            ],
            [
             1,
             "#276419"
            ]
           ],
           "sequential": [
            [
             0,
             "#0d0887"
            ],
            [
             0.1111111111111111,
             "#46039f"
            ],
            [
             0.2222222222222222,
             "#7201a8"
            ],
            [
             0.3333333333333333,
             "#9c179e"
            ],
            [
             0.4444444444444444,
             "#bd3786"
            ],
            [
             0.5555555555555556,
             "#d8576b"
            ],
            [
             0.6666666666666666,
             "#ed7953"
            ],
            [
             0.7777777777777778,
             "#fb9f3a"
            ],
            [
             0.8888888888888888,
             "#fdca26"
            ],
            [
             1,
             "#f0f921"
            ]
           ],
           "sequentialminus": [
            [
             0,
             "#0d0887"
            ],
            [
             0.1111111111111111,
             "#46039f"
            ],
            [
             0.2222222222222222,
             "#7201a8"
            ],
            [
             0.3333333333333333,
             "#9c179e"
            ],
            [
             0.4444444444444444,
             "#bd3786"
            ],
            [
             0.5555555555555556,
             "#d8576b"
            ],
            [
             0.6666666666666666,
             "#ed7953"
            ],
            [
             0.7777777777777778,
             "#fb9f3a"
            ],
            [
             0.8888888888888888,
             "#fdca26"
            ],
            [
             1,
             "#f0f921"
            ]
           ]
          },
          "colorway": [
           "#636efa",
           "#EF553B",
           "#00cc96",
           "#ab63fa",
           "#FFA15A",
           "#19d3f3",
           "#FF6692",
           "#B6E880",
           "#FF97FF",
           "#FECB52"
          ],
          "font": {
           "color": "#2a3f5f"
          },
          "geo": {
           "bgcolor": "white",
           "lakecolor": "white",
           "landcolor": "#E5ECF6",
           "showlakes": true,
           "showland": true,
           "subunitcolor": "white"
          },
          "hoverlabel": {
           "align": "left"
          },
          "hovermode": "closest",
          "mapbox": {
           "style": "light"
          },
          "paper_bgcolor": "white",
          "plot_bgcolor": "#E5ECF6",
          "polar": {
           "angularaxis": {
            "gridcolor": "white",
            "linecolor": "white",
            "ticks": ""
           },
           "bgcolor": "#E5ECF6",
           "radialaxis": {
            "gridcolor": "white",
            "linecolor": "white",
            "ticks": ""
           }
          },
          "scene": {
           "xaxis": {
            "backgroundcolor": "#E5ECF6",
            "gridcolor": "white",
            "gridwidth": 2,
            "linecolor": "white",
            "showbackground": true,
            "ticks": "",
            "zerolinecolor": "white"
           },
           "yaxis": {
            "backgroundcolor": "#E5ECF6",
            "gridcolor": "white",
            "gridwidth": 2,
            "linecolor": "white",
            "showbackground": true,
            "ticks": "",
            "zerolinecolor": "white"
           },
           "zaxis": {
            "backgroundcolor": "#E5ECF6",
            "gridcolor": "white",
            "gridwidth": 2,
            "linecolor": "white",
            "showbackground": true,
            "ticks": "",
            "zerolinecolor": "white"
           }
          },
          "shapedefaults": {
           "line": {
            "color": "#2a3f5f"
           }
          },
          "ternary": {
           "aaxis": {
            "gridcolor": "white",
            "linecolor": "white",
            "ticks": ""
           },
           "baxis": {
            "gridcolor": "white",
            "linecolor": "white",
            "ticks": ""
           },
           "bgcolor": "#E5ECF6",
           "caxis": {
            "gridcolor": "white",
            "linecolor": "white",
            "ticks": ""
           }
          },
          "title": {
           "x": 0.05
          },
          "xaxis": {
           "automargin": true,
           "gridcolor": "white",
           "linecolor": "white",
           "ticks": "",
           "title": {
            "standoff": 15
           },
           "zerolinecolor": "white",
           "zerolinewidth": 2
          },
          "yaxis": {
           "automargin": true,
           "gridcolor": "white",
           "linecolor": "white",
           "ticks": "",
           "title": {
            "standoff": 15
           },
           "zerolinecolor": "white",
           "zerolinewidth": 2
          }
         }
        },
        "title": {
         "text": "Hires and Wages"
        },
        "width": 800,
        "xaxis": {
         "anchor": "y",
         "domain": [
          0,
          1
         ],
         "dtick": "M1",
         "tickformat": "%b\n%Y",
         "tickmode": "auto",
         "title": {
          "text": "Date"
         }
        },
        "yaxis": {
         "anchor": "x",
         "domain": [
          0,
          1
         ],
         "title": {
          "text": "Hires and Wages: Levels"
         }
        }
       }
      }
     },
     "metadata": {},
     "output_type": "display_data"
    }
   ],
   "source": [
    "workforce = unrate[['FRBATLWGTUMHWG83O','JTSHIR']].dropna()\n",
    "wf = workforce.rename(columns = {'FRBATLWGTUMHWG83O':'ATL Fed Wage Tracker',\n",
    "                            'JTSHIR':'NFP: Hires'})\n",
    "fig = px.line(wf.reset_index(), x=\"DATE\", y=[\"NFP: Hires\",\"ATL Fed Wage Tracker\"],\n",
    "              hover_data={\"DATE\": \"|%B %d, %Y\"},\n",
    "              title='Hires and Wages')\n",
    "fig.update_xaxes(\n",
    "    dtick=\"M1\",\n",
    "    tickmode= 'auto',\n",
    "    tickformat= '%b\\n%Y')\n",
    "\n",
    "fig.update_layout(\n",
    "    autosize=False,\n",
    "    width=800,\n",
    "    height=800,\n",
    "    xaxis_title=\"Date\", \n",
    "    yaxis_title=\"Hires and Wages: Levels\")"
   ]
  },
  {
   "cell_type": "code",
   "execution_count": 241,
   "metadata": {},
   "outputs": [
    {
     "data": {
      "application/vnd.plotly.v1+json": {
       "config": {
        "plotlyServerURL": "https://plot.ly"
       },
       "data": [
        {
         "hovertemplate": "variable=TEMPHELPS<br>DATE=%{x|%B %d, %Y}<br>value=%{y}<extra></extra>",
         "legendgroup": "TEMPHELPS",
         "line": {
          "color": "#636efa",
          "dash": "solid"
         },
         "marker": {
          "symbol": "circle"
         },
         "mode": "lines",
         "name": "TEMPHELPS",
         "orientation": "v",
         "showlegend": true,
         "type": "scatter",
         "x": [
          "1990-02-01T00:00:00",
          "1990-03-01T00:00:00",
          "1990-04-01T00:00:00",
          "1990-05-01T00:00:00",
          "1990-06-01T00:00:00",
          "1990-07-01T00:00:00",
          "1990-08-01T00:00:00",
          "1990-09-01T00:00:00",
          "1990-10-01T00:00:00",
          "1990-11-01T00:00:00",
          "1990-12-01T00:00:00",
          "1991-01-01T00:00:00",
          "1991-02-01T00:00:00",
          "1991-03-01T00:00:00",
          "1991-04-01T00:00:00",
          "1991-05-01T00:00:00",
          "1991-06-01T00:00:00",
          "1991-07-01T00:00:00",
          "1991-08-01T00:00:00",
          "1991-09-01T00:00:00",
          "1991-10-01T00:00:00",
          "1991-11-01T00:00:00",
          "1991-12-01T00:00:00",
          "1992-01-01T00:00:00",
          "1992-02-01T00:00:00",
          "1992-03-01T00:00:00",
          "1992-04-01T00:00:00",
          "1992-05-01T00:00:00",
          "1992-06-01T00:00:00",
          "1992-07-01T00:00:00",
          "1992-08-01T00:00:00",
          "1992-09-01T00:00:00",
          "1992-10-01T00:00:00",
          "1992-11-01T00:00:00",
          "1992-12-01T00:00:00",
          "1993-01-01T00:00:00",
          "1993-02-01T00:00:00",
          "1993-03-01T00:00:00",
          "1993-04-01T00:00:00",
          "1993-05-01T00:00:00",
          "1993-06-01T00:00:00",
          "1993-07-01T00:00:00",
          "1993-08-01T00:00:00",
          "1993-09-01T00:00:00",
          "1993-10-01T00:00:00",
          "1993-11-01T00:00:00",
          "1993-12-01T00:00:00",
          "1994-01-01T00:00:00",
          "1994-02-01T00:00:00",
          "1994-03-01T00:00:00",
          "1994-04-01T00:00:00",
          "1994-05-01T00:00:00",
          "1994-06-01T00:00:00",
          "1994-07-01T00:00:00",
          "1994-08-01T00:00:00",
          "1994-09-01T00:00:00",
          "1994-10-01T00:00:00",
          "1994-11-01T00:00:00",
          "1994-12-01T00:00:00",
          "1995-01-01T00:00:00",
          "1995-02-01T00:00:00",
          "1995-03-01T00:00:00",
          "1995-04-01T00:00:00",
          "1995-05-01T00:00:00",
          "1995-06-01T00:00:00",
          "1995-07-01T00:00:00",
          "1995-08-01T00:00:00",
          "1995-09-01T00:00:00",
          "1995-10-01T00:00:00",
          "1995-11-01T00:00:00",
          "1995-12-01T00:00:00",
          "1996-01-01T00:00:00",
          "1996-02-01T00:00:00",
          "1996-03-01T00:00:00",
          "1996-04-01T00:00:00",
          "1996-05-01T00:00:00",
          "1996-06-01T00:00:00",
          "1996-07-01T00:00:00",
          "1996-08-01T00:00:00",
          "1996-09-01T00:00:00",
          "1996-10-01T00:00:00",
          "1996-11-01T00:00:00",
          "1996-12-01T00:00:00",
          "1997-01-01T00:00:00",
          "1997-02-01T00:00:00",
          "1997-03-01T00:00:00",
          "1997-04-01T00:00:00",
          "1997-05-01T00:00:00",
          "1997-06-01T00:00:00",
          "1997-07-01T00:00:00",
          "1997-08-01T00:00:00",
          "1997-09-01T00:00:00",
          "1997-10-01T00:00:00",
          "1997-11-01T00:00:00",
          "1997-12-01T00:00:00",
          "1998-01-01T00:00:00",
          "1998-02-01T00:00:00",
          "1998-03-01T00:00:00",
          "1998-04-01T00:00:00",
          "1998-05-01T00:00:00",
          "1998-06-01T00:00:00",
          "1998-07-01T00:00:00",
          "1998-08-01T00:00:00",
          "1998-09-01T00:00:00",
          "1998-10-01T00:00:00",
          "1998-11-01T00:00:00",
          "1998-12-01T00:00:00",
          "1999-01-01T00:00:00",
          "1999-02-01T00:00:00",
          "1999-03-01T00:00:00",
          "1999-04-01T00:00:00",
          "1999-05-01T00:00:00",
          "1999-06-01T00:00:00",
          "1999-07-01T00:00:00",
          "1999-08-01T00:00:00",
          "1999-09-01T00:00:00",
          "1999-10-01T00:00:00",
          "1999-11-01T00:00:00",
          "1999-12-01T00:00:00",
          "2000-01-01T00:00:00",
          "2000-02-01T00:00:00",
          "2000-03-01T00:00:00",
          "2000-04-01T00:00:00",
          "2000-05-01T00:00:00",
          "2000-06-01T00:00:00",
          "2000-07-01T00:00:00",
          "2000-08-01T00:00:00",
          "2000-09-01T00:00:00",
          "2000-10-01T00:00:00",
          "2000-11-01T00:00:00",
          "2000-12-01T00:00:00",
          "2001-01-01T00:00:00",
          "2001-02-01T00:00:00",
          "2001-03-01T00:00:00",
          "2001-04-01T00:00:00",
          "2001-05-01T00:00:00",
          "2001-06-01T00:00:00",
          "2001-07-01T00:00:00",
          "2001-08-01T00:00:00",
          "2001-09-01T00:00:00",
          "2001-10-01T00:00:00",
          "2001-11-01T00:00:00",
          "2001-12-01T00:00:00",
          "2002-01-01T00:00:00",
          "2002-02-01T00:00:00",
          "2002-03-01T00:00:00",
          "2002-04-01T00:00:00",
          "2002-05-01T00:00:00",
          "2002-06-01T00:00:00",
          "2002-07-01T00:00:00",
          "2002-08-01T00:00:00",
          "2002-09-01T00:00:00",
          "2002-10-01T00:00:00",
          "2002-11-01T00:00:00",
          "2002-12-01T00:00:00",
          "2003-01-01T00:00:00",
          "2003-02-01T00:00:00",
          "2003-03-01T00:00:00",
          "2003-04-01T00:00:00",
          "2003-05-01T00:00:00",
          "2003-06-01T00:00:00",
          "2003-07-01T00:00:00",
          "2003-08-01T00:00:00",
          "2003-09-01T00:00:00",
          "2003-10-01T00:00:00",
          "2003-11-01T00:00:00",
          "2003-12-01T00:00:00",
          "2004-01-01T00:00:00",
          "2004-02-01T00:00:00",
          "2004-03-01T00:00:00",
          "2004-04-01T00:00:00",
          "2004-05-01T00:00:00",
          "2004-06-01T00:00:00",
          "2004-07-01T00:00:00",
          "2004-08-01T00:00:00",
          "2004-09-01T00:00:00",
          "2004-10-01T00:00:00",
          "2004-11-01T00:00:00",
          "2004-12-01T00:00:00",
          "2005-01-01T00:00:00",
          "2005-02-01T00:00:00",
          "2005-03-01T00:00:00",
          "2005-04-01T00:00:00",
          "2005-05-01T00:00:00",
          "2005-06-01T00:00:00",
          "2005-07-01T00:00:00",
          "2005-08-01T00:00:00",
          "2005-09-01T00:00:00",
          "2005-10-01T00:00:00",
          "2005-11-01T00:00:00",
          "2005-12-01T00:00:00",
          "2006-01-01T00:00:00",
          "2006-02-01T00:00:00",
          "2006-03-01T00:00:00",
          "2006-04-01T00:00:00",
          "2006-05-01T00:00:00",
          "2006-06-01T00:00:00",
          "2006-07-01T00:00:00",
          "2006-08-01T00:00:00",
          "2006-09-01T00:00:00",
          "2006-10-01T00:00:00",
          "2006-11-01T00:00:00",
          "2006-12-01T00:00:00",
          "2007-01-01T00:00:00",
          "2007-02-01T00:00:00",
          "2007-03-01T00:00:00",
          "2007-04-01T00:00:00",
          "2007-05-01T00:00:00",
          "2007-06-01T00:00:00",
          "2007-07-01T00:00:00",
          "2007-08-01T00:00:00",
          "2007-09-01T00:00:00",
          "2007-10-01T00:00:00",
          "2007-11-01T00:00:00",
          "2007-12-01T00:00:00",
          "2008-01-01T00:00:00",
          "2008-02-01T00:00:00",
          "2008-03-01T00:00:00",
          "2008-04-01T00:00:00",
          "2008-05-01T00:00:00",
          "2008-06-01T00:00:00",
          "2008-07-01T00:00:00",
          "2008-08-01T00:00:00",
          "2008-09-01T00:00:00",
          "2008-10-01T00:00:00",
          "2008-11-01T00:00:00",
          "2008-12-01T00:00:00",
          "2009-01-01T00:00:00",
          "2009-02-01T00:00:00",
          "2009-03-01T00:00:00",
          "2009-04-01T00:00:00",
          "2009-05-01T00:00:00",
          "2009-06-01T00:00:00",
          "2009-07-01T00:00:00",
          "2009-08-01T00:00:00",
          "2009-09-01T00:00:00",
          "2009-10-01T00:00:00",
          "2009-11-01T00:00:00",
          "2009-12-01T00:00:00",
          "2010-01-01T00:00:00",
          "2010-02-01T00:00:00",
          "2010-03-01T00:00:00",
          "2010-04-01T00:00:00",
          "2010-05-01T00:00:00",
          "2010-06-01T00:00:00",
          "2010-07-01T00:00:00",
          "2010-08-01T00:00:00",
          "2010-09-01T00:00:00",
          "2010-10-01T00:00:00",
          "2010-11-01T00:00:00",
          "2010-12-01T00:00:00",
          "2011-01-01T00:00:00",
          "2011-02-01T00:00:00",
          "2011-03-01T00:00:00",
          "2011-04-01T00:00:00",
          "2011-05-01T00:00:00",
          "2011-06-01T00:00:00",
          "2011-07-01T00:00:00",
          "2011-08-01T00:00:00",
          "2011-09-01T00:00:00",
          "2011-10-01T00:00:00",
          "2011-11-01T00:00:00",
          "2011-12-01T00:00:00",
          "2012-01-01T00:00:00",
          "2012-02-01T00:00:00",
          "2012-03-01T00:00:00",
          "2012-04-01T00:00:00",
          "2012-05-01T00:00:00",
          "2012-06-01T00:00:00",
          "2012-07-01T00:00:00",
          "2012-08-01T00:00:00",
          "2012-09-01T00:00:00",
          "2012-10-01T00:00:00",
          "2012-11-01T00:00:00",
          "2012-12-01T00:00:00",
          "2013-01-01T00:00:00",
          "2013-02-01T00:00:00",
          "2013-03-01T00:00:00",
          "2013-04-01T00:00:00",
          "2013-05-01T00:00:00",
          "2013-06-01T00:00:00",
          "2013-07-01T00:00:00",
          "2013-08-01T00:00:00",
          "2013-09-01T00:00:00",
          "2013-10-01T00:00:00",
          "2013-11-01T00:00:00",
          "2013-12-01T00:00:00",
          "2014-01-01T00:00:00",
          "2014-02-01T00:00:00",
          "2014-03-01T00:00:00",
          "2014-04-01T00:00:00",
          "2014-05-01T00:00:00",
          "2014-06-01T00:00:00",
          "2014-07-01T00:00:00",
          "2014-08-01T00:00:00",
          "2014-09-01T00:00:00",
          "2014-10-01T00:00:00",
          "2014-11-01T00:00:00",
          "2014-12-01T00:00:00",
          "2015-01-01T00:00:00",
          "2015-02-01T00:00:00",
          "2015-03-01T00:00:00",
          "2015-04-01T00:00:00",
          "2015-05-01T00:00:00",
          "2015-06-01T00:00:00",
          "2015-07-01T00:00:00",
          "2015-08-01T00:00:00",
          "2015-09-01T00:00:00",
          "2015-10-01T00:00:00",
          "2015-11-01T00:00:00",
          "2015-12-01T00:00:00",
          "2016-01-01T00:00:00",
          "2016-02-01T00:00:00",
          "2016-03-01T00:00:00",
          "2016-04-01T00:00:00",
          "2016-05-01T00:00:00",
          "2016-06-01T00:00:00",
          "2016-07-01T00:00:00",
          "2016-08-01T00:00:00",
          "2016-09-01T00:00:00",
          "2016-10-01T00:00:00",
          "2016-11-01T00:00:00",
          "2016-12-01T00:00:00",
          "2017-01-01T00:00:00",
          "2017-02-01T00:00:00",
          "2017-03-01T00:00:00",
          "2017-04-01T00:00:00",
          "2017-05-01T00:00:00",
          "2017-06-01T00:00:00",
          "2017-07-01T00:00:00",
          "2017-08-01T00:00:00",
          "2017-09-01T00:00:00",
          "2017-10-01T00:00:00",
          "2017-11-01T00:00:00",
          "2017-12-01T00:00:00",
          "2018-01-01T00:00:00",
          "2018-02-01T00:00:00",
          "2018-03-01T00:00:00",
          "2018-04-01T00:00:00",
          "2018-05-01T00:00:00",
          "2018-06-01T00:00:00",
          "2018-07-01T00:00:00",
          "2018-08-01T00:00:00",
          "2018-09-01T00:00:00",
          "2018-10-01T00:00:00",
          "2018-11-01T00:00:00",
          "2018-12-01T00:00:00",
          "2019-01-01T00:00:00",
          "2019-02-01T00:00:00",
          "2019-03-01T00:00:00",
          "2019-04-01T00:00:00",
          "2019-05-01T00:00:00",
          "2019-06-01T00:00:00",
          "2019-07-01T00:00:00",
          "2019-08-01T00:00:00",
          "2019-09-01T00:00:00",
          "2019-10-01T00:00:00",
          "2019-11-01T00:00:00",
          "2019-12-01T00:00:00",
          "2020-01-01T00:00:00",
          "2020-02-01T00:00:00",
          "2020-03-01T00:00:00",
          "2020-04-01T00:00:00",
          "2020-05-01T00:00:00",
          "2020-06-01T00:00:00",
          "2020-07-01T00:00:00",
          "2020-08-01T00:00:00",
          "2020-09-01T00:00:00",
          "2020-10-01T00:00:00",
          "2020-11-01T00:00:00",
          "2020-12-01T00:00:00",
          "2021-01-01T00:00:00",
          "2021-02-01T00:00:00",
          "2021-03-01T00:00:00",
          "2021-04-01T00:00:00",
          "2021-05-01T00:00:00",
          "2021-06-01T00:00:00",
          "2021-07-01T00:00:00",
          "2021-08-01T00:00:00",
          "2021-09-01T00:00:00",
          "2021-10-01T00:00:00",
          "2021-11-01T00:00:00",
          "2021-12-01T00:00:00",
          "2022-01-01T00:00:00",
          "2022-02-01T00:00:00",
          "2022-03-01T00:00:00",
          "2022-04-01T00:00:00",
          "2022-05-01T00:00:00",
          "2022-06-01T00:00:00",
          "2022-07-01T00:00:00",
          "2022-08-01T00:00:00",
          "2022-09-01T00:00:00",
          "2022-10-01T00:00:00",
          "2022-11-01T00:00:00",
          "2022-12-01T00:00:00",
          "2023-01-01T00:00:00",
          "2023-02-01T00:00:00",
          "2023-03-01T00:00:00",
          "2023-04-01T00:00:00",
          "2023-05-01T00:00:00",
          "2023-06-01T00:00:00",
          "2023-07-01T00:00:00",
          "2023-08-01T00:00:00",
          "2023-09-01T00:00:00",
          "2023-10-01T00:00:00",
          "2023-11-01T00:00:00",
          "2023-12-01T00:00:00"
         ],
         "xaxis": "x",
         "y": [
          1165.2,
          1169.5,
          1163.5,
          1161.1,
          1162.8,
          1166.9,
          1159.4,
          1164.1,
          1140.5,
          1135.2,
          1125.8,
          1144.6,
          1127.1,
          1116.1,
          1112.8,
          1111.8,
          1113.7,
          1111.7,
          1121.2,
          1130.5,
          1132,
          1133.1,
          1139,
          1149.3,
          1156.7,
          1170.5,
          1182.9,
          1197.9,
          1208.4,
          1211.6,
          1223.1,
          1231.3,
          1252.2,
          1264.9,
          1282.8,
          1293.8,
          1303.9,
          1318.8,
          1341.4,
          1363.1,
          1379.5,
          1398.1,
          1411.7,
          1424.2,
          1461.9,
          1468.1,
          1485.1,
          1503.6,
          1526.5,
          1567.2,
          1593.6,
          1600,
          1627.6,
          1656.9,
          1664.3,
          1681.1,
          1694.4,
          1717.2,
          1722.5,
          1739.4,
          1746.6,
          1737.1,
          1729.7,
          1718.2,
          1716.5,
          1719.7,
          1739.4,
          1770.8,
          1770.8,
          1772,
          1776.9,
          1749.8,
          1792.7,
          1795.3,
          1812.7,
          1832.4,
          1851.8,
          1869.8,
          1883.9,
          1891.1,
          1876.1,
          1908.9,
          1926.2,
          1946.6,
          1972.6,
          2004.6,
          2027.6,
          2049.2,
          2060,
          2088.5,
          2066,
          2082.9,
          2110.5,
          2139.5,
          2163.5,
          2175.1,
          2189.9,
          2193.6,
          2201.7,
          2221,
          2251.6,
          2245.5,
          2265.9,
          2242.5,
          2284.9,
          2307.4,
          2332.8,
          2355.3,
          2387.4,
          2403.7,
          2416.6,
          2434.9,
          2454.2,
          2475,
          2482.6,
          2475.5,
          2550.5,
          2573,
          2603.5,
          2620,
          2622.7,
          2645.4,
          2681.5,
          2649.1,
          2649.4,
          2644.5,
          2635.5,
          2640,
          2630.1,
          2634.4,
          2587.2,
          2566.4,
          2533.7,
          2485.3,
          2402.1,
          2380.5,
          2342.9,
          2314.2,
          2295.1,
          2259,
          2218.6,
          2158,
          2138.2,
          2147.3,
          2156.6,
          2190.5,
          2216.8,
          2226.1,
          2230.1,
          2188.5,
          2231.2,
          2207.6,
          2202.6,
          2176.3,
          2159.3,
          2196.8,
          2180.9,
          2166.6,
          2143,
          2190,
          2221.9,
          2247.3,
          2246.5,
          2260.9,
          2261.5,
          2275.8,
          2294.7,
          2298,
          2310.2,
          2313.7,
          2352.7,
          2381.3,
          2383.6,
          2396.8,
          2403.3,
          2419.3,
          2477.1,
          2459.4,
          2430.2,
          2459.4,
          2491.5,
          2491.9,
          2508.2,
          2505.9,
          2529.3,
          2538.8,
          2558.5,
          2600.1,
          2604.8,
          2630.9,
          2633.5,
          2624.2,
          2631.9,
          2640.3,
          2636,
          2654.3,
          2648.7,
          2642.5,
          2651.4,
          2642.7,
          2630.3,
          2626.8,
          2637.5,
          2652.7,
          2642.9,
          2646.7,
          2629.6,
          2611.4,
          2604.3,
          2593.1,
          2586.7,
          2557,
          2568,
          2553.5,
          2541.9,
          2548.8,
          2505.9,
          2485.8,
          2463.2,
          2428,
          2403.1,
          2369.5,
          2338.8,
          2305.9,
          2231.2,
          2127.1,
          2050.5,
          1967,
          1898.3,
          1835.8,
          1778.1,
          1773.7,
          1753.8,
          1762.3,
          1758.7,
          1778.3,
          1811.2,
          1868.2,
          1905.5,
          1954.6,
          1965.5,
          1993,
          2021.7,
          2066.1,
          2093.8,
          2097.4,
          2118,
          2147,
          2180.5,
          2206.2,
          2259.2,
          2231.7,
          2266,
          2297.2,
          2292.2,
          2294.1,
          2282.2,
          2273.4,
          2314.5,
          2344.9,
          2363.1,
          2376.1,
          2404.3,
          2428.9,
          2470.9,
          2466.4,
          2472.5,
          2482.4,
          2505.9,
          2516.4,
          2519.9,
          2489.5,
          2516.3,
          2535.8,
          2539.4,
          2551.6,
          2568.2,
          2587.8,
          2600.9,
          2610.2,
          2622.8,
          2624.4,
          2634,
          2639.4,
          2640.6,
          2660,
          2685.2,
          2675.6,
          2702.7,
          2715.1,
          2726.9,
          2737.3,
          2751.2,
          2768.4,
          2787.3,
          2808,
          2808.8,
          2815.5,
          2833.3,
          2838.3,
          2839.1,
          2842.5,
          2850.3,
          2872.5,
          2885.1,
          2884.7,
          2887.3,
          2882.8,
          2895,
          2894.1,
          2932,
          2888.6,
          2885.5,
          2885.6,
          2878.8,
          2861.9,
          2877.9,
          2882,
          2878.7,
          2901.3,
          2894.6,
          2903.4,
          2906.8,
          2908.8,
          2903.7,
          2910.9,
          2907.8,
          2933.7,
          2946.5,
          2955,
          2955.1,
          2946.5,
          2962,
          2965.1,
          2968.4,
          2971.9,
          2982.9,
          2986.6,
          2994.2,
          2995,
          2996.3,
          2995.9,
          2999.2,
          3000.2,
          3001,
          2993.8,
          2979.3,
          2954.8,
          2945.1,
          2939.7,
          2948.3,
          2955.3,
          2961.8,
          2958.1,
          2963.3,
          2970,
          2961.1,
          2959.4,
          2943.5,
          2909.2,
          2883.8,
          2869.2,
          1953.3,
          2025.4,
          2217.4,
          2359.4,
          2473.3,
          2505.7,
          2630.3,
          2682.2,
          2734.7,
          2799.3,
          2838.7,
          2887,
          2794.7,
          2792.2,
          2846.4,
          2887.9,
          2890.7,
          2897.3,
          3037.2,
          3052.1,
          3067.9,
          3091.3,
          3148.7,
          3177,
          3121.6,
          3125.2,
          3118.3,
          3119.9,
          3120,
          3131.2,
          3141.4,
          3092.9,
          3037.9,
          3054.5,
          3044.9,
          3041.6,
          3021.1,
          3014.3,
          2978.3,
          2960.9,
          2950.8,
          2928.5,
          2886.4,
          2864.3,
          2831
         ],
         "yaxis": "y"
        }
       ],
       "layout": {
        "autosize": false,
        "height": 800,
        "legend": {
         "title": {
          "text": "variable"
         },
         "tracegroupgap": 0
        },
        "template": {
         "data": {
          "bar": [
           {
            "error_x": {
             "color": "#2a3f5f"
            },
            "error_y": {
             "color": "#2a3f5f"
            },
            "marker": {
             "line": {
              "color": "#E5ECF6",
              "width": 0.5
             },
             "pattern": {
              "fillmode": "overlay",
              "size": 10,
              "solidity": 0.2
             }
            },
            "type": "bar"
           }
          ],
          "barpolar": [
           {
            "marker": {
             "line": {
              "color": "#E5ECF6",
              "width": 0.5
             },
             "pattern": {
              "fillmode": "overlay",
              "size": 10,
              "solidity": 0.2
             }
            },
            "type": "barpolar"
           }
          ],
          "carpet": [
           {
            "aaxis": {
             "endlinecolor": "#2a3f5f",
             "gridcolor": "white",
             "linecolor": "white",
             "minorgridcolor": "white",
             "startlinecolor": "#2a3f5f"
            },
            "baxis": {
             "endlinecolor": "#2a3f5f",
             "gridcolor": "white",
             "linecolor": "white",
             "minorgridcolor": "white",
             "startlinecolor": "#2a3f5f"
            },
            "type": "carpet"
           }
          ],
          "choropleth": [
           {
            "colorbar": {
             "outlinewidth": 0,
             "ticks": ""
            },
            "type": "choropleth"
           }
          ],
          "contour": [
           {
            "colorbar": {
             "outlinewidth": 0,
             "ticks": ""
            },
            "colorscale": [
             [
              0,
              "#0d0887"
             ],
             [
              0.1111111111111111,
              "#46039f"
             ],
             [
              0.2222222222222222,
              "#7201a8"
             ],
             [
              0.3333333333333333,
              "#9c179e"
             ],
             [
              0.4444444444444444,
              "#bd3786"
             ],
             [
              0.5555555555555556,
              "#d8576b"
             ],
             [
              0.6666666666666666,
              "#ed7953"
             ],
             [
              0.7777777777777778,
              "#fb9f3a"
             ],
             [
              0.8888888888888888,
              "#fdca26"
             ],
             [
              1,
              "#f0f921"
             ]
            ],
            "type": "contour"
           }
          ],
          "contourcarpet": [
           {
            "colorbar": {
             "outlinewidth": 0,
             "ticks": ""
            },
            "type": "contourcarpet"
           }
          ],
          "heatmap": [
           {
            "colorbar": {
             "outlinewidth": 0,
             "ticks": ""
            },
            "colorscale": [
             [
              0,
              "#0d0887"
             ],
             [
              0.1111111111111111,
              "#46039f"
             ],
             [
              0.2222222222222222,
              "#7201a8"
             ],
             [
              0.3333333333333333,
              "#9c179e"
             ],
             [
              0.4444444444444444,
              "#bd3786"
             ],
             [
              0.5555555555555556,
              "#d8576b"
             ],
             [
              0.6666666666666666,
              "#ed7953"
             ],
             [
              0.7777777777777778,
              "#fb9f3a"
             ],
             [
              0.8888888888888888,
              "#fdca26"
             ],
             [
              1,
              "#f0f921"
             ]
            ],
            "type": "heatmap"
           }
          ],
          "heatmapgl": [
           {
            "colorbar": {
             "outlinewidth": 0,
             "ticks": ""
            },
            "colorscale": [
             [
              0,
              "#0d0887"
             ],
             [
              0.1111111111111111,
              "#46039f"
             ],
             [
              0.2222222222222222,
              "#7201a8"
             ],
             [
              0.3333333333333333,
              "#9c179e"
             ],
             [
              0.4444444444444444,
              "#bd3786"
             ],
             [
              0.5555555555555556,
              "#d8576b"
             ],
             [
              0.6666666666666666,
              "#ed7953"
             ],
             [
              0.7777777777777778,
              "#fb9f3a"
             ],
             [
              0.8888888888888888,
              "#fdca26"
             ],
             [
              1,
              "#f0f921"
             ]
            ],
            "type": "heatmapgl"
           }
          ],
          "histogram": [
           {
            "marker": {
             "pattern": {
              "fillmode": "overlay",
              "size": 10,
              "solidity": 0.2
             }
            },
            "type": "histogram"
           }
          ],
          "histogram2d": [
           {
            "colorbar": {
             "outlinewidth": 0,
             "ticks": ""
            },
            "colorscale": [
             [
              0,
              "#0d0887"
             ],
             [
              0.1111111111111111,
              "#46039f"
             ],
             [
              0.2222222222222222,
              "#7201a8"
             ],
             [
              0.3333333333333333,
              "#9c179e"
             ],
             [
              0.4444444444444444,
              "#bd3786"
             ],
             [
              0.5555555555555556,
              "#d8576b"
             ],
             [
              0.6666666666666666,
              "#ed7953"
             ],
             [
              0.7777777777777778,
              "#fb9f3a"
             ],
             [
              0.8888888888888888,
              "#fdca26"
             ],
             [
              1,
              "#f0f921"
             ]
            ],
            "type": "histogram2d"
           }
          ],
          "histogram2dcontour": [
           {
            "colorbar": {
             "outlinewidth": 0,
             "ticks": ""
            },
            "colorscale": [
             [
              0,
              "#0d0887"
             ],
             [
              0.1111111111111111,
              "#46039f"
             ],
             [
              0.2222222222222222,
              "#7201a8"
             ],
             [
              0.3333333333333333,
              "#9c179e"
             ],
             [
              0.4444444444444444,
              "#bd3786"
             ],
             [
              0.5555555555555556,
              "#d8576b"
             ],
             [
              0.6666666666666666,
              "#ed7953"
             ],
             [
              0.7777777777777778,
              "#fb9f3a"
             ],
             [
              0.8888888888888888,
              "#fdca26"
             ],
             [
              1,
              "#f0f921"
             ]
            ],
            "type": "histogram2dcontour"
           }
          ],
          "mesh3d": [
           {
            "colorbar": {
             "outlinewidth": 0,
             "ticks": ""
            },
            "type": "mesh3d"
           }
          ],
          "parcoords": [
           {
            "line": {
             "colorbar": {
              "outlinewidth": 0,
              "ticks": ""
             }
            },
            "type": "parcoords"
           }
          ],
          "pie": [
           {
            "automargin": true,
            "type": "pie"
           }
          ],
          "scatter": [
           {
            "fillpattern": {
             "fillmode": "overlay",
             "size": 10,
             "solidity": 0.2
            },
            "type": "scatter"
           }
          ],
          "scatter3d": [
           {
            "line": {
             "colorbar": {
              "outlinewidth": 0,
              "ticks": ""
             }
            },
            "marker": {
             "colorbar": {
              "outlinewidth": 0,
              "ticks": ""
             }
            },
            "type": "scatter3d"
           }
          ],
          "scattercarpet": [
           {
            "marker": {
             "colorbar": {
              "outlinewidth": 0,
              "ticks": ""
             }
            },
            "type": "scattercarpet"
           }
          ],
          "scattergeo": [
           {
            "marker": {
             "colorbar": {
              "outlinewidth": 0,
              "ticks": ""
             }
            },
            "type": "scattergeo"
           }
          ],
          "scattergl": [
           {
            "marker": {
             "colorbar": {
              "outlinewidth": 0,
              "ticks": ""
             }
            },
            "type": "scattergl"
           }
          ],
          "scattermapbox": [
           {
            "marker": {
             "colorbar": {
              "outlinewidth": 0,
              "ticks": ""
             }
            },
            "type": "scattermapbox"
           }
          ],
          "scatterpolar": [
           {
            "marker": {
             "colorbar": {
              "outlinewidth": 0,
              "ticks": ""
             }
            },
            "type": "scatterpolar"
           }
          ],
          "scatterpolargl": [
           {
            "marker": {
             "colorbar": {
              "outlinewidth": 0,
              "ticks": ""
             }
            },
            "type": "scatterpolargl"
           }
          ],
          "scatterternary": [
           {
            "marker": {
             "colorbar": {
              "outlinewidth": 0,
              "ticks": ""
             }
            },
            "type": "scatterternary"
           }
          ],
          "surface": [
           {
            "colorbar": {
             "outlinewidth": 0,
             "ticks": ""
            },
            "colorscale": [
             [
              0,
              "#0d0887"
             ],
             [
              0.1111111111111111,
              "#46039f"
             ],
             [
              0.2222222222222222,
              "#7201a8"
             ],
             [
              0.3333333333333333,
              "#9c179e"
             ],
             [
              0.4444444444444444,
              "#bd3786"
             ],
             [
              0.5555555555555556,
              "#d8576b"
             ],
             [
              0.6666666666666666,
              "#ed7953"
             ],
             [
              0.7777777777777778,
              "#fb9f3a"
             ],
             [
              0.8888888888888888,
              "#fdca26"
             ],
             [
              1,
              "#f0f921"
             ]
            ],
            "type": "surface"
           }
          ],
          "table": [
           {
            "cells": {
             "fill": {
              "color": "#EBF0F8"
             },
             "line": {
              "color": "white"
             }
            },
            "header": {
             "fill": {
              "color": "#C8D4E3"
             },
             "line": {
              "color": "white"
             }
            },
            "type": "table"
           }
          ]
         },
         "layout": {
          "annotationdefaults": {
           "arrowcolor": "#2a3f5f",
           "arrowhead": 0,
           "arrowwidth": 1
          },
          "autotypenumbers": "strict",
          "coloraxis": {
           "colorbar": {
            "outlinewidth": 0,
            "ticks": ""
           }
          },
          "colorscale": {
           "diverging": [
            [
             0,
             "#8e0152"
            ],
            [
             0.1,
             "#c51b7d"
            ],
            [
             0.2,
             "#de77ae"
            ],
            [
             0.3,
             "#f1b6da"
            ],
            [
             0.4,
             "#fde0ef"
            ],
            [
             0.5,
             "#f7f7f7"
            ],
            [
             0.6,
             "#e6f5d0"
            ],
            [
             0.7,
             "#b8e186"
            ],
            [
             0.8,
             "#7fbc41"
            ],
            [
             0.9,
             "#4d9221"
            ],
            [
             1,
             "#276419"
            ]
           ],
           "sequential": [
            [
             0,
             "#0d0887"
            ],
            [
             0.1111111111111111,
             "#46039f"
            ],
            [
             0.2222222222222222,
             "#7201a8"
            ],
            [
             0.3333333333333333,
             "#9c179e"
            ],
            [
             0.4444444444444444,
             "#bd3786"
            ],
            [
             0.5555555555555556,
             "#d8576b"
            ],
            [
             0.6666666666666666,
             "#ed7953"
            ],
            [
             0.7777777777777778,
             "#fb9f3a"
            ],
            [
             0.8888888888888888,
             "#fdca26"
            ],
            [
             1,
             "#f0f921"
            ]
           ],
           "sequentialminus": [
            [
             0,
             "#0d0887"
            ],
            [
             0.1111111111111111,
             "#46039f"
            ],
            [
             0.2222222222222222,
             "#7201a8"
            ],
            [
             0.3333333333333333,
             "#9c179e"
            ],
            [
             0.4444444444444444,
             "#bd3786"
            ],
            [
             0.5555555555555556,
             "#d8576b"
            ],
            [
             0.6666666666666666,
             "#ed7953"
            ],
            [
             0.7777777777777778,
             "#fb9f3a"
            ],
            [
             0.8888888888888888,
             "#fdca26"
            ],
            [
             1,
             "#f0f921"
            ]
           ]
          },
          "colorway": [
           "#636efa",
           "#EF553B",
           "#00cc96",
           "#ab63fa",
           "#FFA15A",
           "#19d3f3",
           "#FF6692",
           "#B6E880",
           "#FF97FF",
           "#FECB52"
          ],
          "font": {
           "color": "#2a3f5f"
          },
          "geo": {
           "bgcolor": "white",
           "lakecolor": "white",
           "landcolor": "#E5ECF6",
           "showlakes": true,
           "showland": true,
           "subunitcolor": "white"
          },
          "hoverlabel": {
           "align": "left"
          },
          "hovermode": "closest",
          "mapbox": {
           "style": "light"
          },
          "paper_bgcolor": "white",
          "plot_bgcolor": "#E5ECF6",
          "polar": {
           "angularaxis": {
            "gridcolor": "white",
            "linecolor": "white",
            "ticks": ""
           },
           "bgcolor": "#E5ECF6",
           "radialaxis": {
            "gridcolor": "white",
            "linecolor": "white",
            "ticks": ""
           }
          },
          "scene": {
           "xaxis": {
            "backgroundcolor": "#E5ECF6",
            "gridcolor": "white",
            "gridwidth": 2,
            "linecolor": "white",
            "showbackground": true,
            "ticks": "",
            "zerolinecolor": "white"
           },
           "yaxis": {
            "backgroundcolor": "#E5ECF6",
            "gridcolor": "white",
            "gridwidth": 2,
            "linecolor": "white",
            "showbackground": true,
            "ticks": "",
            "zerolinecolor": "white"
           },
           "zaxis": {
            "backgroundcolor": "#E5ECF6",
            "gridcolor": "white",
            "gridwidth": 2,
            "linecolor": "white",
            "showbackground": true,
            "ticks": "",
            "zerolinecolor": "white"
           }
          },
          "shapedefaults": {
           "line": {
            "color": "#2a3f5f"
           }
          },
          "ternary": {
           "aaxis": {
            "gridcolor": "white",
            "linecolor": "white",
            "ticks": ""
           },
           "baxis": {
            "gridcolor": "white",
            "linecolor": "white",
            "ticks": ""
           },
           "bgcolor": "#E5ECF6",
           "caxis": {
            "gridcolor": "white",
            "linecolor": "white",
            "ticks": ""
           }
          },
          "title": {
           "x": 0.05
          },
          "xaxis": {
           "automargin": true,
           "gridcolor": "white",
           "linecolor": "white",
           "ticks": "",
           "title": {
            "standoff": 15
           },
           "zerolinecolor": "white",
           "zerolinewidth": 2
          },
          "yaxis": {
           "automargin": true,
           "gridcolor": "white",
           "linecolor": "white",
           "ticks": "",
           "title": {
            "standoff": 15
           },
           "zerolinecolor": "white",
           "zerolinewidth": 2
          }
         }
        },
        "title": {
         "text": "Temporary Help Services: Good Proxy for Economic Downturn"
        },
        "width": 800,
        "xaxis": {
         "anchor": "y",
         "domain": [
          0,
          1
         ],
         "dtick": "M1",
         "tickformat": "%b\n%Y",
         "tickmode": "auto",
         "title": {
          "text": "Date"
         }
        },
        "yaxis": {
         "anchor": "x",
         "domain": [
          0,
          1
         ],
         "title": {
          "text": "Temporary Help Services"
         }
        }
       }
      }
     },
     "metadata": {},
     "output_type": "display_data"
    },
    {
     "data": {
      "image/png": "[encoded data removed]",
      "text/plain": [
       "<Figure size 640x480 with 1 Axes>"
      ]
     },
     "metadata": {},
     "output_type": "display_data"
    }
   ],
   "source": [
    "unrate[['TEMPHELPS']].plot()\n",
    "fig = px.line(unrate.reset_index(), x=\"DATE\", y=[\"TEMPHELPS\"],\n",
    "              hover_data={\"DATE\": \"|%B %d, %Y\"},\n",
    "              title='Temporary Help Services: Good Proxy for Economic Downturn')\n",
    "fig.update_xaxes(\n",
    "    dtick=\"M1\",\n",
    "    tickmode= 'auto',\n",
    "    tickformat= '%b\\n%Y')\n",
    "\n",
    "fig.update_layout(\n",
    "    autosize=False,\n",
    "    width=800,\n",
    "    height=800,\n",
    "    xaxis_title=\"Date\", \n",
    "    yaxis_title=\"Temporary Help Services\")"
   ]
  }
 ],
 "metadata": {
  "kernelspec": {
   "display_name": "base",
   "language": "python",
   "name": "python3"
  },
  "language_info": {
   "codemirror_mode": {
    "name": "ipython",
    "version": 3
   },
   "file_extension": ".py",
   "mimetype": "text/x-python",
   "name": "python",
   "nbconvert_exporter": "python",
   "pygments_lexer": "ipython3",
   "version": "3.11.5"
  },
  "orig_nbformat": 4,
  "vscode": {
   "interpreter": {
    "hash": "ce5f725fd346bad9d7ce9181c4f9c5dbd2c264f9451b4a3636fc91a40ac7f01a"
   }
  }
 },
 "nbformat": 4,
 "nbformat_minor": 2
}
